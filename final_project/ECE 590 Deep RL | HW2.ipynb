{
 "cells": [
  {
   "cell_type": "markdown",
   "metadata": {},
   "source": [
    "# Please look at the following files for implementation:\n",
    "\n",
    "* Directory: gridworld_env/gridworld.py\n",
    "* Directory: gridworld_env/__init__.py\n",
    "* custom_actor_critic.py\n",
    "* ECE 590 Deep RL | HW2.ipynb"
   ]
  },
  {
   "cell_type": "code",
   "execution_count": 1,
   "metadata": {},
   "outputs": [],
   "source": [
    "%matplotlib inline\n",
    "\n",
    "import argparse\n",
    "import sys\n",
    "from tqdm import trange\n",
    "\n",
    "import numpy as np\n",
    "import matplotlib.pyplot as plt\n",
    "import seaborn as sns\n",
    "np.set_printoptions(precision=4)\n",
    "\n",
    "import gym\n",
    "from gym import wrappers, logger\n",
    "from gridworld_env import gridworld\n",
    "\n",
    "from spinup.utils.mpi_tools import mpi_fork, mpi_avg, proc_id, mpi_statistics_scalar, num_procs\n",
    "from agents import RandomAgent\n",
    "\n",
    "import torch"
   ]
  },
  {
   "cell_type": "markdown",
   "metadata": {},
   "source": [
    "# Problem 1 (a)-(c)"
   ]
  },
  {
   "cell_type": "markdown",
   "metadata": {},
   "source": [
    "##### Solution: Please see the code in the directory - gridworld_env.py. \n",
    "\n",
    "Note that to use the constructor of the custom environment with the official `gym.make` function, we need to first register the environment. Please see the `gridworld_env/__init__.py` on how to register the environment. The constructor of the GridWorld takes the reward matrix via kwargs dictionary defined in `__init__.py`. The environment defined in Example 3.5 (Sutton and Barto) is defined with the environment-id: `GridWorld-v0`. A brief summary of the GridWorld class is as follows:\n",
    "\n",
    "    Description:\n",
    "        Gridworld environment as specified in Sutton and Barto (Example 3.5)\n",
    "    Observation: \n",
    "        Discrete (width*height)\n",
    "    Actions:\n",
    "        Discrete (4)\n",
    "        North, South, West, East\n",
    "    Reward:\n",
    "        Reward as specified in Example 3.5 of Sutton et al.\n",
    "        The reward matrix is specified in __init__.py\n",
    "    Starting State:\n",
    "        Starting state is a location on the grid\n",
    "    Episode Termination:\n",
    "        Episode terminates after MAX_STEPS_PER_EPISODE\n"
   ]
  },
  {
   "cell_type": "markdown",
   "metadata": {},
   "source": [
    "# Problem 1 (d)"
   ]
  },
  {
   "cell_type": "markdown",
   "metadata": {},
   "source": [
    "##### Solution: The custom environment is working and meets the required specification as we will see below when we estimate the state-value function using a random agent.\n"
   ]
  },
  {
   "cell_type": "markdown",
   "metadata": {},
   "source": [
    "# Problem 1 (e)\n",
    "\n",
    "##### Solution: The environment  `GridWorld-v0` corresponds to Example 3.5 (Sutton and Barto). \n",
    "##### Please see the definition in `gridworld_env/__init__.py`."
   ]
  },
  {
   "cell_type": "markdown",
   "metadata": {},
   "source": [
    "# Problem 2 (a)-(b)"
   ]
  },
  {
   "cell_type": "code",
   "execution_count": 2,
   "metadata": {},
   "outputs": [],
   "source": [
    "env_id = 'GridWorld-v0'\n",
    "seed = 1234"
   ]
  },
  {
   "cell_type": "code",
   "execution_count": 3,
   "metadata": {},
   "outputs": [],
   "source": [
    "env = gym.make(env_id)\n",
    "env.seed(seed)\n",
    "agent = RandomAgent(env.action_space)\n",
    "num_episodes = 20000\n",
    "reward = 0.\n",
    "done = False"
   ]
  },
  {
   "cell_type": "code",
   "execution_count": 4,
   "metadata": {},
   "outputs": [],
   "source": [
    "alpha = 0.01\n",
    "gamma = 0.9"
   ]
  },
  {
   "cell_type": "code",
   "execution_count": 5,
   "metadata": {},
   "outputs": [
    {
     "name": "stderr",
     "output_type": "stream",
     "text": [
      " 27%|██▋       | 5346/20000 [00:02<00:06, 2326.83it/s]"
     ]
    },
    {
     "name": "stdout",
     "output_type": "stream",
     "text": [
      "Episode Number: 5000 | Total Reward: 8.0000 \n"
     ]
    },
    {
     "name": "stderr",
     "output_type": "stream",
     "text": [
      " 51%|█████▏    | 10266/20000 [00:04<00:04, 2396.07it/s]"
     ]
    },
    {
     "name": "stdout",
     "output_type": "stream",
     "text": [
      "Episode Number: 10000 | Total Reward: 18.0000 \n"
     ]
    },
    {
     "name": "stderr",
     "output_type": "stream",
     "text": [
      " 77%|███████▋  | 15394/20000 [00:06<00:01, 2423.14it/s]"
     ]
    },
    {
     "name": "stdout",
     "output_type": "stream",
     "text": [
      "Episode Number: 15000 | Total Reward: 3.0000 \n"
     ]
    },
    {
     "name": "stderr",
     "output_type": "stream",
     "text": [
      "100%|██████████| 20000/20000 [00:08<00:00, 2427.41it/s]"
     ]
    },
    {
     "name": "stdout",
     "output_type": "stream",
     "text": [
      "Episode Number: 20000 | Total Reward: -6.0000 \n"
     ]
    },
    {
     "name": "stderr",
     "output_type": "stream",
     "text": [
      "\n"
     ]
    }
   ],
   "source": [
    "V = np.zeros((env.h, env.w))\n",
    "for episode in trange(1, num_episodes+1):\n",
    "    ob = env.reset()\n",
    "    s_old = env.position\n",
    "    rewards = []\n",
    "    while True:\n",
    "        action = agent.act(ob, reward, done)\n",
    "        ob, reward, done, _ = env.step(action)\n",
    "        s_new = env.position\n",
    "        \n",
    "        V[s_old[0], s_old[1]] = V[s_old[0], s_old[1]] + alpha*(reward + gamma*V[s_new[0], s_new[1]] - V[s_old[0], s_old[1]]) \n",
    "        rewards.append(reward)\n",
    "        if done:\n",
    "            break\n",
    "\n",
    "        s_old = s_new\n",
    "        # Note there's no env.render() here. But the environment still can open window and\n",
    "        # render if asked by env.monitor: it calls env.render('rgb_array') to record video.\n",
    "        # Video is not recorded every episode, see capped_cubic_video_schedule for details.\n",
    "    \n",
    "    if episode % 5000 == 0:\n",
    "        print ('Episode Number: {:d} | Total Reward: {:.4f} '.format(episode, np.sum(rewards)))\n",
    "\n",
    "# Close the env and write monitor result info to disk\n",
    "env.close()"
   ]
  },
  {
   "cell_type": "code",
   "execution_count": 6,
   "metadata": {},
   "outputs": [
    {
     "data": {
      "image/png": "[encoded data removed]",
      "text/plain": [
       "<Figure size 432x288 with 2 Axes>"
      ]
     },
     "metadata": {},
     "output_type": "display_data"
    }
   ],
   "source": [
    "sns.set(font_scale = 1.2)\n",
    "ax = sns.heatmap(V, annot=True, fmt=\".2f\", linewidths=.5)\n",
    "ax.set_title('Estimated state-Value for random policy', pad=10, fontsize=12)\n",
    "\n",
    "# We use the convention followed by numpy, \n",
    "# i.e. top-left is (0,0) and x is along the hieght of the grid\n",
    "\n",
    "ax.set_ylabel('X') # X corresponds to the first dimension\n",
    "ax.set_xlabel('Y') # Y corresponds to the second dimension\n",
    "plt.show()"
   ]
  },
  {
   "cell_type": "markdown",
   "metadata": {},
   "source": [
    "# VPG"
   ]
  },
  {
   "cell_type": "markdown",
   "metadata": {},
   "source": [
    "## Problem 3 (a)"
   ]
  },
  {
   "cell_type": "markdown",
   "metadata": {},
   "source": [
    "##### Solution: Trajectory length is set to 20: See the GridWorld class defined in gridworld_env/gridworld.py file"
   ]
  },
  {
   "cell_type": "markdown",
   "metadata": {},
   "source": [
    "## Problem 3 (b)\n",
    "\n",
    "##### Solution: I had to adapt the VPG code and actor-critic code to make the discrete space work. In particular, following files were adapted/modified from the original spinningup code:\n",
    "* vpg.py (env.obs.shape[0] -> env.obs.n) + Return total reward for plotting.\n",
    "* custom_actor_critic.py (line 15: observation_sapce.shape[0] -> observation_space.n)"
   ]
  },
  {
   "cell_type": "code",
   "execution_count": 7,
   "metadata": {},
   "outputs": [],
   "source": [
    "from spinup.utils.run_utils import setup_logger_kwargs\n",
    "logger_kwargs = setup_logger_kwargs('vpg', seed, data_dir='model/')\n",
    "\n",
    "# The following two files were adapted to make\n",
    "# discrete observation space work with vpg.\n",
    "from custom_actor_critic import MLPActorCritic\n",
    "from vpg import vpg as vpg_pytorch"
   ]
  },
  {
   "cell_type": "code",
   "execution_count": 8,
   "metadata": {},
   "outputs": [],
   "source": [
    "hid = 32\n",
    "num_layers = 2\n",
    "gamma = 0.9\n",
    "num_epochs = 2000\n",
    "cpu = 2\n",
    "\n",
    "MAX_STEPS_PER_EPISODE = gridworld.GridWorld.MAX_STEPS_PER_EPISODE\n",
    "steps = MAX_STEPS_PER_EPISODE"
   ]
  },
  {
   "cell_type": "code",
   "execution_count": 9,
   "metadata": {},
   "outputs": [
    {
     "name": "stdout",
     "output_type": "stream",
     "text": [
      "Warning: Log dir model/vpg/vpg_s1234 already exists! Storing info there anyway.\n",
      "\u001b[32;1mLogging data to model/vpg/vpg_s1234/progress.txt\u001b[0m\n",
      "\u001b[36;1mSaving config:\n",
      "\u001b[0m\n",
      "{\n",
      "    \"ac_kwargs\":\t{\n",
      "        \"hidden_sizes\":\t[\n",
      "            32,\n",
      "            32\n",
      "        ]\n",
      "    },\n",
      "    \"actor_critic\":\t\"MLPActorCritic\",\n",
      "    \"env_fn\":\t\"<function <lambda> at 0x7f2dec2dc9e0>\",\n",
      "    \"epochs\":\t2000,\n",
      "    \"exp_name\":\t\"vpg\",\n",
      "    \"gamma\":\t0.9,\n",
      "    \"lam\":\t0.97,\n",
      "    \"logger\":\t{\n",
      "        \"<spinup.utils.logx.EpochLogger object at 0x7f2dec29b810>\":\t{\n",
      "            \"epoch_dict\":\t{},\n",
      "            \"exp_name\":\t\"vpg\",\n",
      "            \"first_row\":\ttrue,\n",
      "            \"log_current_row\":\t{},\n",
      "            \"log_headers\":\t[],\n",
      "            \"output_dir\":\t\"model/vpg/vpg_s1234\",\n",
      "            \"output_file\":\t{\n",
      "                \"<_io.TextIOWrapper name='model/vpg/vpg_s1234/progress.txt' mode='w' encoding='UTF-8'>\":\t{\n",
      "                    \"mode\":\t\"w\"\n",
      "                }\n",
      "            }\n",
      "        }\n",
      "    },\n",
      "    \"logger_kwargs\":\t{\n",
      "        \"exp_name\":\t\"vpg\",\n",
      "        \"output_dir\":\t\"model/vpg/vpg_s1234\"\n",
      "    },\n",
      "    \"max_ep_len\":\t20,\n",
      "    \"pi_lr\":\t0.0003,\n",
      "    \"save_freq\":\t10,\n",
      "    \"seed\":\t1234,\n",
      "    \"steps_per_epoch\":\t20,\n",
      "    \"train_v_iters\":\t80,\n",
      "    \"vf_lr\":\t0.001\n",
      "}\n",
      "This is the obs_dim: 25\n",
      "\u001b[32;1m\n",
      "Number of parameters: \t pi: 2020, \t v: 1921\n",
      "\u001b[0m\n",
      "---------------------------------------\n",
      "|             Epoch |               0 |\n",
      "|      AverageEpRet |             -10 |\n",
      "|          StdEpRet |               0 |\n",
      "|          MaxEpRet |             -10 |\n",
      "|          MinEpRet |             -10 |\n",
      "|             EpLen |              20 |\n",
      "|      AverageVVals |          0.0104 |\n",
      "|          StdVVals |          0.0517 |\n",
      "|          MaxVVals |          0.0522 |\n",
      "|          MinVVals |          -0.072 |\n",
      "| TotalEnvInteracts |              20 |\n",
      "|            LossPi |          0.0568 |\n",
      "|             LossV |            14.2 |\n",
      "|       DeltaLossPi |               0 |\n",
      "|        DeltaLossV |           -12.1 |\n",
      "|           Entropy |            1.38 |\n",
      "|                KL |        5.96e-09 |\n",
      "|              Time |           0.189 |\n",
      "---------------------------------------\n",
      "---------------------------------------\n",
      "|             Epoch |             500 |\n",
      "|      AverageEpRet |            10.5 |\n",
      "|          StdEpRet |            11.1 |\n",
      "|          MaxEpRet |              40 |\n",
      "|          MinEpRet |             -18 |\n",
      "|             EpLen |              20 |\n",
      "|      AverageVVals |            5.59 |\n",
      "|          StdVVals |            4.87 |\n",
      "|          MaxVVals |            19.4 |\n",
      "|          MinVVals |           -6.75 |\n",
      "| TotalEnvInteracts |           1e+04 |\n",
      "|            LossPi |         -0.0779 |\n",
      "|             LossV |            16.4 |\n",
      "|       DeltaLossPi |               0 |\n",
      "|        DeltaLossV |           -12.6 |\n",
      "|           Entropy |            1.13 |\n",
      "|                KL |       -1.91e-10 |\n",
      "|              Time |            62.6 |\n",
      "---------------------------------------\n",
      "---------------------------------------\n",
      "|             Epoch |           1e+03 |\n",
      "|      AverageEpRet |            27.8 |\n",
      "|          StdEpRet |            10.2 |\n",
      "|          MaxEpRet |              40 |\n",
      "|          MinEpRet |             -17 |\n",
      "|             EpLen |              20 |\n",
      "|      AverageVVals |            15.1 |\n",
      "|          StdVVals |            4.18 |\n",
      "|          MaxVVals |            24.6 |\n",
      "|          MinVVals |           -2.17 |\n",
      "| TotalEnvInteracts |           2e+04 |\n",
      "|            LossPi |         -0.0988 |\n",
      "|             LossV |              13 |\n",
      "|       DeltaLossPi |               0 |\n",
      "|        DeltaLossV |           -9.43 |\n",
      "|           Entropy |           0.497 |\n",
      "|                KL |       -1.55e-10 |\n",
      "|              Time |             138 |\n",
      "---------------------------------------\n",
      "---------------------------------------\n",
      "|             Epoch |         1.5e+03 |\n",
      "|      AverageEpRet |            33.6 |\n",
      "|          StdEpRet |            5.95 |\n",
      "|          MaxEpRet |              40 |\n",
      "|          MinEpRet |               1 |\n",
      "|             EpLen |              20 |\n",
      "|      AverageVVals |              18 |\n",
      "|          StdVVals |            3.03 |\n",
      "|          MaxVVals |            24.8 |\n",
      "|          MinVVals |            5.62 |\n",
      "| TotalEnvInteracts |           3e+04 |\n",
      "|            LossPi |         -0.0705 |\n",
      "|             LossV |            2.32 |\n",
      "|       DeltaLossPi |               0 |\n",
      "|        DeltaLossV |           -1.71 |\n",
      "|           Entropy |           0.234 |\n",
      "|                KL |       -3.52e-10 |\n",
      "|              Time |             219 |\n",
      "---------------------------------------\n"
     ]
    }
   ],
   "source": [
    "epoch_reward = vpg_pytorch(lambda : gym.make(env_id), actor_critic=MLPActorCritic,\n",
    "                            ac_kwargs=dict(hidden_sizes=[hid]*num_layers), gamma=gamma, \n",
    "                            seed=seed, steps_per_epoch=steps, epochs=num_epochs,\n",
    "                            logger_kwargs=logger_kwargs, max_ep_len=MAX_STEPS_PER_EPISODE)\n"
   ]
  },
  {
   "cell_type": "markdown",
   "metadata": {},
   "source": [
    "## Problem 3 (c)"
   ]
  },
  {
   "cell_type": "code",
   "execution_count": 10,
   "metadata": {},
   "outputs": [
    {
     "data": {
      "image/png": "[encoded data removed]",
      "text/plain": [
       "<Figure size 432x288 with 1 Axes>"
      ]
     },
     "metadata": {},
     "output_type": "display_data"
    }
   ],
   "source": [
    "plt.plot(epoch_reward)\n",
    "plt.ylabel('Total Reward (20 steps)', fontsize=12)\n",
    "plt.xlabel('Number of episodes', fontsize=12)\n",
    "plt.show()"
   ]
  },
  {
   "cell_type": "markdown",
   "metadata": {},
   "source": [
    "## Problem 3 (d)"
   ]
  },
  {
   "cell_type": "code",
   "execution_count": 11,
   "metadata": {},
   "outputs": [],
   "source": [
    "ac = torch.load('model/vpg/vpg_s1234/pyt_save/model.pt')"
   ]
  },
  {
   "cell_type": "code",
   "execution_count": 12,
   "metadata": {},
   "outputs": [],
   "source": [
    "dummy_env = gym.make(env_id)\n",
    "all_obs = dummy_env.all_state"
   ]
  },
  {
   "cell_type": "code",
   "execution_count": 13,
   "metadata": {},
   "outputs": [],
   "source": [
    "with torch.no_grad():\n",
    "    value = ac.v(torch.as_tensor(all_obs, dtype=torch.float32))\n",
    "V = np.reshape(value.numpy(), (dummy_env.h, dummy_env.w))"
   ]
  },
  {
   "cell_type": "code",
   "execution_count": 14,
   "metadata": {},
   "outputs": [
    {
     "data": {
      "image/png": "[encoded data removed]",
      "text/plain": [
       "<Figure size 432x288 with 2 Axes>"
      ]
     },
     "metadata": {},
     "output_type": "display_data"
    }
   ],
   "source": [
    "sns.set(font_scale = 1.2)\n",
    "ax = sns.heatmap(V, annot=True, fmt=\".2f\", linewidths=.5)\n",
    "ax.set_title('State-Value Function using VPG with GAE', pad=10, fontsize=12)\n",
    "\n",
    "# We use the convention followed by numpy, \n",
    "# i.e. top-left is (0,0) and x is along the hieght of the grid\n",
    "\n",
    "ax.set_ylabel('X') # X corresponds to the first dimension\n",
    "ax.set_xlabel('Y') # Y corresponds to the second dimension\n",
    "plt.show()"
   ]
  },
  {
   "cell_type": "code",
   "execution_count": null,
   "metadata": {},
   "outputs": [],
   "source": []
  }
 ],
 "metadata": {
  "kernelspec": {
   "display_name": "Python 3",
   "language": "python",
   "name": "python3"
  },
  "language_info": {
   "codemirror_mode": {
    "name": "ipython",
    "version": 3
   },
   "file_extension": ".py",
   "mimetype": "text/x-python",
   "name": "python",
   "nbconvert_exporter": "python",
   "pygments_lexer": "ipython3",
   "version": "3.7.4"
  }
 },
 "nbformat": 4,
 "nbformat_minor": 2
}
