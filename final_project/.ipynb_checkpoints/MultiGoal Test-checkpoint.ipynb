{
 "cells": [
  {
   "cell_type": "raw",
   "metadata": {},
   "source": [
    "! pip install dm-tree"
   ]
  },
  {
   "cell_type": "markdown",
   "metadata": {},
   "source": [
    "# Exploration Test sandbox"
   ]
  },
  {
   "cell_type": "code",
   "execution_count": 1,
   "metadata": {},
   "outputs": [],
   "source": [
    "%matplotlib notebook\n",
    "\n",
    "import argparse\n",
    "import sys\n",
    "from tqdm import trange\n",
    "\n",
    "import numpy as np\n",
    "import matplotlib.pyplot as plt\n",
    "import seaborn as sns\n",
    "np.set_printoptions(precision=4)\n",
    "\n",
    "import gym\n",
    "from gym import wrappers, logger\n",
    "\n",
    "from multigoal_env.multigoal import MultiGoal\n",
    "\n",
    "from spinup.utils.mpi_tools import mpi_fork, mpi_avg, proc_id, mpi_statistics_scalar, num_procs\n",
    "from agents import RandomAgent\n",
    "\n",
    "import torch\n",
    "import tree"
   ]
  },
  {
   "cell_type": "markdown",
   "metadata": {},
   "source": [
    "# Multi Goal Environment\n",
    "\n",
    "## The code for multi goal is written in the `multigoal_env` folder\n",
    "## The enviroment is registered in `__init__.py` and defined in `multigoal.py`\n",
    "\n",
    "#### About multigoal environment: The multigoal environment depicts a 2D state space with multimodal rewards. In many applications, we want to learn a policy that achieves high reward via distinct trajectories. The multigoal enviroment is a nice and easy test bed to test various RL algorithms for such multimodal reward setting.\n",
    "\n"
   ]
  },
  {
   "cell_type": "code",
   "execution_count": 2,
   "metadata": {},
   "outputs": [],
   "source": [
    "env_id = 'MultiGoal-v0'\n",
    "seed = 1234"
   ]
  },
  {
   "cell_type": "code",
   "execution_count": 3,
   "metadata": {},
   "outputs": [],
   "source": [
    "# Testing VPG"
   ]
  },
  {
   "cell_type": "code",
   "execution_count": 3,
   "metadata": {},
   "outputs": [],
   "source": [
    "from spinup.utils.run_utils import setup_logger_kwargs\n",
    "logger_kwargs = setup_logger_kwargs('vpg', seed, data_dir='model/')\n",
    "\n",
    "# The following two files were adapted to make\n",
    "# discrete observation space work with vpg.\n",
    "from custom_actor_critic import MLPActorCritic\n",
    "from vpg import vpg as vpg_pytorch"
   ]
  },
  {
   "cell_type": "code",
   "execution_count": 8,
   "metadata": {},
   "outputs": [],
   "source": [
    "hid = 10\n",
    "num_layers = 2\n",
    "gamma = 0.9\n",
    "num_epochs = 1000\n",
    "cpu = 2\n",
    "\n",
    "MAX_STEPS_PER_EPISODE = 1000\n",
    "steps = MAX_STEPS_PER_EPISODE"
   ]
  },
  {
   "cell_type": "code",
   "execution_count": 9,
   "metadata": {},
   "outputs": [
    {
     "name": "stdout",
     "output_type": "stream",
     "text": [
      "Warning: Log dir model/vpg/vpg_s1234 already exists! Storing info there anyway.\n",
      "\u001b[32;1mLogging data to model/vpg/vpg_s1234/progress.txt\u001b[0m\n",
      "\u001b[36;1mSaving config:\n",
      "\u001b[0m\n",
      "{\n",
      "    \"ac_kwargs\":\t{\n",
      "        \"hidden_sizes\":\t[\n",
      "            10,\n",
      "            10\n",
      "        ]\n",
      "    },\n",
      "    \"actor_critic\":\t\"MLPActorCritic\",\n",
      "    \"env_fn\":\t\"<function <lambda> at 0x7fc0b43303b0>\",\n",
      "    \"epochs\":\t1000,\n",
      "    \"exp_name\":\t\"vpg\",\n",
      "    \"gamma\":\t0.9,\n",
      "    \"lam\":\t0.97,\n",
      "    \"logger\":\t{\n",
      "        \"<spinup.utils.logx.EpochLogger object at 0x7fc1441a1650>\":\t{\n",
      "            \"epoch_dict\":\t{},\n",
      "            \"exp_name\":\t\"vpg\",\n",
      "            \"first_row\":\ttrue,\n",
      "            \"log_current_row\":\t{},\n",
      "            \"log_headers\":\t[],\n",
      "            \"output_dir\":\t\"model/vpg/vpg_s1234\",\n",
      "            \"output_file\":\t{\n",
      "                \"<_io.TextIOWrapper name='model/vpg/vpg_s1234/progress.txt' mode='w' encoding='UTF-8'>\":\t{\n",
      "                    \"mode\":\t\"w\"\n",
      "                }\n",
      "            }\n",
      "        }\n",
      "    },\n",
      "    \"logger_kwargs\":\t{\n",
      "        \"exp_name\":\t\"vpg\",\n",
      "        \"output_dir\":\t\"model/vpg/vpg_s1234\"\n",
      "    },\n",
      "    \"max_ep_len\":\t1000,\n",
      "    \"pi_lr\":\t0.0003,\n",
      "    \"save_freq\":\t10,\n",
      "    \"seed\":\t1234,\n",
      "    \"steps_per_epoch\":\t1000,\n",
      "    \"train_v_iters\":\t80,\n",
      "    \"vf_lr\":\t0.001\n",
      "}\n",
      "This is the obs_dim: 2\n",
      "This is the action space:  2\n",
      "Hidden sizes:  [10, 10]\n",
      "\u001b[32;1m\n",
      "Number of parameters: \t pi: 164, \t v: 151\n",
      "\u001b[0m\n"
     ]
    },
    {
     "name": "stderr",
     "output_type": "stream",
     "text": [
      "/opt/conda/lib/python3.7/site-packages/gym/logger.py:30: UserWarning: \u001b[33mWARN: Box bound precision lowered by casting to float32\u001b[0m\n",
      "  warnings.warn(colorize('%s: %s'%('WARN', msg % args), 'yellow'))\n"
     ]
    },
    {
     "name": "stdout",
     "output_type": "stream",
     "text": [
      "Warning: trajectory cut off by epoch at 326 steps.\n",
      "---------------------------------------\n",
      "|             Epoch |               0 |\n",
      "|      AverageEpRet |       -8.87e+03 |\n",
      "|          StdEpRet |        1.31e+04 |\n",
      "|          MaxEpRet |            -377 |\n",
      "|          MinEpRet |       -3.14e+04 |\n",
      "|             EpLen |             168 |\n",
      "|      AverageVVals |           0.104 |\n",
      "|          StdVVals |          0.0567 |\n",
      "|          MaxVVals |           0.521 |\n",
      "|          MinVVals |         -0.0193 |\n",
      "| TotalEnvInteracts |           1e+03 |\n",
      "|            LossPi |        -0.00361 |\n",
      "|             LossV |        3.19e+05 |\n",
      "|       DeltaLossPi |               0 |\n",
      "|        DeltaLossV |       -1.29e+03 |\n",
      "|           Entropy |           0.919 |\n",
      "|                KL |        -3.1e-09 |\n",
      "|              Time |             2.8 |\n",
      "---------------------------------------\n"
     ]
    },
    {
     "name": "stderr",
     "output_type": "stream",
     "text": [
      "/opt/conda/lib/python3.7/site-packages/gym/logger.py:30: UserWarning: \u001b[33mWARN: Box bound precision lowered by casting to float32\u001b[0m\n",
      "  warnings.warn(colorize('%s: %s'%('WARN', msg % args), 'yellow'))\n"
     ]
    },
    {
     "name": "stdout",
     "output_type": "stream",
     "text": [
      "Warning: trajectory cut off by epoch at 193 steps.\n",
      "Warning: trajectory cut off by epoch at 292 steps.\n",
      "Warning: trajectory cut off by epoch at 82 steps.\n",
      "Warning: trajectory cut off by epoch at 419 steps.\n",
      "Warning: trajectory cut off by epoch at 387 steps.\n",
      "Warning: trajectory cut off by epoch at 523 steps.\n",
      "Warning: trajectory cut off by epoch at 189 steps.\n",
      "Warning: trajectory cut off by epoch at 38 steps.\n",
      "Warning: trajectory cut off by epoch at 588 steps.\n",
      "Warning: trajectory cut off by epoch at 279 steps.\n"
     ]
    },
    {
     "name": "stderr",
     "output_type": "stream",
     "text": [
      "/opt/conda/lib/python3.7/site-packages/gym/logger.py:30: UserWarning: \u001b[33mWARN: Box bound precision lowered by casting to float32\u001b[0m\n",
      "  warnings.warn(colorize('%s: %s'%('WARN', msg % args), 'yellow'))\n"
     ]
    },
    {
     "name": "stdout",
     "output_type": "stream",
     "text": [
      "Warning: trajectory cut off by epoch at 78 steps.\n",
      "Warning: trajectory cut off by epoch at 20 steps.\n",
      "Warning: trajectory cut off by epoch at 181 steps.\n",
      "Warning: trajectory cut off by epoch at 3 steps.\n",
      "Warning: trajectory cut off by epoch at 56 steps.\n",
      "Warning: trajectory cut off by epoch at 21 steps.\n",
      "Warning: trajectory cut off by epoch at 60 steps.\n",
      "Warning: trajectory cut off by epoch at 25 steps.\n",
      "Warning: trajectory cut off by epoch at 102 steps.\n",
      "Warning: trajectory cut off by epoch at 20 steps.\n"
     ]
    },
    {
     "name": "stderr",
     "output_type": "stream",
     "text": [
      "/opt/conda/lib/python3.7/site-packages/gym/logger.py:30: UserWarning: \u001b[33mWARN: Box bound precision lowered by casting to float32\u001b[0m\n",
      "  warnings.warn(colorize('%s: %s'%('WARN', msg % args), 'yellow'))\n"
     ]
    },
    {
     "name": "stdout",
     "output_type": "stream",
     "text": [
      "Warning: trajectory cut off by epoch at 329 steps.\n",
      "Warning: trajectory cut off by epoch at 10 steps.\n",
      "Warning: trajectory cut off by epoch at 9 steps.\n",
      "Warning: trajectory cut off by epoch at 5 steps.\n",
      "Warning: trajectory cut off by epoch at 127 steps.\n",
      "Warning: trajectory cut off by epoch at 119 steps.\n",
      "Warning: trajectory cut off by epoch at 63 steps.\n",
      "Warning: trajectory cut off by epoch at 337 steps.\n",
      "Warning: trajectory cut off by epoch at 42 steps.\n",
      "Warning: trajectory cut off by epoch at 3 steps.\n"
     ]
    },
    {
     "name": "stderr",
     "output_type": "stream",
     "text": [
      "/opt/conda/lib/python3.7/site-packages/gym/logger.py:30: UserWarning: \u001b[33mWARN: Box bound precision lowered by casting to float32\u001b[0m\n",
      "  warnings.warn(colorize('%s: %s'%('WARN', msg % args), 'yellow'))\n"
     ]
    },
    {
     "name": "stdout",
     "output_type": "stream",
     "text": [
      "Warning: trajectory cut off by epoch at 12 steps.\n",
      "Warning: trajectory cut off by epoch at 152 steps.\n",
      "Warning: trajectory cut off by epoch at 89 steps.\n",
      "Warning: trajectory cut off by epoch at 171 steps.\n",
      "Warning: trajectory cut off by epoch at 51 steps.\n",
      "Warning: trajectory cut off by epoch at 23 steps.\n",
      "Warning: trajectory cut off by epoch at 17 steps.\n",
      "Warning: trajectory cut off by epoch at 15 steps.\n",
      "Warning: trajectory cut off by epoch at 11 steps.\n",
      "Warning: trajectory cut off by epoch at 52 steps.\n"
     ]
    },
    {
     "name": "stderr",
     "output_type": "stream",
     "text": [
      "/opt/conda/lib/python3.7/site-packages/gym/logger.py:30: UserWarning: \u001b[33mWARN: Box bound precision lowered by casting to float32\u001b[0m\n",
      "  warnings.warn(colorize('%s: %s'%('WARN', msg % args), 'yellow'))\n"
     ]
    },
    {
     "name": "stdout",
     "output_type": "stream",
     "text": [
      "Warning: trajectory cut off by epoch at 8 steps.\n",
      "Warning: trajectory cut off by epoch at 46 steps.\n",
      "Warning: trajectory cut off by epoch at 52 steps.\n",
      "Warning: trajectory cut off by epoch at 24 steps.\n",
      "Warning: trajectory cut off by epoch at 21 steps.\n",
      "Warning: trajectory cut off by epoch at 6 steps.\n",
      "Warning: trajectory cut off by epoch at 49 steps.\n",
      "Warning: trajectory cut off by epoch at 10 steps.\n",
      "Warning: trajectory cut off by epoch at 293 steps.\n",
      "Warning: trajectory cut off by epoch at 14 steps.\n"
     ]
    },
    {
     "name": "stderr",
     "output_type": "stream",
     "text": [
      "/opt/conda/lib/python3.7/site-packages/gym/logger.py:30: UserWarning: \u001b[33mWARN: Box bound precision lowered by casting to float32\u001b[0m\n",
      "  warnings.warn(colorize('%s: %s'%('WARN', msg % args), 'yellow'))\n"
     ]
    },
    {
     "name": "stdout",
     "output_type": "stream",
     "text": [
      "Warning: trajectory cut off by epoch at 35 steps.\n",
      "Warning: trajectory cut off by epoch at 14 steps.\n",
      "Warning: trajectory cut off by epoch at 25 steps.\n",
      "Warning: trajectory cut off by epoch at 7 steps.\n",
      "Warning: trajectory cut off by epoch at 23 steps.\n",
      "Warning: trajectory cut off by epoch at 133 steps.\n",
      "Warning: trajectory cut off by epoch at 10 steps.\n",
      "Warning: trajectory cut off by epoch at 45 steps.\n",
      "Warning: trajectory cut off by epoch at 26 steps.\n"
     ]
    },
    {
     "name": "stderr",
     "output_type": "stream",
     "text": [
      "/opt/conda/lib/python3.7/site-packages/gym/logger.py:30: UserWarning: \u001b[33mWARN: Box bound precision lowered by casting to float32\u001b[0m\n",
      "  warnings.warn(colorize('%s: %s'%('WARN', msg % args), 'yellow'))\n"
     ]
    },
    {
     "name": "stdout",
     "output_type": "stream",
     "text": [
      "Warning: trajectory cut off by epoch at 3 steps.\n",
      "Warning: trajectory cut off by epoch at 16 steps.\n",
      "Warning: trajectory cut off by epoch at 48 steps.\n",
      "Warning: trajectory cut off by epoch at 127 steps.\n",
      "Warning: trajectory cut off by epoch at 4 steps.\n",
      "Warning: trajectory cut off by epoch at 7 steps.\n",
      "Warning: trajectory cut off by epoch at 30 steps.\n",
      "Warning: trajectory cut off by epoch at 51 steps.\n",
      "Warning: trajectory cut off by epoch at 20 steps.\n",
      "Warning: trajectory cut off by epoch at 70 steps.\n"
     ]
    },
    {
     "name": "stderr",
     "output_type": "stream",
     "text": [
      "/opt/conda/lib/python3.7/site-packages/gym/logger.py:30: UserWarning: \u001b[33mWARN: Box bound precision lowered by casting to float32\u001b[0m\n",
      "  warnings.warn(colorize('%s: %s'%('WARN', msg % args), 'yellow'))\n"
     ]
    },
    {
     "name": "stdout",
     "output_type": "stream",
     "text": [
      "Warning: trajectory cut off by epoch at 32 steps.\n",
      "Warning: trajectory cut off by epoch at 86 steps.\n",
      "Warning: trajectory cut off by epoch at 7 steps.\n",
      "Warning: trajectory cut off by epoch at 4 steps.\n",
      "Warning: trajectory cut off by epoch at 22 steps.\n",
      "Warning: trajectory cut off by epoch at 3 steps.\n",
      "Warning: trajectory cut off by epoch at 49 steps.\n",
      "Warning: trajectory cut off by epoch at 22 steps.\n",
      "Warning: trajectory cut off by epoch at 15 steps.\n",
      "Warning: trajectory cut off by epoch at 17 steps.\n"
     ]
    },
    {
     "name": "stderr",
     "output_type": "stream",
     "text": [
      "/opt/conda/lib/python3.7/site-packages/gym/logger.py:30: UserWarning: \u001b[33mWARN: Box bound precision lowered by casting to float32\u001b[0m\n",
      "  warnings.warn(colorize('%s: %s'%('WARN', msg % args), 'yellow'))\n"
     ]
    },
    {
     "name": "stdout",
     "output_type": "stream",
     "text": [
      "Warning: trajectory cut off by epoch at 100 steps.\n",
      "Warning: trajectory cut off by epoch at 20 steps.\n",
      "Warning: trajectory cut off by epoch at 25 steps.\n",
      "Warning: trajectory cut off by epoch at 7 steps.\n",
      "Warning: trajectory cut off by epoch at 5 steps.\n",
      "Warning: trajectory cut off by epoch at 3 steps.\n",
      "Warning: trajectory cut off by epoch at 2 steps.\n",
      "Warning: trajectory cut off by epoch at 1 steps.\n",
      "Warning: trajectory cut off by epoch at 22 steps.\n",
      "Warning: trajectory cut off by epoch at 17 steps.\n"
     ]
    },
    {
     "name": "stderr",
     "output_type": "stream",
     "text": [
      "/opt/conda/lib/python3.7/site-packages/gym/logger.py:30: UserWarning: \u001b[33mWARN: Box bound precision lowered by casting to float32\u001b[0m\n",
      "  warnings.warn(colorize('%s: %s'%('WARN', msg % args), 'yellow'))\n"
     ]
    },
    {
     "name": "stdout",
     "output_type": "stream",
     "text": [
      "Warning: trajectory cut off by epoch at 45 steps.\n",
      "Warning: trajectory cut off by epoch at 111 steps.\n",
      "Warning: trajectory cut off by epoch at 35 steps.\n",
      "Warning: trajectory cut off by epoch at 143 steps.\n",
      "Warning: trajectory cut off by epoch at 12 steps.\n",
      "Warning: trajectory cut off by epoch at 22 steps.\n",
      "Warning: trajectory cut off by epoch at 42 steps.\n",
      "Warning: trajectory cut off by epoch at 87 steps.\n",
      "Warning: trajectory cut off by epoch at 25 steps.\n",
      "Warning: trajectory cut off by epoch at 22 steps.\n"
     ]
    },
    {
     "name": "stderr",
     "output_type": "stream",
     "text": [
      "/opt/conda/lib/python3.7/site-packages/gym/logger.py:30: UserWarning: \u001b[33mWARN: Box bound precision lowered by casting to float32\u001b[0m\n",
      "  warnings.warn(colorize('%s: %s'%('WARN', msg % args), 'yellow'))\n"
     ]
    },
    {
     "name": "stdout",
     "output_type": "stream",
     "text": [
      "Warning: trajectory cut off by epoch at 106 steps.\n",
      "Warning: trajectory cut off by epoch at 53 steps.\n",
      "Warning: trajectory cut off by epoch at 16 steps.\n",
      "Warning: trajectory cut off by epoch at 56 steps.\n",
      "Warning: trajectory cut off by epoch at 12 steps.\n",
      "Warning: trajectory cut off by epoch at 22 steps.\n",
      "Warning: trajectory cut off by epoch at 49 steps.\n",
      "Warning: trajectory cut off by epoch at 12 steps.\n",
      "Warning: trajectory cut off by epoch at 8 steps.\n",
      "Warning: trajectory cut off by epoch at 93 steps.\n"
     ]
    },
    {
     "name": "stderr",
     "output_type": "stream",
     "text": [
      "/opt/conda/lib/python3.7/site-packages/gym/logger.py:30: UserWarning: \u001b[33mWARN: Box bound precision lowered by casting to float32\u001b[0m\n",
      "  warnings.warn(colorize('%s: %s'%('WARN', msg % args), 'yellow'))\n"
     ]
    },
    {
     "name": "stdout",
     "output_type": "stream",
     "text": [
      "Warning: trajectory cut off by epoch at 2 steps.\n",
      "Warning: trajectory cut off by epoch at 27 steps.\n",
      "Warning: trajectory cut off by epoch at 67 steps.\n",
      "Warning: trajectory cut off by epoch at 22 steps.\n",
      "Warning: trajectory cut off by epoch at 13 steps.\n",
      "Warning: trajectory cut off by epoch at 7 steps.\n",
      "Warning: trajectory cut off by epoch at 23 steps.\n",
      "Warning: trajectory cut off by epoch at 12 steps.\n",
      "Warning: trajectory cut off by epoch at 74 steps.\n",
      "Warning: trajectory cut off by epoch at 24 steps.\n"
     ]
    },
    {
     "name": "stderr",
     "output_type": "stream",
     "text": [
      "/opt/conda/lib/python3.7/site-packages/gym/logger.py:30: UserWarning: \u001b[33mWARN: Box bound precision lowered by casting to float32\u001b[0m\n",
      "  warnings.warn(colorize('%s: %s'%('WARN', msg % args), 'yellow'))\n"
     ]
    },
    {
     "name": "stdout",
     "output_type": "stream",
     "text": [
      "Warning: trajectory cut off by epoch at 12 steps.\n",
      "Warning: trajectory cut off by epoch at 17 steps.\n",
      "Warning: trajectory cut off by epoch at 12 steps.\n",
      "Warning: trajectory cut off by epoch at 29 steps.\n",
      "Warning: trajectory cut off by epoch at 15 steps.\n",
      "Warning: trajectory cut off by epoch at 11 steps.\n",
      "Warning: trajectory cut off by epoch at 58 steps.\n",
      "Warning: trajectory cut off by epoch at 22 steps.\n",
      "Warning: trajectory cut off by epoch at 49 steps.\n",
      "Warning: trajectory cut off by epoch at 1 steps.\n"
     ]
    },
    {
     "name": "stderr",
     "output_type": "stream",
     "text": [
      "/opt/conda/lib/python3.7/site-packages/gym/logger.py:30: UserWarning: \u001b[33mWARN: Box bound precision lowered by casting to float32\u001b[0m\n",
      "  warnings.warn(colorize('%s: %s'%('WARN', msg % args), 'yellow'))\n"
     ]
    },
    {
     "name": "stdout",
     "output_type": "stream",
     "text": [
      "Warning: trajectory cut off by epoch at 74 steps.\n",
      "Warning: trajectory cut off by epoch at 7 steps.\n",
      "Warning: trajectory cut off by epoch at 67 steps.\n",
      "Warning: trajectory cut off by epoch at 35 steps.\n",
      "Warning: trajectory cut off by epoch at 9 steps.\n",
      "Warning: trajectory cut off by epoch at 3 steps.\n",
      "Warning: trajectory cut off by epoch at 2 steps.\n",
      "Warning: trajectory cut off by epoch at 28 steps.\n",
      "Warning: trajectory cut off by epoch at 12 steps.\n"
     ]
    },
    {
     "name": "stderr",
     "output_type": "stream",
     "text": [
      "/opt/conda/lib/python3.7/site-packages/gym/logger.py:30: UserWarning: \u001b[33mWARN: Box bound precision lowered by casting to float32\u001b[0m\n",
      "  warnings.warn(colorize('%s: %s'%('WARN', msg % args), 'yellow'))\n"
     ]
    },
    {
     "name": "stdout",
     "output_type": "stream",
     "text": [
      "Warning: trajectory cut off by epoch at 10 steps.\n",
      "Warning: trajectory cut off by epoch at 9 steps.\n",
      "Warning: trajectory cut off by epoch at 15 steps.\n",
      "Warning: trajectory cut off by epoch at 3 steps.\n",
      "Warning: trajectory cut off by epoch at 8 steps.\n",
      "Warning: trajectory cut off by epoch at 64 steps.\n",
      "Warning: trajectory cut off by epoch at 12 steps.\n",
      "Warning: trajectory cut off by epoch at 7 steps.\n",
      "Warning: trajectory cut off by epoch at 71 steps.\n",
      "Warning: trajectory cut off by epoch at 16 steps.\n"
     ]
    },
    {
     "name": "stderr",
     "output_type": "stream",
     "text": [
      "/opt/conda/lib/python3.7/site-packages/gym/logger.py:30: UserWarning: \u001b[33mWARN: Box bound precision lowered by casting to float32\u001b[0m\n",
      "  warnings.warn(colorize('%s: %s'%('WARN', msg % args), 'yellow'))\n"
     ]
    },
    {
     "name": "stdout",
     "output_type": "stream",
     "text": [
      "Warning: trajectory cut off by epoch at 25 steps.\n",
      "Warning: trajectory cut off by epoch at 86 steps.\n",
      "Warning: trajectory cut off by epoch at 33 steps.\n",
      "Warning: trajectory cut off by epoch at 3 steps.\n",
      "Warning: trajectory cut off by epoch at 2 steps.\n",
      "Warning: trajectory cut off by epoch at 5 steps.\n",
      "Warning: trajectory cut off by epoch at 10 steps.\n",
      "Warning: trajectory cut off by epoch at 10 steps.\n",
      "Warning: trajectory cut off by epoch at 46 steps.\n",
      "Warning: trajectory cut off by epoch at 14 steps.\n"
     ]
    },
    {
     "name": "stderr",
     "output_type": "stream",
     "text": [
      "/opt/conda/lib/python3.7/site-packages/gym/logger.py:30: UserWarning: \u001b[33mWARN: Box bound precision lowered by casting to float32\u001b[0m\n",
      "  warnings.warn(colorize('%s: %s'%('WARN', msg % args), 'yellow'))\n"
     ]
    },
    {
     "name": "stdout",
     "output_type": "stream",
     "text": [
      "Warning: trajectory cut off by epoch at 103 steps.\n",
      "Warning: trajectory cut off by epoch at 7 steps.\n",
      "Warning: trajectory cut off by epoch at 8 steps.\n",
      "Warning: trajectory cut off by epoch at 9 steps.\n",
      "Warning: trajectory cut off by epoch at 10 steps.\n",
      "Warning: trajectory cut off by epoch at 12 steps.\n",
      "Warning: trajectory cut off by epoch at 2 steps.\n",
      "Warning: trajectory cut off by epoch at 40 steps.\n",
      "Warning: trajectory cut off by epoch at 3 steps.\n",
      "Warning: trajectory cut off by epoch at 16 steps.\n"
     ]
    },
    {
     "name": "stderr",
     "output_type": "stream",
     "text": [
      "/opt/conda/lib/python3.7/site-packages/gym/logger.py:30: UserWarning: \u001b[33mWARN: Box bound precision lowered by casting to float32\u001b[0m\n",
      "  warnings.warn(colorize('%s: %s'%('WARN', msg % args), 'yellow'))\n"
     ]
    },
    {
     "name": "stdout",
     "output_type": "stream",
     "text": [
      "Warning: trajectory cut off by epoch at 31 steps.\n",
      "Warning: trajectory cut off by epoch at 5 steps.\n",
      "Warning: trajectory cut off by epoch at 3 steps.\n",
      "Warning: trajectory cut off by epoch at 10 steps.\n",
      "Warning: trajectory cut off by epoch at 1 steps.\n",
      "Warning: trajectory cut off by epoch at 2 steps.\n",
      "Warning: trajectory cut off by epoch at 4 steps.\n",
      "Warning: trajectory cut off by epoch at 75 steps.\n",
      "Warning: trajectory cut off by epoch at 11 steps.\n",
      "Warning: trajectory cut off by epoch at 4 steps.\n"
     ]
    },
    {
     "name": "stderr",
     "output_type": "stream",
     "text": [
      "/opt/conda/lib/python3.7/site-packages/gym/logger.py:30: UserWarning: \u001b[33mWARN: Box bound precision lowered by casting to float32\u001b[0m\n",
      "  warnings.warn(colorize('%s: %s'%('WARN', msg % args), 'yellow'))\n"
     ]
    },
    {
     "name": "stdout",
     "output_type": "stream",
     "text": [
      "Warning: trajectory cut off by epoch at 109 steps.\n",
      "Warning: trajectory cut off by epoch at 83 steps.\n",
      "Warning: trajectory cut off by epoch at 7 steps.\n",
      "Warning: trajectory cut off by epoch at 18 steps.\n",
      "Warning: trajectory cut off by epoch at 45 steps.\n",
      "Warning: trajectory cut off by epoch at 91 steps.\n",
      "Warning: trajectory cut off by epoch at 27 steps.\n",
      "Warning: trajectory cut off by epoch at 6 steps.\n",
      "Warning: trajectory cut off by epoch at 3 steps.\n",
      "Warning: trajectory cut off by epoch at 6 steps.\n"
     ]
    },
    {
     "name": "stderr",
     "output_type": "stream",
     "text": [
      "/opt/conda/lib/python3.7/site-packages/gym/logger.py:30: UserWarning: \u001b[33mWARN: Box bound precision lowered by casting to float32\u001b[0m\n",
      "  warnings.warn(colorize('%s: %s'%('WARN', msg % args), 'yellow'))\n"
     ]
    },
    {
     "name": "stdout",
     "output_type": "stream",
     "text": [
      "Warning: trajectory cut off by epoch at 15 steps.\n",
      "Warning: trajectory cut off by epoch at 29 steps.\n",
      "Warning: trajectory cut off by epoch at 28 steps.\n",
      "Warning: trajectory cut off by epoch at 11 steps.\n",
      "Warning: trajectory cut off by epoch at 14 steps.\n",
      "Warning: trajectory cut off by epoch at 13 steps.\n",
      "Warning: trajectory cut off by epoch at 24 steps.\n",
      "Warning: trajectory cut off by epoch at 47 steps.\n",
      "Warning: trajectory cut off by epoch at 88 steps.\n",
      "Warning: trajectory cut off by epoch at 11 steps.\n"
     ]
    },
    {
     "name": "stderr",
     "output_type": "stream",
     "text": [
      "/opt/conda/lib/python3.7/site-packages/gym/logger.py:30: UserWarning: \u001b[33mWARN: Box bound precision lowered by casting to float32\u001b[0m\n",
      "  warnings.warn(colorize('%s: %s'%('WARN', msg % args), 'yellow'))\n"
     ]
    },
    {
     "name": "stdout",
     "output_type": "stream",
     "text": [
      "Warning: trajectory cut off by epoch at 8 steps.\n",
      "Warning: trajectory cut off by epoch at 21 steps.\n",
      "Warning: trajectory cut off by epoch at 12 steps.\n",
      "Warning: trajectory cut off by epoch at 23 steps.\n",
      "Warning: trajectory cut off by epoch at 25 steps.\n",
      "Warning: trajectory cut off by epoch at 12 steps.\n",
      "Warning: trajectory cut off by epoch at 10 steps.\n",
      "Warning: trajectory cut off by epoch at 12 steps.\n",
      "Warning: trajectory cut off by epoch at 9 steps.\n"
     ]
    },
    {
     "name": "stderr",
     "output_type": "stream",
     "text": [
      "/opt/conda/lib/python3.7/site-packages/gym/logger.py:30: UserWarning: \u001b[33mWARN: Box bound precision lowered by casting to float32\u001b[0m\n",
      "  warnings.warn(colorize('%s: %s'%('WARN', msg % args), 'yellow'))\n"
     ]
    },
    {
     "name": "stdout",
     "output_type": "stream",
     "text": [
      "Warning: trajectory cut off by epoch at 5 steps.\n",
      "Warning: trajectory cut off by epoch at 45 steps.\n",
      "Warning: trajectory cut off by epoch at 49 steps.\n",
      "Warning: trajectory cut off by epoch at 34 steps.\n",
      "Warning: trajectory cut off by epoch at 37 steps.\n",
      "Warning: trajectory cut off by epoch at 28 steps.\n",
      "Warning: trajectory cut off by epoch at 2 steps.\n",
      "Warning: trajectory cut off by epoch at 6 steps.\n",
      "Warning: trajectory cut off by epoch at 2 steps.\n",
      "Warning: trajectory cut off by epoch at 38 steps.\n"
     ]
    },
    {
     "name": "stderr",
     "output_type": "stream",
     "text": [
      "/opt/conda/lib/python3.7/site-packages/gym/logger.py:30: UserWarning: \u001b[33mWARN: Box bound precision lowered by casting to float32\u001b[0m\n",
      "  warnings.warn(colorize('%s: %s'%('WARN', msg % args), 'yellow'))\n"
     ]
    },
    {
     "name": "stdout",
     "output_type": "stream",
     "text": [
      "Warning: trajectory cut off by epoch at 4 steps.\n",
      "Warning: trajectory cut off by epoch at 5 steps.\n",
      "Warning: trajectory cut off by epoch at 69 steps.\n",
      "Warning: trajectory cut off by epoch at 14 steps.\n",
      "Warning: trajectory cut off by epoch at 1 steps.\n",
      "Warning: trajectory cut off by epoch at 64 steps.\n",
      "Warning: trajectory cut off by epoch at 7 steps.\n",
      "Warning: trajectory cut off by epoch at 3 steps.\n",
      "Warning: trajectory cut off by epoch at 55 steps.\n",
      "Warning: trajectory cut off by epoch at 14 steps.\n"
     ]
    },
    {
     "name": "stderr",
     "output_type": "stream",
     "text": [
      "/opt/conda/lib/python3.7/site-packages/gym/logger.py:30: UserWarning: \u001b[33mWARN: Box bound precision lowered by casting to float32\u001b[0m\n",
      "  warnings.warn(colorize('%s: %s'%('WARN', msg % args), 'yellow'))\n"
     ]
    },
    {
     "name": "stdout",
     "output_type": "stream",
     "text": [
      "Warning: trajectory cut off by epoch at 30 steps.\n",
      "Warning: trajectory cut off by epoch at 69 steps.\n",
      "Warning: trajectory cut off by epoch at 35 steps.\n",
      "Warning: trajectory cut off by epoch at 15 steps.\n",
      "Warning: trajectory cut off by epoch at 6 steps.\n",
      "Warning: trajectory cut off by epoch at 1 steps.\n",
      "Warning: trajectory cut off by epoch at 8 steps.\n",
      "Warning: trajectory cut off by epoch at 15 steps.\n",
      "Warning: trajectory cut off by epoch at 8 steps.\n",
      "Warning: trajectory cut off by epoch at 3 steps.\n"
     ]
    },
    {
     "name": "stderr",
     "output_type": "stream",
     "text": [
      "/opt/conda/lib/python3.7/site-packages/gym/logger.py:30: UserWarning: \u001b[33mWARN: Box bound precision lowered by casting to float32\u001b[0m\n",
      "  warnings.warn(colorize('%s: %s'%('WARN', msg % args), 'yellow'))\n"
     ]
    },
    {
     "name": "stdout",
     "output_type": "stream",
     "text": [
      "Warning: trajectory cut off by epoch at 21 steps.\n",
      "Warning: trajectory cut off by epoch at 44 steps.\n",
      "Warning: trajectory cut off by epoch at 3 steps.\n",
      "Warning: trajectory cut off by epoch at 7 steps.\n",
      "Warning: trajectory cut off by epoch at 6 steps.\n",
      "Warning: trajectory cut off by epoch at 2 steps.\n",
      "Warning: trajectory cut off by epoch at 32 steps.\n",
      "Warning: trajectory cut off by epoch at 2 steps.\n",
      "Warning: trajectory cut off by epoch at 2 steps.\n"
     ]
    },
    {
     "name": "stderr",
     "output_type": "stream",
     "text": [
      "/opt/conda/lib/python3.7/site-packages/gym/logger.py:30: UserWarning: \u001b[33mWARN: Box bound precision lowered by casting to float32\u001b[0m\n",
      "  warnings.warn(colorize('%s: %s'%('WARN', msg % args), 'yellow'))\n"
     ]
    },
    {
     "name": "stdout",
     "output_type": "stream",
     "text": [
      "Warning: trajectory cut off by epoch at 15 steps.\n",
      "Warning: trajectory cut off by epoch at 16 steps.\n",
      "Warning: trajectory cut off by epoch at 2 steps.\n",
      "Warning: trajectory cut off by epoch at 4 steps.\n",
      "Warning: trajectory cut off by epoch at 56 steps.\n",
      "Warning: trajectory cut off by epoch at 2 steps.\n",
      "Warning: trajectory cut off by epoch at 3 steps.\n",
      "Warning: trajectory cut off by epoch at 18 steps.\n",
      "Warning: trajectory cut off by epoch at 10 steps.\n",
      "Warning: trajectory cut off by epoch at 4 steps.\n"
     ]
    },
    {
     "name": "stderr",
     "output_type": "stream",
     "text": [
      "/opt/conda/lib/python3.7/site-packages/gym/logger.py:30: UserWarning: \u001b[33mWARN: Box bound precision lowered by casting to float32\u001b[0m\n",
      "  warnings.warn(colorize('%s: %s'%('WARN', msg % args), 'yellow'))\n"
     ]
    },
    {
     "name": "stdout",
     "output_type": "stream",
     "text": [
      "Warning: trajectory cut off by epoch at 10 steps.\n",
      "Warning: trajectory cut off by epoch at 30 steps.\n",
      "Warning: trajectory cut off by epoch at 7 steps.\n",
      "Warning: trajectory cut off by epoch at 10 steps.\n",
      "Warning: trajectory cut off by epoch at 7 steps.\n",
      "Warning: trajectory cut off by epoch at 33 steps.\n",
      "Warning: trajectory cut off by epoch at 8 steps.\n",
      "Warning: trajectory cut off by epoch at 7 steps.\n",
      "Warning: trajectory cut off by epoch at 1 steps.\n"
     ]
    },
    {
     "name": "stderr",
     "output_type": "stream",
     "text": [
      "/opt/conda/lib/python3.7/site-packages/gym/logger.py:30: UserWarning: \u001b[33mWARN: Box bound precision lowered by casting to float32\u001b[0m\n",
      "  warnings.warn(colorize('%s: %s'%('WARN', msg % args), 'yellow'))\n"
     ]
    },
    {
     "name": "stdout",
     "output_type": "stream",
     "text": [
      "Warning: trajectory cut off by epoch at 1 steps.\n",
      "Warning: trajectory cut off by epoch at 2 steps.\n",
      "Warning: trajectory cut off by epoch at 1 steps.\n",
      "Warning: trajectory cut off by epoch at 16 steps.\n",
      "Warning: trajectory cut off by epoch at 2 steps.\n",
      "Warning: trajectory cut off by epoch at 8 steps.\n",
      "Warning: trajectory cut off by epoch at 72 steps.\n",
      "Warning: trajectory cut off by epoch at 8 steps.\n",
      "Warning: trajectory cut off by epoch at 28 steps.\n"
     ]
    },
    {
     "name": "stderr",
     "output_type": "stream",
     "text": [
      "/opt/conda/lib/python3.7/site-packages/gym/logger.py:30: UserWarning: \u001b[33mWARN: Box bound precision lowered by casting to float32\u001b[0m\n",
      "  warnings.warn(colorize('%s: %s'%('WARN', msg % args), 'yellow'))\n"
     ]
    },
    {
     "name": "stdout",
     "output_type": "stream",
     "text": [
      "Warning: trajectory cut off by epoch at 10 steps.\n",
      "Warning: trajectory cut off by epoch at 4 steps.\n",
      "Warning: trajectory cut off by epoch at 8 steps.\n",
      "Warning: trajectory cut off by epoch at 40 steps.\n",
      "Warning: trajectory cut off by epoch at 16 steps.\n",
      "Warning: trajectory cut off by epoch at 6 steps.\n",
      "Warning: trajectory cut off by epoch at 34 steps.\n",
      "Warning: trajectory cut off by epoch at 11 steps.\n",
      "Warning: trajectory cut off by epoch at 2 steps.\n"
     ]
    },
    {
     "name": "stderr",
     "output_type": "stream",
     "text": [
      "/opt/conda/lib/python3.7/site-packages/gym/logger.py:30: UserWarning: \u001b[33mWARN: Box bound precision lowered by casting to float32\u001b[0m\n",
      "  warnings.warn(colorize('%s: %s'%('WARN', msg % args), 'yellow'))\n"
     ]
    },
    {
     "name": "stdout",
     "output_type": "stream",
     "text": [
      "Warning: trajectory cut off by epoch at 3 steps.\n",
      "Warning: trajectory cut off by epoch at 8 steps.\n",
      "Warning: trajectory cut off by epoch at 4 steps.\n",
      "Warning: trajectory cut off by epoch at 8 steps.\n",
      "Warning: trajectory cut off by epoch at 12 steps.\n",
      "Warning: trajectory cut off by epoch at 3 steps.\n",
      "Warning: trajectory cut off by epoch at 65 steps.\n",
      "Warning: trajectory cut off by epoch at 6 steps.\n",
      "Warning: trajectory cut off by epoch at 9 steps.\n"
     ]
    },
    {
     "name": "stderr",
     "output_type": "stream",
     "text": [
      "/opt/conda/lib/python3.7/site-packages/gym/logger.py:30: UserWarning: \u001b[33mWARN: Box bound precision lowered by casting to float32\u001b[0m\n",
      "  warnings.warn(colorize('%s: %s'%('WARN', msg % args), 'yellow'))\n"
     ]
    },
    {
     "name": "stdout",
     "output_type": "stream",
     "text": [
      "Warning: trajectory cut off by epoch at 1 steps.\n",
      "Warning: trajectory cut off by epoch at 34 steps.\n",
      "Warning: trajectory cut off by epoch at 2 steps.\n",
      "Warning: trajectory cut off by epoch at 3 steps.\n",
      "Warning: trajectory cut off by epoch at 7 steps.\n",
      "Warning: trajectory cut off by epoch at 50 steps.\n",
      "Warning: trajectory cut off by epoch at 15 steps.\n",
      "Warning: trajectory cut off by epoch at 43 steps.\n",
      "Warning: trajectory cut off by epoch at 16 steps.\n",
      "Warning: trajectory cut off by epoch at 341 steps.\n"
     ]
    },
    {
     "name": "stderr",
     "output_type": "stream",
     "text": [
      "/opt/conda/lib/python3.7/site-packages/gym/logger.py:30: UserWarning: \u001b[33mWARN: Box bound precision lowered by casting to float32\u001b[0m\n",
      "  warnings.warn(colorize('%s: %s'%('WARN', msg % args), 'yellow'))\n"
     ]
    },
    {
     "name": "stdout",
     "output_type": "stream",
     "text": [
      "Warning: trajectory cut off by epoch at 4 steps.\n",
      "Warning: trajectory cut off by epoch at 6 steps.\n",
      "Warning: trajectory cut off by epoch at 9 steps.\n",
      "Warning: trajectory cut off by epoch at 4 steps.\n",
      "Warning: trajectory cut off by epoch at 3 steps.\n",
      "Warning: trajectory cut off by epoch at 114 steps.\n",
      "Warning: trajectory cut off by epoch at 11 steps.\n",
      "Warning: trajectory cut off by epoch at 4 steps.\n",
      "Warning: trajectory cut off by epoch at 197 steps.\n"
     ]
    },
    {
     "name": "stderr",
     "output_type": "stream",
     "text": [
      "/opt/conda/lib/python3.7/site-packages/gym/logger.py:30: UserWarning: \u001b[33mWARN: Box bound precision lowered by casting to float32\u001b[0m\n",
      "  warnings.warn(colorize('%s: %s'%('WARN', msg % args), 'yellow'))\n"
     ]
    },
    {
     "name": "stdout",
     "output_type": "stream",
     "text": [
      "Warning: trajectory cut off by epoch at 4 steps.\n",
      "Warning: trajectory cut off by epoch at 54 steps.\n",
      "Warning: trajectory cut off by epoch at 2 steps.\n",
      "Warning: trajectory cut off by epoch at 8 steps.\n",
      "Warning: trajectory cut off by epoch at 1 steps.\n",
      "Warning: trajectory cut off by epoch at 6 steps.\n",
      "Warning: trajectory cut off by epoch at 3 steps.\n",
      "Warning: trajectory cut off by epoch at 6 steps.\n",
      "Warning: trajectory cut off by epoch at 1 steps.\n"
     ]
    },
    {
     "name": "stderr",
     "output_type": "stream",
     "text": [
      "/opt/conda/lib/python3.7/site-packages/gym/logger.py:30: UserWarning: \u001b[33mWARN: Box bound precision lowered by casting to float32\u001b[0m\n",
      "  warnings.warn(colorize('%s: %s'%('WARN', msg % args), 'yellow'))\n"
     ]
    },
    {
     "name": "stdout",
     "output_type": "stream",
     "text": [
      "Warning: trajectory cut off by epoch at 8 steps.\n",
      "Warning: trajectory cut off by epoch at 2 steps.\n",
      "Warning: trajectory cut off by epoch at 139 steps.\n",
      "Warning: trajectory cut off by epoch at 1 steps.\n",
      "Warning: trajectory cut off by epoch at 3 steps.\n",
      "Warning: trajectory cut off by epoch at 14 steps.\n",
      "Warning: trajectory cut off by epoch at 27 steps.\n",
      "Warning: trajectory cut off by epoch at 249 steps.\n",
      "Warning: trajectory cut off by epoch at 9 steps.\n",
      "Warning: trajectory cut off by epoch at 5 steps.\n"
     ]
    },
    {
     "name": "stderr",
     "output_type": "stream",
     "text": [
      "/opt/conda/lib/python3.7/site-packages/gym/logger.py:30: UserWarning: \u001b[33mWARN: Box bound precision lowered by casting to float32\u001b[0m\n",
      "  warnings.warn(colorize('%s: %s'%('WARN', msg % args), 'yellow'))\n"
     ]
    },
    {
     "name": "stdout",
     "output_type": "stream",
     "text": [
      "Warning: trajectory cut off by epoch at 3 steps.\n",
      "Warning: trajectory cut off by epoch at 1 steps.\n",
      "Warning: trajectory cut off by epoch at 1 steps.\n",
      "Warning: trajectory cut off by epoch at 3 steps.\n",
      "Warning: trajectory cut off by epoch at 8 steps.\n",
      "Warning: trajectory cut off by epoch at 5 steps.\n",
      "Warning: trajectory cut off by epoch at 3 steps.\n",
      "Warning: trajectory cut off by epoch at 17 steps.\n",
      "Warning: trajectory cut off by epoch at 3 steps.\n"
     ]
    },
    {
     "name": "stderr",
     "output_type": "stream",
     "text": [
      "/opt/conda/lib/python3.7/site-packages/gym/logger.py:30: UserWarning: \u001b[33mWARN: Box bound precision lowered by casting to float32\u001b[0m\n",
      "  warnings.warn(colorize('%s: %s'%('WARN', msg % args), 'yellow'))\n"
     ]
    },
    {
     "name": "stdout",
     "output_type": "stream",
     "text": [
      "Warning: trajectory cut off by epoch at 4 steps.\n",
      "Warning: trajectory cut off by epoch at 11 steps.\n",
      "Warning: trajectory cut off by epoch at 10 steps.\n",
      "Warning: trajectory cut off by epoch at 35 steps.\n",
      "Warning: trajectory cut off by epoch at 7 steps.\n",
      "Warning: trajectory cut off by epoch at 23 steps.\n",
      "Warning: trajectory cut off by epoch at 5 steps.\n",
      "Warning: trajectory cut off by epoch at 4 steps.\n",
      "Warning: trajectory cut off by epoch at 5 steps.\n"
     ]
    },
    {
     "name": "stderr",
     "output_type": "stream",
     "text": [
      "/opt/conda/lib/python3.7/site-packages/gym/logger.py:30: UserWarning: \u001b[33mWARN: Box bound precision lowered by casting to float32\u001b[0m\n",
      "  warnings.warn(colorize('%s: %s'%('WARN', msg % args), 'yellow'))\n"
     ]
    },
    {
     "name": "stdout",
     "output_type": "stream",
     "text": [
      "Warning: trajectory cut off by epoch at 1 steps.\n",
      "Warning: trajectory cut off by epoch at 8 steps.\n",
      "Warning: trajectory cut off by epoch at 92 steps.\n",
      "Warning: trajectory cut off by epoch at 44 steps.\n",
      "Warning: trajectory cut off by epoch at 4 steps.\n",
      "Warning: trajectory cut off by epoch at 7 steps.\n",
      "Warning: trajectory cut off by epoch at 4 steps.\n",
      "Warning: trajectory cut off by epoch at 9 steps.\n",
      "Warning: trajectory cut off by epoch at 3 steps.\n"
     ]
    },
    {
     "name": "stderr",
     "output_type": "stream",
     "text": [
      "/opt/conda/lib/python3.7/site-packages/gym/logger.py:30: UserWarning: \u001b[33mWARN: Box bound precision lowered by casting to float32\u001b[0m\n",
      "  warnings.warn(colorize('%s: %s'%('WARN', msg % args), 'yellow'))\n"
     ]
    },
    {
     "name": "stdout",
     "output_type": "stream",
     "text": [
      "Warning: trajectory cut off by epoch at 1 steps.\n",
      "Warning: trajectory cut off by epoch at 6 steps.\n",
      "Warning: trajectory cut off by epoch at 133 steps.\n",
      "Warning: trajectory cut off by epoch at 54 steps.\n",
      "Warning: trajectory cut off by epoch at 6 steps.\n",
      "Warning: trajectory cut off by epoch at 4 steps.\n",
      "Warning: trajectory cut off by epoch at 1 steps.\n",
      "Warning: trajectory cut off by epoch at 20 steps.\n",
      "Warning: trajectory cut off by epoch at 2 steps.\n",
      "Warning: trajectory cut off by epoch at 3 steps.\n"
     ]
    },
    {
     "name": "stderr",
     "output_type": "stream",
     "text": [
      "/opt/conda/lib/python3.7/site-packages/gym/logger.py:30: UserWarning: \u001b[33mWARN: Box bound precision lowered by casting to float32\u001b[0m\n",
      "  warnings.warn(colorize('%s: %s'%('WARN', msg % args), 'yellow'))\n"
     ]
    },
    {
     "name": "stdout",
     "output_type": "stream",
     "text": [
      "Warning: trajectory cut off by epoch at 2 steps.\n",
      "Warning: trajectory cut off by epoch at 49 steps.\n",
      "Warning: trajectory cut off by epoch at 3 steps.\n",
      "Warning: trajectory cut off by epoch at 3 steps.\n",
      "Warning: trajectory cut off by epoch at 7 steps.\n",
      "Warning: trajectory cut off by epoch at 7 steps.\n",
      "Warning: trajectory cut off by epoch at 2 steps.\n",
      "Warning: trajectory cut off by epoch at 7 steps.\n",
      "Warning: trajectory cut off by epoch at 123 steps.\n"
     ]
    },
    {
     "name": "stderr",
     "output_type": "stream",
     "text": [
      "/opt/conda/lib/python3.7/site-packages/gym/logger.py:30: UserWarning: \u001b[33mWARN: Box bound precision lowered by casting to float32\u001b[0m\n",
      "  warnings.warn(colorize('%s: %s'%('WARN', msg % args), 'yellow'))\n"
     ]
    },
    {
     "name": "stdout",
     "output_type": "stream",
     "text": [
      "Warning: trajectory cut off by epoch at 4 steps.\n",
      "Warning: trajectory cut off by epoch at 2 steps.\n",
      "Warning: trajectory cut off by epoch at 3 steps.\n",
      "Warning: trajectory cut off by epoch at 6 steps.\n",
      "Warning: trajectory cut off by epoch at 8 steps.\n",
      "Warning: trajectory cut off by epoch at 48 steps.\n",
      "Warning: trajectory cut off by epoch at 3 steps.\n",
      "Warning: trajectory cut off by epoch at 5 steps.\n"
     ]
    },
    {
     "name": "stderr",
     "output_type": "stream",
     "text": [
      "/opt/conda/lib/python3.7/site-packages/gym/logger.py:30: UserWarning: \u001b[33mWARN: Box bound precision lowered by casting to float32\u001b[0m\n",
      "  warnings.warn(colorize('%s: %s'%('WARN', msg % args), 'yellow'))\n"
     ]
    },
    {
     "name": "stdout",
     "output_type": "stream",
     "text": [
      "Warning: trajectory cut off by epoch at 3 steps.\n",
      "Warning: trajectory cut off by epoch at 6 steps.\n",
      "Warning: trajectory cut off by epoch at 3 steps.\n",
      "Warning: trajectory cut off by epoch at 4 steps.\n",
      "Warning: trajectory cut off by epoch at 3 steps.\n",
      "Warning: trajectory cut off by epoch at 5 steps.\n",
      "Warning: trajectory cut off by epoch at 3 steps.\n",
      "Warning: trajectory cut off by epoch at 5 steps.\n"
     ]
    },
    {
     "name": "stderr",
     "output_type": "stream",
     "text": [
      "/opt/conda/lib/python3.7/site-packages/gym/logger.py:30: UserWarning: \u001b[33mWARN: Box bound precision lowered by casting to float32\u001b[0m\n",
      "  warnings.warn(colorize('%s: %s'%('WARN', msg % args), 'yellow'))\n"
     ]
    },
    {
     "name": "stdout",
     "output_type": "stream",
     "text": [
      "Warning: trajectory cut off by epoch at 2 steps.\n",
      "Warning: trajectory cut off by epoch at 105 steps.\n",
      "Warning: trajectory cut off by epoch at 9 steps.\n",
      "Warning: trajectory cut off by epoch at 7 steps.\n",
      "Warning: trajectory cut off by epoch at 8 steps.\n",
      "Warning: trajectory cut off by epoch at 4 steps.\n",
      "Warning: trajectory cut off by epoch at 2 steps.\n"
     ]
    },
    {
     "name": "stderr",
     "output_type": "stream",
     "text": [
      "/opt/conda/lib/python3.7/site-packages/gym/logger.py:30: UserWarning: \u001b[33mWARN: Box bound precision lowered by casting to float32\u001b[0m\n",
      "  warnings.warn(colorize('%s: %s'%('WARN', msg % args), 'yellow'))\n"
     ]
    },
    {
     "name": "stdout",
     "output_type": "stream",
     "text": [
      "Warning: trajectory cut off by epoch at 10 steps.\n",
      "Warning: trajectory cut off by epoch at 1 steps.\n",
      "Warning: trajectory cut off by epoch at 2 steps.\n",
      "Warning: trajectory cut off by epoch at 2 steps.\n",
      "Warning: trajectory cut off by epoch at 6 steps.\n",
      "Warning: trajectory cut off by epoch at 1 steps.\n",
      "Warning: trajectory cut off by epoch at 5 steps.\n",
      "Warning: trajectory cut off by epoch at 6 steps.\n"
     ]
    },
    {
     "name": "stderr",
     "output_type": "stream",
     "text": [
      "/opt/conda/lib/python3.7/site-packages/gym/logger.py:30: UserWarning: \u001b[33mWARN: Box bound precision lowered by casting to float32\u001b[0m\n",
      "  warnings.warn(colorize('%s: %s'%('WARN', msg % args), 'yellow'))\n"
     ]
    },
    {
     "name": "stdout",
     "output_type": "stream",
     "text": [
      "Warning: trajectory cut off by epoch at 1 steps.\n",
      "Warning: trajectory cut off by epoch at 15 steps.\n",
      "Warning: trajectory cut off by epoch at 3 steps.\n",
      "Warning: trajectory cut off by epoch at 2 steps.\n",
      "Warning: trajectory cut off by epoch at 6 steps.\n",
      "Warning: trajectory cut off by epoch at 5 steps.\n",
      "Warning: trajectory cut off by epoch at 3 steps.\n",
      "Warning: trajectory cut off by epoch at 55 steps.\n",
      "Warning: trajectory cut off by epoch at 42 steps.\n"
     ]
    },
    {
     "name": "stderr",
     "output_type": "stream",
     "text": [
      "/opt/conda/lib/python3.7/site-packages/gym/logger.py:30: UserWarning: \u001b[33mWARN: Box bound precision lowered by casting to float32\u001b[0m\n",
      "  warnings.warn(colorize('%s: %s'%('WARN', msg % args), 'yellow'))\n"
     ]
    },
    {
     "name": "stdout",
     "output_type": "stream",
     "text": [
      "Warning: trajectory cut off by epoch at 24 steps.\n",
      "Warning: trajectory cut off by epoch at 6 steps.\n",
      "Warning: trajectory cut off by epoch at 5 steps.\n",
      "Warning: trajectory cut off by epoch at 35 steps.\n",
      "Warning: trajectory cut off by epoch at 2 steps.\n",
      "Warning: trajectory cut off by epoch at 4 steps.\n",
      "Warning: trajectory cut off by epoch at 29 steps.\n"
     ]
    },
    {
     "name": "stderr",
     "output_type": "stream",
     "text": [
      "/opt/conda/lib/python3.7/site-packages/gym/logger.py:30: UserWarning: \u001b[33mWARN: Box bound precision lowered by casting to float32\u001b[0m\n",
      "  warnings.warn(colorize('%s: %s'%('WARN', msg % args), 'yellow'))\n"
     ]
    },
    {
     "name": "stdout",
     "output_type": "stream",
     "text": [
      "Warning: trajectory cut off by epoch at 8 steps.\n",
      "Warning: trajectory cut off by epoch at 3 steps.\n",
      "Warning: trajectory cut off by epoch at 2 steps.\n",
      "Warning: trajectory cut off by epoch at 63 steps.\n",
      "Warning: trajectory cut off by epoch at 1 steps.\n",
      "Warning: trajectory cut off by epoch at 41 steps.\n",
      "Warning: trajectory cut off by epoch at 4 steps.\n"
     ]
    },
    {
     "name": "stderr",
     "output_type": "stream",
     "text": [
      "/opt/conda/lib/python3.7/site-packages/gym/logger.py:30: UserWarning: \u001b[33mWARN: Box bound precision lowered by casting to float32\u001b[0m\n",
      "  warnings.warn(colorize('%s: %s'%('WARN', msg % args), 'yellow'))\n"
     ]
    },
    {
     "name": "stdout",
     "output_type": "stream",
     "text": [
      "Warning: trajectory cut off by epoch at 3 steps.\n",
      "Warning: trajectory cut off by epoch at 180 steps.\n",
      "Warning: trajectory cut off by epoch at 1 steps.\n",
      "Warning: trajectory cut off by epoch at 3 steps.\n",
      "Warning: trajectory cut off by epoch at 2 steps.\n",
      "Warning: trajectory cut off by epoch at 1 steps.\n",
      "Warning: trajectory cut off by epoch at 3 steps.\n",
      "Warning: trajectory cut off by epoch at 5 steps.\n",
      "Warning: trajectory cut off by epoch at 45 steps.\n",
      "Warning: trajectory cut off by epoch at 8 steps.\n"
     ]
    },
    {
     "name": "stderr",
     "output_type": "stream",
     "text": [
      "/opt/conda/lib/python3.7/site-packages/gym/logger.py:30: UserWarning: \u001b[33mWARN: Box bound precision lowered by casting to float32\u001b[0m\n",
      "  warnings.warn(colorize('%s: %s'%('WARN', msg % args), 'yellow'))\n"
     ]
    },
    {
     "name": "stdout",
     "output_type": "stream",
     "text": [
      "Warning: trajectory cut off by epoch at 1 steps.\n",
      "Warning: trajectory cut off by epoch at 2 steps.\n",
      "Warning: trajectory cut off by epoch at 11 steps.\n",
      "Warning: trajectory cut off by epoch at 2 steps.\n",
      "Warning: trajectory cut off by epoch at 5 steps.\n",
      "Warning: trajectory cut off by epoch at 7 steps.\n",
      "Warning: trajectory cut off by epoch at 5 steps.\n",
      "Warning: trajectory cut off by epoch at 2 steps.\n",
      "Warning: trajectory cut off by epoch at 9 steps.\n"
     ]
    },
    {
     "name": "stderr",
     "output_type": "stream",
     "text": [
      "/opt/conda/lib/python3.7/site-packages/gym/logger.py:30: UserWarning: \u001b[33mWARN: Box bound precision lowered by casting to float32\u001b[0m\n",
      "  warnings.warn(colorize('%s: %s'%('WARN', msg % args), 'yellow'))\n"
     ]
    },
    {
     "name": "stdout",
     "output_type": "stream",
     "text": [
      "Warning: trajectory cut off by epoch at 6 steps.\n",
      "Warning: trajectory cut off by epoch at 3 steps.\n",
      "Warning: trajectory cut off by epoch at 4 steps.\n",
      "Warning: trajectory cut off by epoch at 3 steps.\n",
      "Warning: trajectory cut off by epoch at 6 steps.\n",
      "Warning: trajectory cut off by epoch at 102 steps.\n",
      "Warning: trajectory cut off by epoch at 7 steps.\n"
     ]
    },
    {
     "name": "stderr",
     "output_type": "stream",
     "text": [
      "/opt/conda/lib/python3.7/site-packages/gym/logger.py:30: UserWarning: \u001b[33mWARN: Box bound precision lowered by casting to float32\u001b[0m\n",
      "  warnings.warn(colorize('%s: %s'%('WARN', msg % args), 'yellow'))\n"
     ]
    },
    {
     "name": "stdout",
     "output_type": "stream",
     "text": [
      "Warning: trajectory cut off by epoch at 1 steps.\n",
      "Warning: trajectory cut off by epoch at 5 steps.\n",
      "Warning: trajectory cut off by epoch at 4 steps.\n",
      "Warning: trajectory cut off by epoch at 5 steps.\n",
      "Warning: trajectory cut off by epoch at 7 steps.\n",
      "Warning: trajectory cut off by epoch at 5 steps.\n",
      "Warning: trajectory cut off by epoch at 4 steps.\n",
      "Warning: trajectory cut off by epoch at 15 steps.\n",
      "---------------------------------------\n",
      "|             Epoch |             500 |\n",
      "|      AverageEpRet |            -415 |\n",
      "|          StdEpRet |             833 |\n",
      "|          MaxEpRet |            -122 |\n",
      "|          MinEpRet |       -3.89e+04 |\n",
      "|             EpLen |            14.1 |\n",
      "|      AverageVVals |            -103 |\n",
      "|          StdVVals |            49.6 |\n",
      "|          MaxVVals |            11.4 |\n",
      "|          MinVVals |            -201 |\n",
      "| TotalEnvInteracts |        5.01e+05 |\n",
      "|            LossPi |          -0.203 |\n",
      "|             LossV |        2.41e+04 |\n",
      "|       DeltaLossPi |               0 |\n",
      "|        DeltaLossV |            -210 |\n",
      "|           Entropy |           0.835 |\n",
      "|                KL |        1.33e-10 |\n",
      "|              Time |        1.37e+03 |\n",
      "---------------------------------------\n"
     ]
    },
    {
     "name": "stderr",
     "output_type": "stream",
     "text": [
      "/opt/conda/lib/python3.7/site-packages/gym/logger.py:30: UserWarning: \u001b[33mWARN: Box bound precision lowered by casting to float32\u001b[0m\n",
      "  warnings.warn(colorize('%s: %s'%('WARN', msg % args), 'yellow'))\n"
     ]
    },
    {
     "name": "stdout",
     "output_type": "stream",
     "text": [
      "Warning: trajectory cut off by epoch at 7 steps.\n",
      "Warning: trajectory cut off by epoch at 4 steps.\n",
      "Warning: trajectory cut off by epoch at 1 steps.\n",
      "Warning: trajectory cut off by epoch at 3 steps.\n",
      "Warning: trajectory cut off by epoch at 1 steps.\n",
      "Warning: trajectory cut off by epoch at 5 steps.\n",
      "Warning: trajectory cut off by epoch at 5 steps.\n",
      "Warning: trajectory cut off by epoch at 6 steps.\n"
     ]
    },
    {
     "name": "stderr",
     "output_type": "stream",
     "text": [
      "/opt/conda/lib/python3.7/site-packages/gym/logger.py:30: UserWarning: \u001b[33mWARN: Box bound precision lowered by casting to float32\u001b[0m\n",
      "  warnings.warn(colorize('%s: %s'%('WARN', msg % args), 'yellow'))\n"
     ]
    },
    {
     "name": "stdout",
     "output_type": "stream",
     "text": [
      "Warning: trajectory cut off by epoch at 4 steps.\n",
      "Warning: trajectory cut off by epoch at 1 steps.\n",
      "Warning: trajectory cut off by epoch at 6 steps.\n",
      "Warning: trajectory cut off by epoch at 1 steps.\n",
      "Warning: trajectory cut off by epoch at 4 steps.\n",
      "Warning: trajectory cut off by epoch at 1 steps.\n",
      "Warning: trajectory cut off by epoch at 3 steps.\n",
      "Warning: trajectory cut off by epoch at 12 steps.\n",
      "Warning: trajectory cut off by epoch at 6 steps.\n"
     ]
    },
    {
     "name": "stderr",
     "output_type": "stream",
     "text": [
      "/opt/conda/lib/python3.7/site-packages/gym/logger.py:30: UserWarning: \u001b[33mWARN: Box bound precision lowered by casting to float32\u001b[0m\n",
      "  warnings.warn(colorize('%s: %s'%('WARN', msg % args), 'yellow'))\n"
     ]
    },
    {
     "name": "stdout",
     "output_type": "stream",
     "text": [
      "Warning: trajectory cut off by epoch at 2 steps.\n",
      "Warning: trajectory cut off by epoch at 4 steps.\n",
      "Warning: trajectory cut off by epoch at 6 steps.\n",
      "Warning: trajectory cut off by epoch at 2 steps.\n",
      "Warning: trajectory cut off by epoch at 8 steps.\n",
      "Warning: trajectory cut off by epoch at 59 steps.\n",
      "Warning: trajectory cut off by epoch at 1 steps.\n",
      "Warning: trajectory cut off by epoch at 6 steps.\n",
      "Warning: trajectory cut off by epoch at 3 steps.\n",
      "Warning: trajectory cut off by epoch at 1 steps.\n"
     ]
    },
    {
     "name": "stderr",
     "output_type": "stream",
     "text": [
      "/opt/conda/lib/python3.7/site-packages/gym/logger.py:30: UserWarning: \u001b[33mWARN: Box bound precision lowered by casting to float32\u001b[0m\n",
      "  warnings.warn(colorize('%s: %s'%('WARN', msg % args), 'yellow'))\n"
     ]
    },
    {
     "name": "stdout",
     "output_type": "stream",
     "text": [
      "Warning: trajectory cut off by epoch at 2 steps.\n",
      "Warning: trajectory cut off by epoch at 9 steps.\n",
      "Warning: trajectory cut off by epoch at 5 steps.\n",
      "Warning: trajectory cut off by epoch at 2 steps.\n",
      "Warning: trajectory cut off by epoch at 3 steps.\n",
      "Warning: trajectory cut off by epoch at 7 steps.\n"
     ]
    },
    {
     "name": "stderr",
     "output_type": "stream",
     "text": [
      "/opt/conda/lib/python3.7/site-packages/gym/logger.py:30: UserWarning: \u001b[33mWARN: Box bound precision lowered by casting to float32\u001b[0m\n",
      "  warnings.warn(colorize('%s: %s'%('WARN', msg % args), 'yellow'))\n"
     ]
    },
    {
     "name": "stdout",
     "output_type": "stream",
     "text": [
      "Warning: trajectory cut off by epoch at 4 steps.\n",
      "Warning: trajectory cut off by epoch at 26 steps.\n",
      "Warning: trajectory cut off by epoch at 1 steps.\n",
      "Warning: trajectory cut off by epoch at 4 steps.\n",
      "Warning: trajectory cut off by epoch at 6 steps.\n",
      "Warning: trajectory cut off by epoch at 3 steps.\n",
      "Warning: trajectory cut off by epoch at 1 steps.\n",
      "Warning: trajectory cut off by epoch at 3 steps.\n"
     ]
    },
    {
     "name": "stderr",
     "output_type": "stream",
     "text": [
      "/opt/conda/lib/python3.7/site-packages/gym/logger.py:30: UserWarning: \u001b[33mWARN: Box bound precision lowered by casting to float32\u001b[0m\n",
      "  warnings.warn(colorize('%s: %s'%('WARN', msg % args), 'yellow'))\n"
     ]
    },
    {
     "name": "stdout",
     "output_type": "stream",
     "text": [
      "Warning: trajectory cut off by epoch at 3 steps.\n",
      "Warning: trajectory cut off by epoch at 3 steps.\n",
      "Warning: trajectory cut off by epoch at 1 steps.\n",
      "Warning: trajectory cut off by epoch at 11 steps.\n",
      "Warning: trajectory cut off by epoch at 7 steps.\n",
      "Warning: trajectory cut off by epoch at 3 steps.\n",
      "Warning: trajectory cut off by epoch at 1 steps.\n"
     ]
    },
    {
     "name": "stderr",
     "output_type": "stream",
     "text": [
      "/opt/conda/lib/python3.7/site-packages/gym/logger.py:30: UserWarning: \u001b[33mWARN: Box bound precision lowered by casting to float32\u001b[0m\n",
      "  warnings.warn(colorize('%s: %s'%('WARN', msg % args), 'yellow'))\n"
     ]
    },
    {
     "name": "stdout",
     "output_type": "stream",
     "text": [
      "Warning: trajectory cut off by epoch at 4 steps.\n",
      "Warning: trajectory cut off by epoch at 2 steps.\n",
      "Warning: trajectory cut off by epoch at 4 steps.\n",
      "Warning: trajectory cut off by epoch at 33 steps.\n",
      "Warning: trajectory cut off by epoch at 46 steps.\n",
      "Warning: trajectory cut off by epoch at 3 steps.\n",
      "Warning: trajectory cut off by epoch at 6 steps.\n",
      "Warning: trajectory cut off by epoch at 1 steps.\n",
      "Warning: trajectory cut off by epoch at 1 steps.\n"
     ]
    },
    {
     "name": "stderr",
     "output_type": "stream",
     "text": [
      "/opt/conda/lib/python3.7/site-packages/gym/logger.py:30: UserWarning: \u001b[33mWARN: Box bound precision lowered by casting to float32\u001b[0m\n",
      "  warnings.warn(colorize('%s: %s'%('WARN', msg % args), 'yellow'))\n"
     ]
    },
    {
     "name": "stdout",
     "output_type": "stream",
     "text": [
      "Warning: trajectory cut off by epoch at 1 steps.\n",
      "Warning: trajectory cut off by epoch at 2 steps.\n",
      "Warning: trajectory cut off by epoch at 3 steps.\n",
      "Warning: trajectory cut off by epoch at 2 steps.\n",
      "Warning: trajectory cut off by epoch at 6 steps.\n",
      "Warning: trajectory cut off by epoch at 4 steps.\n",
      "Warning: trajectory cut off by epoch at 1 steps.\n",
      "Warning: trajectory cut off by epoch at 1 steps.\n",
      "Warning: trajectory cut off by epoch at 3 steps.\n",
      "Warning: trajectory cut off by epoch at 2 steps.\n"
     ]
    },
    {
     "name": "stderr",
     "output_type": "stream",
     "text": [
      "/opt/conda/lib/python3.7/site-packages/gym/logger.py:30: UserWarning: \u001b[33mWARN: Box bound precision lowered by casting to float32\u001b[0m\n",
      "  warnings.warn(colorize('%s: %s'%('WARN', msg % args), 'yellow'))\n"
     ]
    },
    {
     "name": "stdout",
     "output_type": "stream",
     "text": [
      "Warning: trajectory cut off by epoch at 5 steps.\n",
      "Warning: trajectory cut off by epoch at 1 steps.\n",
      "Warning: trajectory cut off by epoch at 6 steps.\n",
      "Warning: trajectory cut off by epoch at 14 steps.\n",
      "Warning: trajectory cut off by epoch at 5 steps.\n",
      "Warning: trajectory cut off by epoch at 8 steps.\n",
      "Warning: trajectory cut off by epoch at 4 steps.\n",
      "Warning: trajectory cut off by epoch at 3 steps.\n",
      "Warning: trajectory cut off by epoch at 5 steps.\n",
      "Warning: trajectory cut off by epoch at 5 steps.\n"
     ]
    },
    {
     "name": "stderr",
     "output_type": "stream",
     "text": [
      "/opt/conda/lib/python3.7/site-packages/gym/logger.py:30: UserWarning: \u001b[33mWARN: Box bound precision lowered by casting to float32\u001b[0m\n",
      "  warnings.warn(colorize('%s: %s'%('WARN', msg % args), 'yellow'))\n"
     ]
    },
    {
     "name": "stdout",
     "output_type": "stream",
     "text": [
      "Warning: trajectory cut off by epoch at 1 steps.\n",
      "Warning: trajectory cut off by epoch at 5 steps.\n",
      "Warning: trajectory cut off by epoch at 3 steps.\n",
      "Warning: trajectory cut off by epoch at 1 steps.\n",
      "Warning: trajectory cut off by epoch at 3 steps.\n",
      "Warning: trajectory cut off by epoch at 2 steps.\n",
      "Warning: trajectory cut off by epoch at 2 steps.\n",
      "Warning: trajectory cut off by epoch at 2 steps.\n",
      "Warning: trajectory cut off by epoch at 2 steps.\n"
     ]
    },
    {
     "name": "stderr",
     "output_type": "stream",
     "text": [
      "/opt/conda/lib/python3.7/site-packages/gym/logger.py:30: UserWarning: \u001b[33mWARN: Box bound precision lowered by casting to float32\u001b[0m\n",
      "  warnings.warn(colorize('%s: %s'%('WARN', msg % args), 'yellow'))\n"
     ]
    },
    {
     "name": "stdout",
     "output_type": "stream",
     "text": [
      "Warning: trajectory cut off by epoch at 3 steps.\n",
      "Warning: trajectory cut off by epoch at 4 steps.\n",
      "Warning: trajectory cut off by epoch at 4 steps.\n",
      "Warning: trajectory cut off by epoch at 2 steps.\n",
      "Warning: trajectory cut off by epoch at 3 steps.\n",
      "Warning: trajectory cut off by epoch at 5 steps.\n",
      "Warning: trajectory cut off by epoch at 2 steps.\n",
      "Warning: trajectory cut off by epoch at 1 steps.\n",
      "Warning: trajectory cut off by epoch at 4 steps.\n"
     ]
    },
    {
     "name": "stderr",
     "output_type": "stream",
     "text": [
      "/opt/conda/lib/python3.7/site-packages/gym/logger.py:30: UserWarning: \u001b[33mWARN: Box bound precision lowered by casting to float32\u001b[0m\n",
      "  warnings.warn(colorize('%s: %s'%('WARN', msg % args), 'yellow'))\n"
     ]
    },
    {
     "name": "stdout",
     "output_type": "stream",
     "text": [
      "Warning: trajectory cut off by epoch at 1 steps.\n",
      "Warning: trajectory cut off by epoch at 1 steps.\n",
      "Warning: trajectory cut off by epoch at 4 steps.\n",
      "Warning: trajectory cut off by epoch at 3 steps.\n",
      "Warning: trajectory cut off by epoch at 5 steps.\n",
      "Warning: trajectory cut off by epoch at 2 steps.\n",
      "Warning: trajectory cut off by epoch at 2 steps.\n"
     ]
    },
    {
     "name": "stderr",
     "output_type": "stream",
     "text": [
      "/opt/conda/lib/python3.7/site-packages/gym/logger.py:30: UserWarning: \u001b[33mWARN: Box bound precision lowered by casting to float32\u001b[0m\n",
      "  warnings.warn(colorize('%s: %s'%('WARN', msg % args), 'yellow'))\n"
     ]
    },
    {
     "name": "stdout",
     "output_type": "stream",
     "text": [
      "Warning: trajectory cut off by epoch at 4 steps.\n",
      "Warning: trajectory cut off by epoch at 5 steps.\n",
      "Warning: trajectory cut off by epoch at 51 steps.\n",
      "Warning: trajectory cut off by epoch at 3 steps.\n",
      "Warning: trajectory cut off by epoch at 1 steps.\n",
      "Warning: trajectory cut off by epoch at 4 steps.\n",
      "Warning: trajectory cut off by epoch at 4 steps.\n",
      "Warning: trajectory cut off by epoch at 3 steps.\n",
      "Warning: trajectory cut off by epoch at 1 steps.\n"
     ]
    },
    {
     "name": "stderr",
     "output_type": "stream",
     "text": [
      "/opt/conda/lib/python3.7/site-packages/gym/logger.py:30: UserWarning: \u001b[33mWARN: Box bound precision lowered by casting to float32\u001b[0m\n",
      "  warnings.warn(colorize('%s: %s'%('WARN', msg % args), 'yellow'))\n"
     ]
    },
    {
     "name": "stdout",
     "output_type": "stream",
     "text": [
      "Warning: trajectory cut off by epoch at 4 steps.\n",
      "Warning: trajectory cut off by epoch at 6 steps.\n",
      "Warning: trajectory cut off by epoch at 2 steps.\n",
      "Warning: trajectory cut off by epoch at 6 steps.\n",
      "Warning: trajectory cut off by epoch at 7 steps.\n",
      "Warning: trajectory cut off by epoch at 4 steps.\n",
      "Warning: trajectory cut off by epoch at 5 steps.\n",
      "Warning: trajectory cut off by epoch at 5 steps.\n",
      "Warning: trajectory cut off by epoch at 2 steps.\n"
     ]
    },
    {
     "name": "stderr",
     "output_type": "stream",
     "text": [
      "/opt/conda/lib/python3.7/site-packages/gym/logger.py:30: UserWarning: \u001b[33mWARN: Box bound precision lowered by casting to float32\u001b[0m\n",
      "  warnings.warn(colorize('%s: %s'%('WARN', msg % args), 'yellow'))\n"
     ]
    },
    {
     "name": "stdout",
     "output_type": "stream",
     "text": [
      "Warning: trajectory cut off by epoch at 6 steps.\n",
      "Warning: trajectory cut off by epoch at 3 steps.\n",
      "Warning: trajectory cut off by epoch at 2 steps.\n",
      "Warning: trajectory cut off by epoch at 3 steps.\n",
      "Warning: trajectory cut off by epoch at 2 steps.\n",
      "Warning: trajectory cut off by epoch at 3 steps.\n",
      "Warning: trajectory cut off by epoch at 6 steps.\n",
      "Warning: trajectory cut off by epoch at 3 steps.\n",
      "Warning: trajectory cut off by epoch at 2 steps.\n",
      "Warning: trajectory cut off by epoch at 13 steps.\n"
     ]
    },
    {
     "name": "stderr",
     "output_type": "stream",
     "text": [
      "/opt/conda/lib/python3.7/site-packages/gym/logger.py:30: UserWarning: \u001b[33mWARN: Box bound precision lowered by casting to float32\u001b[0m\n",
      "  warnings.warn(colorize('%s: %s'%('WARN', msg % args), 'yellow'))\n"
     ]
    },
    {
     "name": "stdout",
     "output_type": "stream",
     "text": [
      "Warning: trajectory cut off by epoch at 1 steps.\n",
      "Warning: trajectory cut off by epoch at 2 steps.\n",
      "Warning: trajectory cut off by epoch at 3 steps.\n",
      "Warning: trajectory cut off by epoch at 3 steps.\n",
      "Warning: trajectory cut off by epoch at 4 steps.\n",
      "Warning: trajectory cut off by epoch at 5 steps.\n",
      "Warning: trajectory cut off by epoch at 1 steps.\n",
      "Warning: trajectory cut off by epoch at 2 steps.\n",
      "Warning: trajectory cut off by epoch at 3 steps.\n"
     ]
    },
    {
     "name": "stderr",
     "output_type": "stream",
     "text": [
      "/opt/conda/lib/python3.7/site-packages/gym/logger.py:30: UserWarning: \u001b[33mWARN: Box bound precision lowered by casting to float32\u001b[0m\n",
      "  warnings.warn(colorize('%s: %s'%('WARN', msg % args), 'yellow'))\n"
     ]
    },
    {
     "name": "stdout",
     "output_type": "stream",
     "text": [
      "Warning: trajectory cut off by epoch at 1 steps.\n",
      "Warning: trajectory cut off by epoch at 4 steps.\n",
      "Warning: trajectory cut off by epoch at 4 steps.\n",
      "Warning: trajectory cut off by epoch at 6 steps.\n",
      "Warning: trajectory cut off by epoch at 4 steps.\n",
      "Warning: trajectory cut off by epoch at 4 steps.\n",
      "Warning: trajectory cut off by epoch at 3 steps.\n",
      "Warning: trajectory cut off by epoch at 4 steps.\n",
      "Warning: trajectory cut off by epoch at 5 steps.\n",
      "Warning: trajectory cut off by epoch at 1 steps.\n"
     ]
    },
    {
     "name": "stderr",
     "output_type": "stream",
     "text": [
      "/opt/conda/lib/python3.7/site-packages/gym/logger.py:30: UserWarning: \u001b[33mWARN: Box bound precision lowered by casting to float32\u001b[0m\n",
      "  warnings.warn(colorize('%s: %s'%('WARN', msg % args), 'yellow'))\n"
     ]
    },
    {
     "name": "stdout",
     "output_type": "stream",
     "text": [
      "Warning: trajectory cut off by epoch at 4 steps.\n",
      "Warning: trajectory cut off by epoch at 1 steps.\n",
      "Warning: trajectory cut off by epoch at 4 steps.\n",
      "Warning: trajectory cut off by epoch at 1 steps.\n",
      "Warning: trajectory cut off by epoch at 6 steps.\n",
      "Warning: trajectory cut off by epoch at 5 steps.\n",
      "Warning: trajectory cut off by epoch at 2 steps.\n",
      "Warning: trajectory cut off by epoch at 2 steps.\n"
     ]
    },
    {
     "name": "stderr",
     "output_type": "stream",
     "text": [
      "/opt/conda/lib/python3.7/site-packages/gym/logger.py:30: UserWarning: \u001b[33mWARN: Box bound precision lowered by casting to float32\u001b[0m\n",
      "  warnings.warn(colorize('%s: %s'%('WARN', msg % args), 'yellow'))\n"
     ]
    },
    {
     "name": "stdout",
     "output_type": "stream",
     "text": [
      "Warning: trajectory cut off by epoch at 1 steps.\n",
      "Warning: trajectory cut off by epoch at 5 steps.\n",
      "Warning: trajectory cut off by epoch at 2 steps.\n",
      "Warning: trajectory cut off by epoch at 2 steps.\n",
      "Warning: trajectory cut off by epoch at 6 steps.\n",
      "Warning: trajectory cut off by epoch at 1 steps.\n",
      "Warning: trajectory cut off by epoch at 5 steps.\n",
      "Warning: trajectory cut off by epoch at 4 steps.\n",
      "Warning: trajectory cut off by epoch at 1 steps.\n",
      "Warning: trajectory cut off by epoch at 1 steps.\n"
     ]
    },
    {
     "name": "stderr",
     "output_type": "stream",
     "text": [
      "/opt/conda/lib/python3.7/site-packages/gym/logger.py:30: UserWarning: \u001b[33mWARN: Box bound precision lowered by casting to float32\u001b[0m\n",
      "  warnings.warn(colorize('%s: %s'%('WARN', msg % args), 'yellow'))\n"
     ]
    },
    {
     "name": "stdout",
     "output_type": "stream",
     "text": [
      "Warning: trajectory cut off by epoch at 2 steps.\n",
      "Warning: trajectory cut off by epoch at 2 steps.\n",
      "Warning: trajectory cut off by epoch at 4 steps.\n",
      "Warning: trajectory cut off by epoch at 5 steps.\n",
      "Warning: trajectory cut off by epoch at 3 steps.\n",
      "Warning: trajectory cut off by epoch at 1 steps.\n",
      "Warning: trajectory cut off by epoch at 2 steps.\n",
      "Warning: trajectory cut off by epoch at 2 steps.\n",
      "Warning: trajectory cut off by epoch at 2 steps.\n"
     ]
    },
    {
     "name": "stderr",
     "output_type": "stream",
     "text": [
      "/opt/conda/lib/python3.7/site-packages/gym/logger.py:30: UserWarning: \u001b[33mWARN: Box bound precision lowered by casting to float32\u001b[0m\n",
      "  warnings.warn(colorize('%s: %s'%('WARN', msg % args), 'yellow'))\n"
     ]
    },
    {
     "name": "stdout",
     "output_type": "stream",
     "text": [
      "Warning: trajectory cut off by epoch at 4 steps.\n",
      "Warning: trajectory cut off by epoch at 6 steps.\n",
      "Warning: trajectory cut off by epoch at 3 steps.\n",
      "Warning: trajectory cut off by epoch at 3 steps.\n",
      "Warning: trajectory cut off by epoch at 3 steps.\n",
      "Warning: trajectory cut off by epoch at 3 steps.\n",
      "Warning: trajectory cut off by epoch at 4 steps.\n",
      "Warning: trajectory cut off by epoch at 4 steps.\n",
      "Warning: trajectory cut off by epoch at 3 steps.\n"
     ]
    },
    {
     "name": "stderr",
     "output_type": "stream",
     "text": [
      "/opt/conda/lib/python3.7/site-packages/gym/logger.py:30: UserWarning: \u001b[33mWARN: Box bound precision lowered by casting to float32\u001b[0m\n",
      "  warnings.warn(colorize('%s: %s'%('WARN', msg % args), 'yellow'))\n"
     ]
    },
    {
     "name": "stdout",
     "output_type": "stream",
     "text": [
      "Warning: trajectory cut off by epoch at 3 steps.\n",
      "Warning: trajectory cut off by epoch at 4 steps.\n",
      "Warning: trajectory cut off by epoch at 4 steps.\n",
      "Warning: trajectory cut off by epoch at 3 steps.\n",
      "Warning: trajectory cut off by epoch at 1 steps.\n",
      "Warning: trajectory cut off by epoch at 3 steps.\n",
      "Warning: trajectory cut off by epoch at 1 steps.\n"
     ]
    },
    {
     "name": "stderr",
     "output_type": "stream",
     "text": [
      "/opt/conda/lib/python3.7/site-packages/gym/logger.py:30: UserWarning: \u001b[33mWARN: Box bound precision lowered by casting to float32\u001b[0m\n",
      "  warnings.warn(colorize('%s: %s'%('WARN', msg % args), 'yellow'))\n"
     ]
    },
    {
     "name": "stdout",
     "output_type": "stream",
     "text": [
      "Warning: trajectory cut off by epoch at 2 steps.\n",
      "Warning: trajectory cut off by epoch at 1 steps.\n",
      "Warning: trajectory cut off by epoch at 1 steps.\n",
      "Warning: trajectory cut off by epoch at 3 steps.\n",
      "Warning: trajectory cut off by epoch at 5 steps.\n",
      "Warning: trajectory cut off by epoch at 3 steps.\n",
      "Warning: trajectory cut off by epoch at 2 steps.\n"
     ]
    },
    {
     "name": "stderr",
     "output_type": "stream",
     "text": [
      "/opt/conda/lib/python3.7/site-packages/gym/logger.py:30: UserWarning: \u001b[33mWARN: Box bound precision lowered by casting to float32\u001b[0m\n",
      "  warnings.warn(colorize('%s: %s'%('WARN', msg % args), 'yellow'))\n"
     ]
    },
    {
     "name": "stdout",
     "output_type": "stream",
     "text": [
      "Warning: trajectory cut off by epoch at 4 steps.\n",
      "Warning: trajectory cut off by epoch at 5 steps.\n",
      "Warning: trajectory cut off by epoch at 1 steps.\n",
      "Warning: trajectory cut off by epoch at 5 steps.\n",
      "Warning: trajectory cut off by epoch at 3 steps.\n",
      "Warning: trajectory cut off by epoch at 5 steps.\n"
     ]
    },
    {
     "name": "stderr",
     "output_type": "stream",
     "text": [
      "/opt/conda/lib/python3.7/site-packages/gym/logger.py:30: UserWarning: \u001b[33mWARN: Box bound precision lowered by casting to float32\u001b[0m\n",
      "  warnings.warn(colorize('%s: %s'%('WARN', msg % args), 'yellow'))\n"
     ]
    },
    {
     "name": "stdout",
     "output_type": "stream",
     "text": [
      "Warning: trajectory cut off by epoch at 3 steps.\n",
      "Warning: trajectory cut off by epoch at 6 steps.\n",
      "Warning: trajectory cut off by epoch at 5 steps.\n",
      "Warning: trajectory cut off by epoch at 3 steps.\n",
      "Warning: trajectory cut off by epoch at 3 steps.\n",
      "Warning: trajectory cut off by epoch at 5 steps.\n",
      "Warning: trajectory cut off by epoch at 6 steps.\n",
      "Warning: trajectory cut off by epoch at 2 steps.\n"
     ]
    },
    {
     "name": "stderr",
     "output_type": "stream",
     "text": [
      "/opt/conda/lib/python3.7/site-packages/gym/logger.py:30: UserWarning: \u001b[33mWARN: Box bound precision lowered by casting to float32\u001b[0m\n",
      "  warnings.warn(colorize('%s: %s'%('WARN', msg % args), 'yellow'))\n"
     ]
    },
    {
     "name": "stdout",
     "output_type": "stream",
     "text": [
      "Warning: trajectory cut off by epoch at 1 steps.\n",
      "Warning: trajectory cut off by epoch at 4 steps.\n",
      "Warning: trajectory cut off by epoch at 3 steps.\n",
      "Warning: trajectory cut off by epoch at 1 steps.\n",
      "Warning: trajectory cut off by epoch at 4 steps.\n",
      "Warning: trajectory cut off by epoch at 3 steps.\n"
     ]
    },
    {
     "name": "stderr",
     "output_type": "stream",
     "text": [
      "/opt/conda/lib/python3.7/site-packages/gym/logger.py:30: UserWarning: \u001b[33mWARN: Box bound precision lowered by casting to float32\u001b[0m\n",
      "  warnings.warn(colorize('%s: %s'%('WARN', msg % args), 'yellow'))\n"
     ]
    },
    {
     "name": "stdout",
     "output_type": "stream",
     "text": [
      "Warning: trajectory cut off by epoch at 5 steps.\n",
      "Warning: trajectory cut off by epoch at 4 steps.\n",
      "Warning: trajectory cut off by epoch at 3 steps.\n",
      "Warning: trajectory cut off by epoch at 3 steps.\n",
      "Warning: trajectory cut off by epoch at 7 steps.\n",
      "Warning: trajectory cut off by epoch at 2 steps.\n",
      "Warning: trajectory cut off by epoch at 27 steps.\n"
     ]
    },
    {
     "name": "stderr",
     "output_type": "stream",
     "text": [
      "/opt/conda/lib/python3.7/site-packages/gym/logger.py:30: UserWarning: \u001b[33mWARN: Box bound precision lowered by casting to float32\u001b[0m\n",
      "  warnings.warn(colorize('%s: %s'%('WARN', msg % args), 'yellow'))\n"
     ]
    },
    {
     "name": "stdout",
     "output_type": "stream",
     "text": [
      "Warning: trajectory cut off by epoch at 9 steps.\n",
      "Warning: trajectory cut off by epoch at 2 steps.\n",
      "Warning: trajectory cut off by epoch at 3 steps.\n",
      "Warning: trajectory cut off by epoch at 4 steps.\n",
      "Warning: trajectory cut off by epoch at 1 steps.\n",
      "Warning: trajectory cut off by epoch at 3 steps.\n",
      "Warning: trajectory cut off by epoch at 1 steps.\n"
     ]
    },
    {
     "name": "stderr",
     "output_type": "stream",
     "text": [
      "/opt/conda/lib/python3.7/site-packages/gym/logger.py:30: UserWarning: \u001b[33mWARN: Box bound precision lowered by casting to float32\u001b[0m\n",
      "  warnings.warn(colorize('%s: %s'%('WARN', msg % args), 'yellow'))\n"
     ]
    },
    {
     "name": "stdout",
     "output_type": "stream",
     "text": [
      "Warning: trajectory cut off by epoch at 20 steps.\n",
      "Warning: trajectory cut off by epoch at 2 steps.\n",
      "Warning: trajectory cut off by epoch at 4 steps.\n",
      "Warning: trajectory cut off by epoch at 4 steps.\n",
      "Warning: trajectory cut off by epoch at 4 steps.\n",
      "Warning: trajectory cut off by epoch at 4 steps.\n",
      "Warning: trajectory cut off by epoch at 2 steps.\n",
      "Warning: trajectory cut off by epoch at 5 steps.\n",
      "Warning: trajectory cut off by epoch at 4 steps.\n"
     ]
    },
    {
     "name": "stderr",
     "output_type": "stream",
     "text": [
      "/opt/conda/lib/python3.7/site-packages/gym/logger.py:30: UserWarning: \u001b[33mWARN: Box bound precision lowered by casting to float32\u001b[0m\n",
      "  warnings.warn(colorize('%s: %s'%('WARN', msg % args), 'yellow'))\n"
     ]
    },
    {
     "name": "stdout",
     "output_type": "stream",
     "text": [
      "Warning: trajectory cut off by epoch at 5 steps.\n",
      "Warning: trajectory cut off by epoch at 6 steps.\n",
      "Warning: trajectory cut off by epoch at 5 steps.\n",
      "Warning: trajectory cut off by epoch at 3 steps.\n",
      "Warning: trajectory cut off by epoch at 2 steps.\n",
      "Warning: trajectory cut off by epoch at 2 steps.\n",
      "Warning: trajectory cut off by epoch at 2 steps.\n",
      "Warning: trajectory cut off by epoch at 3 steps.\n",
      "Warning: trajectory cut off by epoch at 4 steps.\n"
     ]
    },
    {
     "name": "stderr",
     "output_type": "stream",
     "text": [
      "/opt/conda/lib/python3.7/site-packages/gym/logger.py:30: UserWarning: \u001b[33mWARN: Box bound precision lowered by casting to float32\u001b[0m\n",
      "  warnings.warn(colorize('%s: %s'%('WARN', msg % args), 'yellow'))\n"
     ]
    },
    {
     "name": "stdout",
     "output_type": "stream",
     "text": [
      "Warning: trajectory cut off by epoch at 3 steps.\n",
      "Warning: trajectory cut off by epoch at 1 steps.\n",
      "Warning: trajectory cut off by epoch at 5 steps.\n",
      "Warning: trajectory cut off by epoch at 3 steps.\n",
      "Warning: trajectory cut off by epoch at 4 steps.\n",
      "Warning: trajectory cut off by epoch at 4 steps.\n",
      "Warning: trajectory cut off by epoch at 3 steps.\n",
      "Warning: trajectory cut off by epoch at 3 steps.\n",
      "Warning: trajectory cut off by epoch at 6 steps.\n",
      "Warning: trajectory cut off by epoch at 3 steps.\n"
     ]
    },
    {
     "name": "stderr",
     "output_type": "stream",
     "text": [
      "/opt/conda/lib/python3.7/site-packages/gym/logger.py:30: UserWarning: \u001b[33mWARN: Box bound precision lowered by casting to float32\u001b[0m\n",
      "  warnings.warn(colorize('%s: %s'%('WARN', msg % args), 'yellow'))\n"
     ]
    },
    {
     "name": "stdout",
     "output_type": "stream",
     "text": [
      "Warning: trajectory cut off by epoch at 1 steps.\n",
      "Warning: trajectory cut off by epoch at 2 steps.\n",
      "Warning: trajectory cut off by epoch at 4 steps.\n",
      "Warning: trajectory cut off by epoch at 1 steps.\n",
      "Warning: trajectory cut off by epoch at 4 steps.\n"
     ]
    },
    {
     "name": "stderr",
     "output_type": "stream",
     "text": [
      "/opt/conda/lib/python3.7/site-packages/gym/logger.py:30: UserWarning: \u001b[33mWARN: Box bound precision lowered by casting to float32\u001b[0m\n",
      "  warnings.warn(colorize('%s: %s'%('WARN', msg % args), 'yellow'))\n"
     ]
    },
    {
     "name": "stdout",
     "output_type": "stream",
     "text": [
      "Warning: trajectory cut off by epoch at 3 steps.\n",
      "Warning: trajectory cut off by epoch at 2 steps.\n",
      "Warning: trajectory cut off by epoch at 1 steps.\n",
      "Warning: trajectory cut off by epoch at 7 steps.\n",
      "Warning: trajectory cut off by epoch at 4 steps.\n",
      "Warning: trajectory cut off by epoch at 1 steps.\n",
      "Warning: trajectory cut off by epoch at 1 steps.\n",
      "Warning: trajectory cut off by epoch at 2 steps.\n",
      "Warning: trajectory cut off by epoch at 3 steps.\n",
      "Warning: trajectory cut off by epoch at 4 steps.\n"
     ]
    },
    {
     "name": "stderr",
     "output_type": "stream",
     "text": [
      "/opt/conda/lib/python3.7/site-packages/gym/logger.py:30: UserWarning: \u001b[33mWARN: Box bound precision lowered by casting to float32\u001b[0m\n",
      "  warnings.warn(colorize('%s: %s'%('WARN', msg % args), 'yellow'))\n"
     ]
    },
    {
     "name": "stdout",
     "output_type": "stream",
     "text": [
      "Warning: trajectory cut off by epoch at 4 steps.\n",
      "Warning: trajectory cut off by epoch at 2 steps.\n",
      "Warning: trajectory cut off by epoch at 2 steps.\n",
      "Warning: trajectory cut off by epoch at 3 steps.\n",
      "Warning: trajectory cut off by epoch at 4 steps.\n",
      "Warning: trajectory cut off by epoch at 2 steps.\n"
     ]
    },
    {
     "name": "stderr",
     "output_type": "stream",
     "text": [
      "/opt/conda/lib/python3.7/site-packages/gym/logger.py:30: UserWarning: \u001b[33mWARN: Box bound precision lowered by casting to float32\u001b[0m\n",
      "  warnings.warn(colorize('%s: %s'%('WARN', msg % args), 'yellow'))\n"
     ]
    },
    {
     "name": "stdout",
     "output_type": "stream",
     "text": [
      "Warning: trajectory cut off by epoch at 4 steps.\n",
      "Warning: trajectory cut off by epoch at 6 steps.\n",
      "Warning: trajectory cut off by epoch at 5 steps.\n",
      "Warning: trajectory cut off by epoch at 3 steps.\n",
      "Warning: trajectory cut off by epoch at 12 steps.\n",
      "Warning: trajectory cut off by epoch at 4 steps.\n",
      "Warning: trajectory cut off by epoch at 32 steps.\n"
     ]
    },
    {
     "name": "stderr",
     "output_type": "stream",
     "text": [
      "/opt/conda/lib/python3.7/site-packages/gym/logger.py:30: UserWarning: \u001b[33mWARN: Box bound precision lowered by casting to float32\u001b[0m\n",
      "  warnings.warn(colorize('%s: %s'%('WARN', msg % args), 'yellow'))\n"
     ]
    },
    {
     "name": "stdout",
     "output_type": "stream",
     "text": [
      "Warning: trajectory cut off by epoch at 5 steps.\n",
      "Warning: trajectory cut off by epoch at 1 steps.\n",
      "Warning: trajectory cut off by epoch at 1 steps.\n",
      "Warning: trajectory cut off by epoch at 3 steps.\n",
      "Warning: trajectory cut off by epoch at 3 steps.\n",
      "Warning: trajectory cut off by epoch at 3 steps.\n",
      "Warning: trajectory cut off by epoch at 4 steps.\n",
      "Warning: trajectory cut off by epoch at 3 steps.\n"
     ]
    },
    {
     "name": "stderr",
     "output_type": "stream",
     "text": [
      "/opt/conda/lib/python3.7/site-packages/gym/logger.py:30: UserWarning: \u001b[33mWARN: Box bound precision lowered by casting to float32\u001b[0m\n",
      "  warnings.warn(colorize('%s: %s'%('WARN', msg % args), 'yellow'))\n"
     ]
    },
    {
     "name": "stdout",
     "output_type": "stream",
     "text": [
      "Warning: trajectory cut off by epoch at 3 steps.\n",
      "Warning: trajectory cut off by epoch at 1 steps.\n",
      "Warning: trajectory cut off by epoch at 2 steps.\n",
      "Warning: trajectory cut off by epoch at 1 steps.\n",
      "Warning: trajectory cut off by epoch at 2 steps.\n",
      "Warning: trajectory cut off by epoch at 3 steps.\n",
      "Warning: trajectory cut off by epoch at 4 steps.\n",
      "Warning: trajectory cut off by epoch at 4 steps.\n"
     ]
    },
    {
     "name": "stderr",
     "output_type": "stream",
     "text": [
      "/opt/conda/lib/python3.7/site-packages/gym/logger.py:30: UserWarning: \u001b[33mWARN: Box bound precision lowered by casting to float32\u001b[0m\n",
      "  warnings.warn(colorize('%s: %s'%('WARN', msg % args), 'yellow'))\n"
     ]
    },
    {
     "name": "stdout",
     "output_type": "stream",
     "text": [
      "Warning: trajectory cut off by epoch at 1 steps.\n",
      "Warning: trajectory cut off by epoch at 1 steps.\n",
      "Warning: trajectory cut off by epoch at 3 steps.\n",
      "Warning: trajectory cut off by epoch at 3 steps.\n",
      "Warning: trajectory cut off by epoch at 3 steps.\n",
      "Warning: trajectory cut off by epoch at 3 steps.\n",
      "Warning: trajectory cut off by epoch at 3 steps.\n",
      "Warning: trajectory cut off by epoch at 1 steps.\n",
      "Warning: trajectory cut off by epoch at 2 steps.\n"
     ]
    },
    {
     "name": "stderr",
     "output_type": "stream",
     "text": [
      "/opt/conda/lib/python3.7/site-packages/gym/logger.py:30: UserWarning: \u001b[33mWARN: Box bound precision lowered by casting to float32\u001b[0m\n",
      "  warnings.warn(colorize('%s: %s'%('WARN', msg % args), 'yellow'))\n"
     ]
    },
    {
     "name": "stdout",
     "output_type": "stream",
     "text": [
      "Warning: trajectory cut off by epoch at 1 steps.\n",
      "Warning: trajectory cut off by epoch at 2 steps.\n",
      "Warning: trajectory cut off by epoch at 4 steps.\n",
      "Warning: trajectory cut off by epoch at 2 steps.\n",
      "Warning: trajectory cut off by epoch at 7 steps.\n",
      "Warning: trajectory cut off by epoch at 4 steps.\n",
      "Warning: trajectory cut off by epoch at 2 steps.\n",
      "Warning: trajectory cut off by epoch at 3 steps.\n"
     ]
    },
    {
     "name": "stderr",
     "output_type": "stream",
     "text": [
      "/opt/conda/lib/python3.7/site-packages/gym/logger.py:30: UserWarning: \u001b[33mWARN: Box bound precision lowered by casting to float32\u001b[0m\n",
      "  warnings.warn(colorize('%s: %s'%('WARN', msg % args), 'yellow'))\n"
     ]
    },
    {
     "name": "stdout",
     "output_type": "stream",
     "text": [
      "Warning: trajectory cut off by epoch at 3 steps.\n",
      "Warning: trajectory cut off by epoch at 2 steps.\n",
      "Warning: trajectory cut off by epoch at 4 steps.\n",
      "Warning: trajectory cut off by epoch at 1 steps.\n",
      "Warning: trajectory cut off by epoch at 4 steps.\n",
      "Warning: trajectory cut off by epoch at 6 steps.\n",
      "Warning: trajectory cut off by epoch at 1 steps.\n"
     ]
    },
    {
     "name": "stderr",
     "output_type": "stream",
     "text": [
      "/opt/conda/lib/python3.7/site-packages/gym/logger.py:30: UserWarning: \u001b[33mWARN: Box bound precision lowered by casting to float32\u001b[0m\n",
      "  warnings.warn(colorize('%s: %s'%('WARN', msg % args), 'yellow'))\n"
     ]
    },
    {
     "name": "stdout",
     "output_type": "stream",
     "text": [
      "Warning: trajectory cut off by epoch at 6 steps.\n",
      "Warning: trajectory cut off by epoch at 2 steps.\n",
      "Warning: trajectory cut off by epoch at 1 steps.\n",
      "Warning: trajectory cut off by epoch at 5 steps.\n",
      "Warning: trajectory cut off by epoch at 1 steps.\n",
      "Warning: trajectory cut off by epoch at 1 steps.\n",
      "Warning: trajectory cut off by epoch at 5 steps.\n"
     ]
    },
    {
     "name": "stderr",
     "output_type": "stream",
     "text": [
      "/opt/conda/lib/python3.7/site-packages/gym/logger.py:30: UserWarning: \u001b[33mWARN: Box bound precision lowered by casting to float32\u001b[0m\n",
      "  warnings.warn(colorize('%s: %s'%('WARN', msg % args), 'yellow'))\n"
     ]
    },
    {
     "name": "stdout",
     "output_type": "stream",
     "text": [
      "Warning: trajectory cut off by epoch at 3 steps.\n",
      "Warning: trajectory cut off by epoch at 4 steps.\n",
      "Warning: trajectory cut off by epoch at 1 steps.\n",
      "Warning: trajectory cut off by epoch at 3 steps.\n",
      "Warning: trajectory cut off by epoch at 1 steps.\n",
      "Warning: trajectory cut off by epoch at 1 steps.\n",
      "Warning: trajectory cut off by epoch at 3 steps.\n",
      "Warning: trajectory cut off by epoch at 3 steps.\n"
     ]
    },
    {
     "name": "stderr",
     "output_type": "stream",
     "text": [
      "/opt/conda/lib/python3.7/site-packages/gym/logger.py:30: UserWarning: \u001b[33mWARN: Box bound precision lowered by casting to float32\u001b[0m\n",
      "  warnings.warn(colorize('%s: %s'%('WARN', msg % args), 'yellow'))\n"
     ]
    },
    {
     "name": "stdout",
     "output_type": "stream",
     "text": [
      "Warning: trajectory cut off by epoch at 3 steps.\n",
      "Warning: trajectory cut off by epoch at 4 steps.\n",
      "Warning: trajectory cut off by epoch at 4 steps.\n",
      "Warning: trajectory cut off by epoch at 1 steps.\n",
      "Warning: trajectory cut off by epoch at 1 steps.\n",
      "Warning: trajectory cut off by epoch at 5 steps.\n",
      "Warning: trajectory cut off by epoch at 2 steps.\n",
      "Warning: trajectory cut off by epoch at 4 steps.\n",
      "Warning: trajectory cut off by epoch at 3 steps.\n"
     ]
    },
    {
     "name": "stderr",
     "output_type": "stream",
     "text": [
      "/opt/conda/lib/python3.7/site-packages/gym/logger.py:30: UserWarning: \u001b[33mWARN: Box bound precision lowered by casting to float32\u001b[0m\n",
      "  warnings.warn(colorize('%s: %s'%('WARN', msg % args), 'yellow'))\n"
     ]
    },
    {
     "name": "stdout",
     "output_type": "stream",
     "text": [
      "Warning: trajectory cut off by epoch at 3 steps.\n",
      "Warning: trajectory cut off by epoch at 4 steps.\n",
      "Warning: trajectory cut off by epoch at 5 steps.\n",
      "Warning: trajectory cut off by epoch at 4 steps.\n",
      "Warning: trajectory cut off by epoch at 1 steps.\n",
      "Warning: trajectory cut off by epoch at 3 steps.\n",
      "Warning: trajectory cut off by epoch at 1 steps.\n",
      "Warning: trajectory cut off by epoch at 1 steps.\n"
     ]
    },
    {
     "name": "stderr",
     "output_type": "stream",
     "text": [
      "/opt/conda/lib/python3.7/site-packages/gym/logger.py:30: UserWarning: \u001b[33mWARN: Box bound precision lowered by casting to float32\u001b[0m\n",
      "  warnings.warn(colorize('%s: %s'%('WARN', msg % args), 'yellow'))\n"
     ]
    },
    {
     "name": "stdout",
     "output_type": "stream",
     "text": [
      "Warning: trajectory cut off by epoch at 1 steps.\n",
      "Warning: trajectory cut off by epoch at 1 steps.\n",
      "Warning: trajectory cut off by epoch at 2 steps.\n",
      "Warning: trajectory cut off by epoch at 2 steps.\n",
      "Warning: trajectory cut off by epoch at 3 steps.\n",
      "Warning: trajectory cut off by epoch at 3 steps.\n",
      "Warning: trajectory cut off by epoch at 2 steps.\n",
      "Warning: trajectory cut off by epoch at 2 steps.\n",
      "Warning: trajectory cut off by epoch at 1 steps.\n",
      "Warning: trajectory cut off by epoch at 2 steps.\n"
     ]
    },
    {
     "name": "stderr",
     "output_type": "stream",
     "text": [
      "/opt/conda/lib/python3.7/site-packages/gym/logger.py:30: UserWarning: \u001b[33mWARN: Box bound precision lowered by casting to float32\u001b[0m\n",
      "  warnings.warn(colorize('%s: %s'%('WARN', msg % args), 'yellow'))\n"
     ]
    },
    {
     "name": "stdout",
     "output_type": "stream",
     "text": [
      "Warning: trajectory cut off by epoch at 4 steps.\n",
      "Warning: trajectory cut off by epoch at 2 steps.\n",
      "Warning: trajectory cut off by epoch at 4 steps.\n",
      "Warning: trajectory cut off by epoch at 3 steps.\n",
      "Warning: trajectory cut off by epoch at 1 steps.\n",
      "Warning: trajectory cut off by epoch at 1 steps.\n",
      "Warning: trajectory cut off by epoch at 5 steps.\n",
      "Warning: trajectory cut off by epoch at 1 steps.\n",
      "Warning: trajectory cut off by epoch at 3 steps.\n"
     ]
    },
    {
     "name": "stderr",
     "output_type": "stream",
     "text": [
      "/opt/conda/lib/python3.7/site-packages/gym/logger.py:30: UserWarning: \u001b[33mWARN: Box bound precision lowered by casting to float32\u001b[0m\n",
      "  warnings.warn(colorize('%s: %s'%('WARN', msg % args), 'yellow'))\n"
     ]
    },
    {
     "name": "stdout",
     "output_type": "stream",
     "text": [
      "Warning: trajectory cut off by epoch at 2 steps.\n",
      "Warning: trajectory cut off by epoch at 2 steps.\n",
      "Warning: trajectory cut off by epoch at 1 steps.\n",
      "Warning: trajectory cut off by epoch at 1 steps.\n",
      "Warning: trajectory cut off by epoch at 4 steps.\n",
      "Warning: trajectory cut off by epoch at 5 steps.\n",
      "Warning: trajectory cut off by epoch at 4 steps.\n",
      "Warning: trajectory cut off by epoch at 10 steps.\n",
      "Warning: trajectory cut off by epoch at 5 steps.\n",
      "Warning: trajectory cut off by epoch at 9 steps.\n"
     ]
    },
    {
     "name": "stderr",
     "output_type": "stream",
     "text": [
      "/opt/conda/lib/python3.7/site-packages/gym/logger.py:30: UserWarning: \u001b[33mWARN: Box bound precision lowered by casting to float32\u001b[0m\n",
      "  warnings.warn(colorize('%s: %s'%('WARN', msg % args), 'yellow'))\n"
     ]
    },
    {
     "name": "stdout",
     "output_type": "stream",
     "text": [
      "Warning: trajectory cut off by epoch at 2 steps.\n",
      "Warning: trajectory cut off by epoch at 1 steps.\n",
      "Warning: trajectory cut off by epoch at 3 steps.\n",
      "Warning: trajectory cut off by epoch at 2 steps.\n",
      "Warning: trajectory cut off by epoch at 3 steps.\n",
      "Warning: trajectory cut off by epoch at 3 steps.\n",
      "Warning: trajectory cut off by epoch at 5 steps.\n",
      "Warning: trajectory cut off by epoch at 4 steps.\n",
      "Warning: trajectory cut off by epoch at 4 steps.\n",
      "Warning: trajectory cut off by epoch at 5 steps.\n"
     ]
    },
    {
     "name": "stderr",
     "output_type": "stream",
     "text": [
      "/opt/conda/lib/python3.7/site-packages/gym/logger.py:30: UserWarning: \u001b[33mWARN: Box bound precision lowered by casting to float32\u001b[0m\n",
      "  warnings.warn(colorize('%s: %s'%('WARN', msg % args), 'yellow'))\n"
     ]
    },
    {
     "name": "stdout",
     "output_type": "stream",
     "text": [
      "Warning: trajectory cut off by epoch at 6 steps.\n",
      "Warning: trajectory cut off by epoch at 2 steps.\n",
      "Warning: trajectory cut off by epoch at 4 steps.\n",
      "Warning: trajectory cut off by epoch at 5 steps.\n",
      "Warning: trajectory cut off by epoch at 3 steps.\n",
      "Warning: trajectory cut off by epoch at 2 steps.\n",
      "Warning: trajectory cut off by epoch at 3 steps.\n",
      "Warning: trajectory cut off by epoch at 4 steps.\n"
     ]
    },
    {
     "name": "stderr",
     "output_type": "stream",
     "text": [
      "/opt/conda/lib/python3.7/site-packages/gym/logger.py:30: UserWarning: \u001b[33mWARN: Box bound precision lowered by casting to float32\u001b[0m\n",
      "  warnings.warn(colorize('%s: %s'%('WARN', msg % args), 'yellow'))\n"
     ]
    },
    {
     "name": "stdout",
     "output_type": "stream",
     "text": [
      "Warning: trajectory cut off by epoch at 2 steps.\n",
      "Warning: trajectory cut off by epoch at 5 steps.\n",
      "Warning: trajectory cut off by epoch at 3 steps.\n",
      "Warning: trajectory cut off by epoch at 1 steps.\n",
      "Warning: trajectory cut off by epoch at 6 steps.\n",
      "Warning: trajectory cut off by epoch at 4 steps.\n",
      "Warning: trajectory cut off by epoch at 1 steps.\n",
      "Warning: trajectory cut off by epoch at 3 steps.\n",
      "Warning: trajectory cut off by epoch at 4 steps.\n"
     ]
    }
   ],
   "source": [
    "epoch_reward = vpg_pytorch(lambda : gym.make(env_id), actor_critic=MLPActorCritic,\n",
    "                            ac_kwargs=dict(hidden_sizes=[hid]*num_layers), gamma=gamma, \n",
    "                            seed=seed, steps_per_epoch=steps, epochs=num_epochs,\n",
    "                            logger_kwargs=logger_kwargs, max_ep_len=MAX_STEPS_PER_EPISODE)"
   ]
  },
  {
   "cell_type": "code",
   "execution_count": 17,
   "metadata": {},
   "outputs": [],
   "source": [
    "def process_sample(observation, action,reward, \n",
    "                    terminal,next_observation,info):\n",
    "    \n",
    "    processed_observation = {\n",
    "        'observations': observation,\n",
    "        'actions': action,\n",
    "        'rewards': np.atleast_1d(reward),\n",
    "        'terminals': np.atleast_1d(terminal),\n",
    "        'next_observations': next_observation,\n",
    "        'infos': info,\n",
    "    }\n",
    "\n",
    "    return processed_observation\n",
    "\n",
    "def test_policy(agent_fun):\n",
    "    \n",
    "    env = gym.make(env_id)\n",
    "    env.seed(seed)\n",
    "    reward = 0.\n",
    "    done = False\n",
    "    agent = agent_fun(env)\n",
    "    current_path = []\n",
    "    \n",
    "    path_length = 0\n",
    "    path_return = 0.\n",
    "    num_episodes = 4\n",
    "    max_steps = 100\n",
    "    all_paths = []\n",
    "    total_rewards = []\n",
    "    \n",
    "    for episode in range(1, num_episodes+1):\n",
    "\n",
    "        current_ob = env.reset()\n",
    "        rewards = []\n",
    "\n",
    "        while True:\n",
    "            ob_tensor = torch.as_tensor(current_ob, dtype=torch.float32)\n",
    "            action = agent.act(ob_tensor)\n",
    "            \n",
    "            ob, reward, done, info = env.step(action)\n",
    "\n",
    "            processed_sample = process_sample(observation=current_ob, action=action, reward=reward,\n",
    "                                              terminal=done, next_observation=ob,info=info)\n",
    "\n",
    "            rewards.append(reward)\n",
    "            current_path.append(processed_sample)\n",
    "\n",
    "            path_length += 1\n",
    "\n",
    "            if done or path_length > max_steps:\n",
    "                current_ob = env.reset()\n",
    "                path_length = 0\n",
    "                last_path = tree.map_structure(lambda *x: np.stack(x, axis=0), *current_path)\n",
    "                all_paths.append(last_path)\n",
    "                env.render_rollouts(all_paths)\n",
    "                current_path = []\n",
    "\n",
    "                break\n",
    "            else:\n",
    "                current_ob = ob    \n",
    "            \n",
    "        total_rewards.append((np.sum(rewards), np.mean(rewards)))\n",
    "#         if episode % 5 == 0:\n",
    "#             print ('Episode Number: {:d} | Total Reward: {:.4f} '.format(episode, np.sum(rewards)))\n",
    "\n",
    "    env.close()\n",
    "    total_rewards = tree.map_structure(lambda *x: np.stack(x, axis=0), *total_rewards)\n",
    "    return total_rewards"
   ]
  },
  {
   "cell_type": "code",
   "execution_count": 25,
   "metadata": {},
   "outputs": [
    {
     "data": {
      "application/javascript": [
       "/* Put everything inside the global mpl namespace */\n",
       "window.mpl = {};\n",
       "\n",
       "\n",
       "mpl.get_websocket_type = function() {\n",
       "    if (typeof(WebSocket) !== 'undefined') {\n",
       "        return WebSocket;\n",
       "    } else if (typeof(MozWebSocket) !== 'undefined') {\n",
       "        return MozWebSocket;\n",
       "    } else {\n",
       "        alert('Your browser does not have WebSocket support. ' +\n",
       "              'Please try Chrome, Safari or Firefox ≥ 6. ' +\n",
       "              'Firefox 4 and 5 are also supported but you ' +\n",
       "              'have to enable WebSockets in about:config.');\n",
       "    };\n",
       "}\n",
       "\n",
       "mpl.figure = function(figure_id, websocket, ondownload, parent_element) {\n",
       "    this.id = figure_id;\n",
       "\n",
       "    this.ws = websocket;\n",
       "\n",
       "    this.supports_binary = (this.ws.binaryType != undefined);\n",
       "\n",
       "    if (!this.supports_binary) {\n",
       "        var warnings = document.getElementById(\"mpl-warnings\");\n",
       "        if (warnings) {\n",
       "            warnings.style.display = 'block';\n",
       "            warnings.textContent = (\n",
       "                \"This browser does not support binary websocket messages. \" +\n",
       "                    \"Performance may be slow.\");\n",
       "        }\n",
       "    }\n",
       "\n",
       "    this.imageObj = new Image();\n",
       "\n",
       "    this.context = undefined;\n",
       "    this.message = undefined;\n",
       "    this.canvas = undefined;\n",
       "    this.rubberband_canvas = undefined;\n",
       "    this.rubberband_context = undefined;\n",
       "    this.format_dropdown = undefined;\n",
       "\n",
       "    this.image_mode = 'full';\n",
       "\n",
       "    this.root = $('<div/>');\n",
       "    this._root_extra_style(this.root)\n",
       "    this.root.attr('style', 'display: inline-block');\n",
       "\n",
       "    $(parent_element).append(this.root);\n",
       "\n",
       "    this._init_header(this);\n",
       "    this._init_canvas(this);\n",
       "    this._init_toolbar(this);\n",
       "\n",
       "    var fig = this;\n",
       "\n",
       "    this.waiting = false;\n",
       "\n",
       "    this.ws.onopen =  function () {\n",
       "            fig.send_message(\"supports_binary\", {value: fig.supports_binary});\n",
       "            fig.send_message(\"send_image_mode\", {});\n",
       "            if (mpl.ratio != 1) {\n",
       "                fig.send_message(\"set_dpi_ratio\", {'dpi_ratio': mpl.ratio});\n",
       "            }\n",
       "            fig.send_message(\"refresh\", {});\n",
       "        }\n",
       "\n",
       "    this.imageObj.onload = function() {\n",
       "            if (fig.image_mode == 'full') {\n",
       "                // Full images could contain transparency (where diff images\n",
       "                // almost always do), so we need to clear the canvas so that\n",
       "                // there is no ghosting.\n",
       "                fig.context.clearRect(0, 0, fig.canvas.width, fig.canvas.height);\n",
       "            }\n",
       "            fig.context.drawImage(fig.imageObj, 0, 0);\n",
       "        };\n",
       "\n",
       "    this.imageObj.onunload = function() {\n",
       "        fig.ws.close();\n",
       "    }\n",
       "\n",
       "    this.ws.onmessage = this._make_on_message_function(this);\n",
       "\n",
       "    this.ondownload = ondownload;\n",
       "}\n",
       "\n",
       "mpl.figure.prototype._init_header = function() {\n",
       "    var titlebar = $(\n",
       "        '<div class=\"ui-dialog-titlebar ui-widget-header ui-corner-all ' +\n",
       "        'ui-helper-clearfix\"/>');\n",
       "    var titletext = $(\n",
       "        '<div class=\"ui-dialog-title\" style=\"width: 100%; ' +\n",
       "        'text-align: center; padding: 3px;\"/>');\n",
       "    titlebar.append(titletext)\n",
       "    this.root.append(titlebar);\n",
       "    this.header = titletext[0];\n",
       "}\n",
       "\n",
       "\n",
       "\n",
       "mpl.figure.prototype._canvas_extra_style = function(canvas_div) {\n",
       "\n",
       "}\n",
       "\n",
       "\n",
       "mpl.figure.prototype._root_extra_style = function(canvas_div) {\n",
       "\n",
       "}\n",
       "\n",
       "mpl.figure.prototype._init_canvas = function() {\n",
       "    var fig = this;\n",
       "\n",
       "    var canvas_div = $('<div/>');\n",
       "\n",
       "    canvas_div.attr('style', 'position: relative; clear: both; outline: 0');\n",
       "\n",
       "    function canvas_keyboard_event(event) {\n",
       "        return fig.key_event(event, event['data']);\n",
       "    }\n",
       "\n",
       "    canvas_div.keydown('key_press', canvas_keyboard_event);\n",
       "    canvas_div.keyup('key_release', canvas_keyboard_event);\n",
       "    this.canvas_div = canvas_div\n",
       "    this._canvas_extra_style(canvas_div)\n",
       "    this.root.append(canvas_div);\n",
       "\n",
       "    var canvas = $('<canvas/>');\n",
       "    canvas.addClass('mpl-canvas');\n",
       "    canvas.attr('style', \"left: 0; top: 0; z-index: 0; outline: 0\")\n",
       "\n",
       "    this.canvas = canvas[0];\n",
       "    this.context = canvas[0].getContext(\"2d\");\n",
       "\n",
       "    var backingStore = this.context.backingStorePixelRatio ||\n",
       "\tthis.context.webkitBackingStorePixelRatio ||\n",
       "\tthis.context.mozBackingStorePixelRatio ||\n",
       "\tthis.context.msBackingStorePixelRatio ||\n",
       "\tthis.context.oBackingStorePixelRatio ||\n",
       "\tthis.context.backingStorePixelRatio || 1;\n",
       "\n",
       "    mpl.ratio = (window.devicePixelRatio || 1) / backingStore;\n",
       "\n",
       "    var rubberband = $('<canvas/>');\n",
       "    rubberband.attr('style', \"position: absolute; left: 0; top: 0; z-index: 1;\")\n",
       "\n",
       "    var pass_mouse_events = true;\n",
       "\n",
       "    canvas_div.resizable({\n",
       "        start: function(event, ui) {\n",
       "            pass_mouse_events = false;\n",
       "        },\n",
       "        resize: function(event, ui) {\n",
       "            fig.request_resize(ui.size.width, ui.size.height);\n",
       "        },\n",
       "        stop: function(event, ui) {\n",
       "            pass_mouse_events = true;\n",
       "            fig.request_resize(ui.size.width, ui.size.height);\n",
       "        },\n",
       "    });\n",
       "\n",
       "    function mouse_event_fn(event) {\n",
       "        if (pass_mouse_events)\n",
       "            return fig.mouse_event(event, event['data']);\n",
       "    }\n",
       "\n",
       "    rubberband.mousedown('button_press', mouse_event_fn);\n",
       "    rubberband.mouseup('button_release', mouse_event_fn);\n",
       "    // Throttle sequential mouse events to 1 every 20ms.\n",
       "    rubberband.mousemove('motion_notify', mouse_event_fn);\n",
       "\n",
       "    rubberband.mouseenter('figure_enter', mouse_event_fn);\n",
       "    rubberband.mouseleave('figure_leave', mouse_event_fn);\n",
       "\n",
       "    canvas_div.on(\"wheel\", function (event) {\n",
       "        event = event.originalEvent;\n",
       "        event['data'] = 'scroll'\n",
       "        if (event.deltaY < 0) {\n",
       "            event.step = 1;\n",
       "        } else {\n",
       "            event.step = -1;\n",
       "        }\n",
       "        mouse_event_fn(event);\n",
       "    });\n",
       "\n",
       "    canvas_div.append(canvas);\n",
       "    canvas_div.append(rubberband);\n",
       "\n",
       "    this.rubberband = rubberband;\n",
       "    this.rubberband_canvas = rubberband[0];\n",
       "    this.rubberband_context = rubberband[0].getContext(\"2d\");\n",
       "    this.rubberband_context.strokeStyle = \"#000000\";\n",
       "\n",
       "    this._resize_canvas = function(width, height) {\n",
       "        // Keep the size of the canvas, canvas container, and rubber band\n",
       "        // canvas in synch.\n",
       "        canvas_div.css('width', width)\n",
       "        canvas_div.css('height', height)\n",
       "\n",
       "        canvas.attr('width', width * mpl.ratio);\n",
       "        canvas.attr('height', height * mpl.ratio);\n",
       "        canvas.attr('style', 'width: ' + width + 'px; height: ' + height + 'px;');\n",
       "\n",
       "        rubberband.attr('width', width);\n",
       "        rubberband.attr('height', height);\n",
       "    }\n",
       "\n",
       "    // Set the figure to an initial 600x600px, this will subsequently be updated\n",
       "    // upon first draw.\n",
       "    this._resize_canvas(600, 600);\n",
       "\n",
       "    // Disable right mouse context menu.\n",
       "    $(this.rubberband_canvas).bind(\"contextmenu\",function(e){\n",
       "        return false;\n",
       "    });\n",
       "\n",
       "    function set_focus () {\n",
       "        canvas.focus();\n",
       "        canvas_div.focus();\n",
       "    }\n",
       "\n",
       "    window.setTimeout(set_focus, 100);\n",
       "}\n",
       "\n",
       "mpl.figure.prototype._init_toolbar = function() {\n",
       "    var fig = this;\n",
       "\n",
       "    var nav_element = $('<div/>');\n",
       "    nav_element.attr('style', 'width: 100%');\n",
       "    this.root.append(nav_element);\n",
       "\n",
       "    // Define a callback function for later on.\n",
       "    function toolbar_event(event) {\n",
       "        return fig.toolbar_button_onclick(event['data']);\n",
       "    }\n",
       "    function toolbar_mouse_event(event) {\n",
       "        return fig.toolbar_button_onmouseover(event['data']);\n",
       "    }\n",
       "\n",
       "    for(var toolbar_ind in mpl.toolbar_items) {\n",
       "        var name = mpl.toolbar_items[toolbar_ind][0];\n",
       "        var tooltip = mpl.toolbar_items[toolbar_ind][1];\n",
       "        var image = mpl.toolbar_items[toolbar_ind][2];\n",
       "        var method_name = mpl.toolbar_items[toolbar_ind][3];\n",
       "\n",
       "        if (!name) {\n",
       "            // put a spacer in here.\n",
       "            continue;\n",
       "        }\n",
       "        var button = $('<button/>');\n",
       "        button.addClass('ui-button ui-widget ui-state-default ui-corner-all ' +\n",
       "                        'ui-button-icon-only');\n",
       "        button.attr('role', 'button');\n",
       "        button.attr('aria-disabled', 'false');\n",
       "        button.click(method_name, toolbar_event);\n",
       "        button.mouseover(tooltip, toolbar_mouse_event);\n",
       "\n",
       "        var icon_img = $('<span/>');\n",
       "        icon_img.addClass('ui-button-icon-primary ui-icon');\n",
       "        icon_img.addClass(image);\n",
       "        icon_img.addClass('ui-corner-all');\n",
       "\n",
       "        var tooltip_span = $('<span/>');\n",
       "        tooltip_span.addClass('ui-button-text');\n",
       "        tooltip_span.html(tooltip);\n",
       "\n",
       "        button.append(icon_img);\n",
       "        button.append(tooltip_span);\n",
       "\n",
       "        nav_element.append(button);\n",
       "    }\n",
       "\n",
       "    var fmt_picker_span = $('<span/>');\n",
       "\n",
       "    var fmt_picker = $('<select/>');\n",
       "    fmt_picker.addClass('mpl-toolbar-option ui-widget ui-widget-content');\n",
       "    fmt_picker_span.append(fmt_picker);\n",
       "    nav_element.append(fmt_picker_span);\n",
       "    this.format_dropdown = fmt_picker[0];\n",
       "\n",
       "    for (var ind in mpl.extensions) {\n",
       "        var fmt = mpl.extensions[ind];\n",
       "        var option = $(\n",
       "            '<option/>', {selected: fmt === mpl.default_extension}).html(fmt);\n",
       "        fmt_picker.append(option);\n",
       "    }\n",
       "\n",
       "    // Add hover states to the ui-buttons\n",
       "    $( \".ui-button\" ).hover(\n",
       "        function() { $(this).addClass(\"ui-state-hover\");},\n",
       "        function() { $(this).removeClass(\"ui-state-hover\");}\n",
       "    );\n",
       "\n",
       "    var status_bar = $('<span class=\"mpl-message\"/>');\n",
       "    nav_element.append(status_bar);\n",
       "    this.message = status_bar[0];\n",
       "}\n",
       "\n",
       "mpl.figure.prototype.request_resize = function(x_pixels, y_pixels) {\n",
       "    // Request matplotlib to resize the figure. Matplotlib will then trigger a resize in the client,\n",
       "    // which will in turn request a refresh of the image.\n",
       "    this.send_message('resize', {'width': x_pixels, 'height': y_pixels});\n",
       "}\n",
       "\n",
       "mpl.figure.prototype.send_message = function(type, properties) {\n",
       "    properties['type'] = type;\n",
       "    properties['figure_id'] = this.id;\n",
       "    this.ws.send(JSON.stringify(properties));\n",
       "}\n",
       "\n",
       "mpl.figure.prototype.send_draw_message = function() {\n",
       "    if (!this.waiting) {\n",
       "        this.waiting = true;\n",
       "        this.ws.send(JSON.stringify({type: \"draw\", figure_id: this.id}));\n",
       "    }\n",
       "}\n",
       "\n",
       "\n",
       "mpl.figure.prototype.handle_save = function(fig, msg) {\n",
       "    var format_dropdown = fig.format_dropdown;\n",
       "    var format = format_dropdown.options[format_dropdown.selectedIndex].value;\n",
       "    fig.ondownload(fig, format);\n",
       "}\n",
       "\n",
       "\n",
       "mpl.figure.prototype.handle_resize = function(fig, msg) {\n",
       "    var size = msg['size'];\n",
       "    if (size[0] != fig.canvas.width || size[1] != fig.canvas.height) {\n",
       "        fig._resize_canvas(size[0], size[1]);\n",
       "        fig.send_message(\"refresh\", {});\n",
       "    };\n",
       "}\n",
       "\n",
       "mpl.figure.prototype.handle_rubberband = function(fig, msg) {\n",
       "    var x0 = msg['x0'] / mpl.ratio;\n",
       "    var y0 = (fig.canvas.height - msg['y0']) / mpl.ratio;\n",
       "    var x1 = msg['x1'] / mpl.ratio;\n",
       "    var y1 = (fig.canvas.height - msg['y1']) / mpl.ratio;\n",
       "    x0 = Math.floor(x0) + 0.5;\n",
       "    y0 = Math.floor(y0) + 0.5;\n",
       "    x1 = Math.floor(x1) + 0.5;\n",
       "    y1 = Math.floor(y1) + 0.5;\n",
       "    var min_x = Math.min(x0, x1);\n",
       "    var min_y = Math.min(y0, y1);\n",
       "    var width = Math.abs(x1 - x0);\n",
       "    var height = Math.abs(y1 - y0);\n",
       "\n",
       "    fig.rubberband_context.clearRect(\n",
       "        0, 0, fig.canvas.width / mpl.ratio, fig.canvas.height / mpl.ratio);\n",
       "\n",
       "    fig.rubberband_context.strokeRect(min_x, min_y, width, height);\n",
       "}\n",
       "\n",
       "mpl.figure.prototype.handle_figure_label = function(fig, msg) {\n",
       "    // Updates the figure title.\n",
       "    fig.header.textContent = msg['label'];\n",
       "}\n",
       "\n",
       "mpl.figure.prototype.handle_cursor = function(fig, msg) {\n",
       "    var cursor = msg['cursor'];\n",
       "    switch(cursor)\n",
       "    {\n",
       "    case 0:\n",
       "        cursor = 'pointer';\n",
       "        break;\n",
       "    case 1:\n",
       "        cursor = 'default';\n",
       "        break;\n",
       "    case 2:\n",
       "        cursor = 'crosshair';\n",
       "        break;\n",
       "    case 3:\n",
       "        cursor = 'move';\n",
       "        break;\n",
       "    }\n",
       "    fig.rubberband_canvas.style.cursor = cursor;\n",
       "}\n",
       "\n",
       "mpl.figure.prototype.handle_message = function(fig, msg) {\n",
       "    fig.message.textContent = msg['message'];\n",
       "}\n",
       "\n",
       "mpl.figure.prototype.handle_draw = function(fig, msg) {\n",
       "    // Request the server to send over a new figure.\n",
       "    fig.send_draw_message();\n",
       "}\n",
       "\n",
       "mpl.figure.prototype.handle_image_mode = function(fig, msg) {\n",
       "    fig.image_mode = msg['mode'];\n",
       "}\n",
       "\n",
       "mpl.figure.prototype.updated_canvas_event = function() {\n",
       "    // Called whenever the canvas gets updated.\n",
       "    this.send_message(\"ack\", {});\n",
       "}\n",
       "\n",
       "// A function to construct a web socket function for onmessage handling.\n",
       "// Called in the figure constructor.\n",
       "mpl.figure.prototype._make_on_message_function = function(fig) {\n",
       "    return function socket_on_message(evt) {\n",
       "        if (evt.data instanceof Blob) {\n",
       "            /* FIXME: We get \"Resource interpreted as Image but\n",
       "             * transferred with MIME type text/plain:\" errors on\n",
       "             * Chrome.  But how to set the MIME type?  It doesn't seem\n",
       "             * to be part of the websocket stream */\n",
       "            evt.data.type = \"image/png\";\n",
       "\n",
       "            /* Free the memory for the previous frames */\n",
       "            if (fig.imageObj.src) {\n",
       "                (window.URL || window.webkitURL).revokeObjectURL(\n",
       "                    fig.imageObj.src);\n",
       "            }\n",
       "\n",
       "            fig.imageObj.src = (window.URL || window.webkitURL).createObjectURL(\n",
       "                evt.data);\n",
       "            fig.updated_canvas_event();\n",
       "            fig.waiting = false;\n",
       "            return;\n",
       "        }\n",
       "        else if (typeof evt.data === 'string' && evt.data.slice(0, 21) == \"data:image/png;base64\") {\n",
       "            fig.imageObj.src = evt.data;\n",
       "            fig.updated_canvas_event();\n",
       "            fig.waiting = false;\n",
       "            return;\n",
       "        }\n",
       "\n",
       "        var msg = JSON.parse(evt.data);\n",
       "        var msg_type = msg['type'];\n",
       "\n",
       "        // Call the  \"handle_{type}\" callback, which takes\n",
       "        // the figure and JSON message as its only arguments.\n",
       "        try {\n",
       "            var callback = fig[\"handle_\" + msg_type];\n",
       "        } catch (e) {\n",
       "            console.log(\"No handler for the '\" + msg_type + \"' message type: \", msg);\n",
       "            return;\n",
       "        }\n",
       "\n",
       "        if (callback) {\n",
       "            try {\n",
       "                // console.log(\"Handling '\" + msg_type + \"' message: \", msg);\n",
       "                callback(fig, msg);\n",
       "            } catch (e) {\n",
       "                console.log(\"Exception inside the 'handler_\" + msg_type + \"' callback:\", e, e.stack, msg);\n",
       "            }\n",
       "        }\n",
       "    };\n",
       "}\n",
       "\n",
       "// from http://stackoverflow.com/questions/1114465/getting-mouse-location-in-canvas\n",
       "mpl.findpos = function(e) {\n",
       "    //this section is from http://www.quirksmode.org/js/events_properties.html\n",
       "    var targ;\n",
       "    if (!e)\n",
       "        e = window.event;\n",
       "    if (e.target)\n",
       "        targ = e.target;\n",
       "    else if (e.srcElement)\n",
       "        targ = e.srcElement;\n",
       "    if (targ.nodeType == 3) // defeat Safari bug\n",
       "        targ = targ.parentNode;\n",
       "\n",
       "    // jQuery normalizes the pageX and pageY\n",
       "    // pageX,Y are the mouse positions relative to the document\n",
       "    // offset() returns the position of the element relative to the document\n",
       "    var x = e.pageX - $(targ).offset().left;\n",
       "    var y = e.pageY - $(targ).offset().top;\n",
       "\n",
       "    return {\"x\": x, \"y\": y};\n",
       "};\n",
       "\n",
       "/*\n",
       " * return a copy of an object with only non-object keys\n",
       " * we need this to avoid circular references\n",
       " * http://stackoverflow.com/a/24161582/3208463\n",
       " */\n",
       "function simpleKeys (original) {\n",
       "  return Object.keys(original).reduce(function (obj, key) {\n",
       "    if (typeof original[key] !== 'object')\n",
       "        obj[key] = original[key]\n",
       "    return obj;\n",
       "  }, {});\n",
       "}\n",
       "\n",
       "mpl.figure.prototype.mouse_event = function(event, name) {\n",
       "    var canvas_pos = mpl.findpos(event)\n",
       "\n",
       "    if (name === 'button_press')\n",
       "    {\n",
       "        this.canvas.focus();\n",
       "        this.canvas_div.focus();\n",
       "    }\n",
       "\n",
       "    var x = canvas_pos.x * mpl.ratio;\n",
       "    var y = canvas_pos.y * mpl.ratio;\n",
       "\n",
       "    this.send_message(name, {x: x, y: y, button: event.button,\n",
       "                             step: event.step,\n",
       "                             guiEvent: simpleKeys(event)});\n",
       "\n",
       "    /* This prevents the web browser from automatically changing to\n",
       "     * the text insertion cursor when the button is pressed.  We want\n",
       "     * to control all of the cursor setting manually through the\n",
       "     * 'cursor' event from matplotlib */\n",
       "    event.preventDefault();\n",
       "    return false;\n",
       "}\n",
       "\n",
       "mpl.figure.prototype._key_event_extra = function(event, name) {\n",
       "    // Handle any extra behaviour associated with a key event\n",
       "}\n",
       "\n",
       "mpl.figure.prototype.key_event = function(event, name) {\n",
       "\n",
       "    // Prevent repeat events\n",
       "    if (name == 'key_press')\n",
       "    {\n",
       "        if (event.which === this._key)\n",
       "            return;\n",
       "        else\n",
       "            this._key = event.which;\n",
       "    }\n",
       "    if (name == 'key_release')\n",
       "        this._key = null;\n",
       "\n",
       "    var value = '';\n",
       "    if (event.ctrlKey && event.which != 17)\n",
       "        value += \"ctrl+\";\n",
       "    if (event.altKey && event.which != 18)\n",
       "        value += \"alt+\";\n",
       "    if (event.shiftKey && event.which != 16)\n",
       "        value += \"shift+\";\n",
       "\n",
       "    value += 'k';\n",
       "    value += event.which.toString();\n",
       "\n",
       "    this._key_event_extra(event, name);\n",
       "\n",
       "    this.send_message(name, {key: value,\n",
       "                             guiEvent: simpleKeys(event)});\n",
       "    return false;\n",
       "}\n",
       "\n",
       "mpl.figure.prototype.toolbar_button_onclick = function(name) {\n",
       "    if (name == 'download') {\n",
       "        this.handle_save(this, null);\n",
       "    } else {\n",
       "        this.send_message(\"toolbar_button\", {name: name});\n",
       "    }\n",
       "};\n",
       "\n",
       "mpl.figure.prototype.toolbar_button_onmouseover = function(tooltip) {\n",
       "    this.message.textContent = tooltip;\n",
       "};\n",
       "mpl.toolbar_items = [[\"Home\", \"Reset original view\", \"fa fa-home icon-home\", \"home\"], [\"Back\", \"Back to previous view\", \"fa fa-arrow-left icon-arrow-left\", \"back\"], [\"Forward\", \"Forward to next view\", \"fa fa-arrow-right icon-arrow-right\", \"forward\"], [\"\", \"\", \"\", \"\"], [\"Pan\", \"Pan axes with left mouse, zoom with right\", \"fa fa-arrows icon-move\", \"pan\"], [\"Zoom\", \"Zoom to rectangle\", \"fa fa-square-o icon-check-empty\", \"zoom\"], [\"\", \"\", \"\", \"\"], [\"Download\", \"Download plot\", \"fa fa-floppy-o icon-save\", \"download\"]];\n",
       "\n",
       "mpl.extensions = [\"eps\", \"jpeg\", \"pdf\", \"png\", \"ps\", \"raw\", \"svg\", \"tif\"];\n",
       "\n",
       "mpl.default_extension = \"png\";var comm_websocket_adapter = function(comm) {\n",
       "    // Create a \"websocket\"-like object which calls the given IPython comm\n",
       "    // object with the appropriate methods. Currently this is a non binary\n",
       "    // socket, so there is still some room for performance tuning.\n",
       "    var ws = {};\n",
       "\n",
       "    ws.close = function() {\n",
       "        comm.close()\n",
       "    };\n",
       "    ws.send = function(m) {\n",
       "        //console.log('sending', m);\n",
       "        comm.send(m);\n",
       "    };\n",
       "    // Register the callback with on_msg.\n",
       "    comm.on_msg(function(msg) {\n",
       "        //console.log('receiving', msg['content']['data'], msg);\n",
       "        // Pass the mpl event to the overridden (by mpl) onmessage function.\n",
       "        ws.onmessage(msg['content']['data'])\n",
       "    });\n",
       "    return ws;\n",
       "}\n",
       "\n",
       "mpl.mpl_figure_comm = function(comm, msg) {\n",
       "    // This is the function which gets called when the mpl process\n",
       "    // starts-up an IPython Comm through the \"matplotlib\" channel.\n",
       "\n",
       "    var id = msg.content.data.id;\n",
       "    // Get hold of the div created by the display call when the Comm\n",
       "    // socket was opened in Python.\n",
       "    var element = $(\"#\" + id);\n",
       "    var ws_proxy = comm_websocket_adapter(comm)\n",
       "\n",
       "    function ondownload(figure, format) {\n",
       "        window.open(figure.imageObj.src);\n",
       "    }\n",
       "\n",
       "    var fig = new mpl.figure(id, ws_proxy,\n",
       "                           ondownload,\n",
       "                           element.get(0));\n",
       "\n",
       "    // Call onopen now - mpl needs it, as it is assuming we've passed it a real\n",
       "    // web socket which is closed, not our websocket->open comm proxy.\n",
       "    ws_proxy.onopen();\n",
       "\n",
       "    fig.parent_element = element.get(0);\n",
       "    fig.cell_info = mpl.find_output_cell(\"<div id='\" + id + \"'></div>\");\n",
       "    if (!fig.cell_info) {\n",
       "        console.error(\"Failed to find cell for figure\", id, fig);\n",
       "        return;\n",
       "    }\n",
       "\n",
       "    var output_index = fig.cell_info[2]\n",
       "    var cell = fig.cell_info[0];\n",
       "\n",
       "};\n",
       "\n",
       "mpl.figure.prototype.handle_close = function(fig, msg) {\n",
       "    var width = fig.canvas.width/mpl.ratio\n",
       "    fig.root.unbind('remove')\n",
       "\n",
       "    // Update the output cell to use the data from the current canvas.\n",
       "    fig.push_to_output();\n",
       "    var dataURL = fig.canvas.toDataURL();\n",
       "    // Re-enable the keyboard manager in IPython - without this line, in FF,\n",
       "    // the notebook keyboard shortcuts fail.\n",
       "    IPython.keyboard_manager.enable()\n",
       "    $(fig.parent_element).html('<img src=\"' + dataURL + '\" width=\"' + width + '\">');\n",
       "    fig.close_ws(fig, msg);\n",
       "}\n",
       "\n",
       "mpl.figure.prototype.close_ws = function(fig, msg){\n",
       "    fig.send_message('closing', msg);\n",
       "    // fig.ws.close()\n",
       "}\n",
       "\n",
       "mpl.figure.prototype.push_to_output = function(remove_interactive) {\n",
       "    // Turn the data on the canvas into data in the output cell.\n",
       "    var width = this.canvas.width/mpl.ratio\n",
       "    var dataURL = this.canvas.toDataURL();\n",
       "    this.cell_info[1]['text/html'] = '<img src=\"' + dataURL + '\" width=\"' + width + '\">';\n",
       "}\n",
       "\n",
       "mpl.figure.prototype.updated_canvas_event = function() {\n",
       "    // Tell IPython that the notebook contents must change.\n",
       "    IPython.notebook.set_dirty(true);\n",
       "    this.send_message(\"ack\", {});\n",
       "    var fig = this;\n",
       "    // Wait a second, then push the new image to the DOM so\n",
       "    // that it is saved nicely (might be nice to debounce this).\n",
       "    setTimeout(function () { fig.push_to_output() }, 1000);\n",
       "}\n",
       "\n",
       "mpl.figure.prototype._init_toolbar = function() {\n",
       "    var fig = this;\n",
       "\n",
       "    var nav_element = $('<div/>');\n",
       "    nav_element.attr('style', 'width: 100%');\n",
       "    this.root.append(nav_element);\n",
       "\n",
       "    // Define a callback function for later on.\n",
       "    function toolbar_event(event) {\n",
       "        return fig.toolbar_button_onclick(event['data']);\n",
       "    }\n",
       "    function toolbar_mouse_event(event) {\n",
       "        return fig.toolbar_button_onmouseover(event['data']);\n",
       "    }\n",
       "\n",
       "    for(var toolbar_ind in mpl.toolbar_items){\n",
       "        var name = mpl.toolbar_items[toolbar_ind][0];\n",
       "        var tooltip = mpl.toolbar_items[toolbar_ind][1];\n",
       "        var image = mpl.toolbar_items[toolbar_ind][2];\n",
       "        var method_name = mpl.toolbar_items[toolbar_ind][3];\n",
       "\n",
       "        if (!name) { continue; };\n",
       "\n",
       "        var button = $('<button class=\"btn btn-default\" href=\"#\" title=\"' + name + '\"><i class=\"fa ' + image + ' fa-lg\"></i></button>');\n",
       "        button.click(method_name, toolbar_event);\n",
       "        button.mouseover(tooltip, toolbar_mouse_event);\n",
       "        nav_element.append(button);\n",
       "    }\n",
       "\n",
       "    // Add the status bar.\n",
       "    var status_bar = $('<span class=\"mpl-message\" style=\"text-align:right; float: right;\"/>');\n",
       "    nav_element.append(status_bar);\n",
       "    this.message = status_bar[0];\n",
       "\n",
       "    // Add the close button to the window.\n",
       "    var buttongrp = $('<div class=\"btn-group inline pull-right\"></div>');\n",
       "    var button = $('<button class=\"btn btn-mini btn-primary\" href=\"#\" title=\"Stop Interaction\"><i class=\"fa fa-power-off icon-remove icon-large\"></i></button>');\n",
       "    button.click(function (evt) { fig.handle_close(fig, {}); } );\n",
       "    button.mouseover('Stop Interaction', toolbar_mouse_event);\n",
       "    buttongrp.append(button);\n",
       "    var titlebar = this.root.find($('.ui-dialog-titlebar'));\n",
       "    titlebar.prepend(buttongrp);\n",
       "}\n",
       "\n",
       "mpl.figure.prototype._root_extra_style = function(el){\n",
       "    var fig = this\n",
       "    el.on(\"remove\", function(){\n",
       "\tfig.close_ws(fig, {});\n",
       "    });\n",
       "}\n",
       "\n",
       "mpl.figure.prototype._canvas_extra_style = function(el){\n",
       "    // this is important to make the div 'focusable\n",
       "    el.attr('tabindex', 0)\n",
       "    // reach out to IPython and tell the keyboard manager to turn it's self\n",
       "    // off when our div gets focus\n",
       "\n",
       "    // location in version 3\n",
       "    if (IPython.notebook.keyboard_manager) {\n",
       "        IPython.notebook.keyboard_manager.register_events(el);\n",
       "    }\n",
       "    else {\n",
       "        // location in version 2\n",
       "        IPython.keyboard_manager.register_events(el);\n",
       "    }\n",
       "\n",
       "}\n",
       "\n",
       "mpl.figure.prototype._key_event_extra = function(event, name) {\n",
       "    var manager = IPython.notebook.keyboard_manager;\n",
       "    if (!manager)\n",
       "        manager = IPython.keyboard_manager;\n",
       "\n",
       "    // Check for shift+enter\n",
       "    if (event.shiftKey && event.which == 13) {\n",
       "        this.canvas_div.blur();\n",
       "        event.shiftKey = false;\n",
       "        // Send a \"J\" for go to next cell\n",
       "        event.which = 74;\n",
       "        event.keyCode = 74;\n",
       "        manager.command_mode();\n",
       "        manager.handle_keydown(event);\n",
       "    }\n",
       "}\n",
       "\n",
       "mpl.figure.prototype.handle_save = function(fig, msg) {\n",
       "    fig.ondownload(fig, null);\n",
       "}\n",
       "\n",
       "\n",
       "mpl.find_output_cell = function(html_output) {\n",
       "    // Return the cell and output element which can be found *uniquely* in the notebook.\n",
       "    // Note - this is a bit hacky, but it is done because the \"notebook_saving.Notebook\"\n",
       "    // IPython event is triggered only after the cells have been serialised, which for\n",
       "    // our purposes (turning an active figure into a static one), is too late.\n",
       "    var cells = IPython.notebook.get_cells();\n",
       "    var ncells = cells.length;\n",
       "    for (var i=0; i<ncells; i++) {\n",
       "        var cell = cells[i];\n",
       "        if (cell.cell_type === 'code'){\n",
       "            for (var j=0; j<cell.output_area.outputs.length; j++) {\n",
       "                var data = cell.output_area.outputs[j];\n",
       "                if (data.data) {\n",
       "                    // IPython >= 3 moved mimebundle to data attribute of output\n",
       "                    data = data.data;\n",
       "                }\n",
       "                if (data['text/html'] == html_output) {\n",
       "                    return [cell, data, j];\n",
       "                }\n",
       "            }\n",
       "        }\n",
       "    }\n",
       "}\n",
       "\n",
       "// Register the function which deals with the matplotlib target/channel.\n",
       "// The kernel may be null if the page has been refreshed.\n",
       "if (IPython.notebook.kernel != null) {\n",
       "    IPython.notebook.kernel.comm_manager.register_target('matplotlib', mpl.mpl_figure_comm);\n",
       "}\n"
      ],
      "text/plain": [
       "<IPython.core.display.Javascript object>"
      ]
     },
     "metadata": {},
     "output_type": "display_data"
    },
    {
     "data": {
      "text/html": [
       "<img src=\"data:image/png;base64,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\" width=\"700\">"
      ],
      "text/plain": [
       "<IPython.core.display.HTML object>"
      ]
     },
     "metadata": {},
     "output_type": "display_data"
    },
    {
     "name": "stdout",
     "output_type": "stream",
     "text": [
      "Average Reward across 283 episodes is -1252.84\n",
      "Reward per step of the particle is -33.16\n"
     ]
    }
   ],
   "source": [
    "agent = lambda env: RandomAgent(env.action_space)\n",
    "total_rewards = test_policy(agent)\n",
    "print ('Average Reward across {:d} episodes is {:.2f}'.format(total_rewards[0].shape[0], np.mean(total_rewards[0])))\n",
    "print ('Reward per step of the particle is {:.2f}'.format(np.mean(total_rewards[1])))"
   ]
  },
  {
   "cell_type": "code",
   "execution_count": 26,
   "metadata": {},
   "outputs": [
    {
     "data": {
      "application/javascript": [
       "/* Put everything inside the global mpl namespace */\n",
       "window.mpl = {};\n",
       "\n",
       "\n",
       "mpl.get_websocket_type = function() {\n",
       "    if (typeof(WebSocket) !== 'undefined') {\n",
       "        return WebSocket;\n",
       "    } else if (typeof(MozWebSocket) !== 'undefined') {\n",
       "        return MozWebSocket;\n",
       "    } else {\n",
       "        alert('Your browser does not have WebSocket support. ' +\n",
       "              'Please try Chrome, Safari or Firefox ≥ 6. ' +\n",
       "              'Firefox 4 and 5 are also supported but you ' +\n",
       "              'have to enable WebSockets in about:config.');\n",
       "    };\n",
       "}\n",
       "\n",
       "mpl.figure = function(figure_id, websocket, ondownload, parent_element) {\n",
       "    this.id = figure_id;\n",
       "\n",
       "    this.ws = websocket;\n",
       "\n",
       "    this.supports_binary = (this.ws.binaryType != undefined);\n",
       "\n",
       "    if (!this.supports_binary) {\n",
       "        var warnings = document.getElementById(\"mpl-warnings\");\n",
       "        if (warnings) {\n",
       "            warnings.style.display = 'block';\n",
       "            warnings.textContent = (\n",
       "                \"This browser does not support binary websocket messages. \" +\n",
       "                    \"Performance may be slow.\");\n",
       "        }\n",
       "    }\n",
       "\n",
       "    this.imageObj = new Image();\n",
       "\n",
       "    this.context = undefined;\n",
       "    this.message = undefined;\n",
       "    this.canvas = undefined;\n",
       "    this.rubberband_canvas = undefined;\n",
       "    this.rubberband_context = undefined;\n",
       "    this.format_dropdown = undefined;\n",
       "\n",
       "    this.image_mode = 'full';\n",
       "\n",
       "    this.root = $('<div/>');\n",
       "    this._root_extra_style(this.root)\n",
       "    this.root.attr('style', 'display: inline-block');\n",
       "\n",
       "    $(parent_element).append(this.root);\n",
       "\n",
       "    this._init_header(this);\n",
       "    this._init_canvas(this);\n",
       "    this._init_toolbar(this);\n",
       "\n",
       "    var fig = this;\n",
       "\n",
       "    this.waiting = false;\n",
       "\n",
       "    this.ws.onopen =  function () {\n",
       "            fig.send_message(\"supports_binary\", {value: fig.supports_binary});\n",
       "            fig.send_message(\"send_image_mode\", {});\n",
       "            if (mpl.ratio != 1) {\n",
       "                fig.send_message(\"set_dpi_ratio\", {'dpi_ratio': mpl.ratio});\n",
       "            }\n",
       "            fig.send_message(\"refresh\", {});\n",
       "        }\n",
       "\n",
       "    this.imageObj.onload = function() {\n",
       "            if (fig.image_mode == 'full') {\n",
       "                // Full images could contain transparency (where diff images\n",
       "                // almost always do), so we need to clear the canvas so that\n",
       "                // there is no ghosting.\n",
       "                fig.context.clearRect(0, 0, fig.canvas.width, fig.canvas.height);\n",
       "            }\n",
       "            fig.context.drawImage(fig.imageObj, 0, 0);\n",
       "        };\n",
       "\n",
       "    this.imageObj.onunload = function() {\n",
       "        fig.ws.close();\n",
       "    }\n",
       "\n",
       "    this.ws.onmessage = this._make_on_message_function(this);\n",
       "\n",
       "    this.ondownload = ondownload;\n",
       "}\n",
       "\n",
       "mpl.figure.prototype._init_header = function() {\n",
       "    var titlebar = $(\n",
       "        '<div class=\"ui-dialog-titlebar ui-widget-header ui-corner-all ' +\n",
       "        'ui-helper-clearfix\"/>');\n",
       "    var titletext = $(\n",
       "        '<div class=\"ui-dialog-title\" style=\"width: 100%; ' +\n",
       "        'text-align: center; padding: 3px;\"/>');\n",
       "    titlebar.append(titletext)\n",
       "    this.root.append(titlebar);\n",
       "    this.header = titletext[0];\n",
       "}\n",
       "\n",
       "\n",
       "\n",
       "mpl.figure.prototype._canvas_extra_style = function(canvas_div) {\n",
       "\n",
       "}\n",
       "\n",
       "\n",
       "mpl.figure.prototype._root_extra_style = function(canvas_div) {\n",
       "\n",
       "}\n",
       "\n",
       "mpl.figure.prototype._init_canvas = function() {\n",
       "    var fig = this;\n",
       "\n",
       "    var canvas_div = $('<div/>');\n",
       "\n",
       "    canvas_div.attr('style', 'position: relative; clear: both; outline: 0');\n",
       "\n",
       "    function canvas_keyboard_event(event) {\n",
       "        return fig.key_event(event, event['data']);\n",
       "    }\n",
       "\n",
       "    canvas_div.keydown('key_press', canvas_keyboard_event);\n",
       "    canvas_div.keyup('key_release', canvas_keyboard_event);\n",
       "    this.canvas_div = canvas_div\n",
       "    this._canvas_extra_style(canvas_div)\n",
       "    this.root.append(canvas_div);\n",
       "\n",
       "    var canvas = $('<canvas/>');\n",
       "    canvas.addClass('mpl-canvas');\n",
       "    canvas.attr('style', \"left: 0; top: 0; z-index: 0; outline: 0\")\n",
       "\n",
       "    this.canvas = canvas[0];\n",
       "    this.context = canvas[0].getContext(\"2d\");\n",
       "\n",
       "    var backingStore = this.context.backingStorePixelRatio ||\n",
       "\tthis.context.webkitBackingStorePixelRatio ||\n",
       "\tthis.context.mozBackingStorePixelRatio ||\n",
       "\tthis.context.msBackingStorePixelRatio ||\n",
       "\tthis.context.oBackingStorePixelRatio ||\n",
       "\tthis.context.backingStorePixelRatio || 1;\n",
       "\n",
       "    mpl.ratio = (window.devicePixelRatio || 1) / backingStore;\n",
       "\n",
       "    var rubberband = $('<canvas/>');\n",
       "    rubberband.attr('style', \"position: absolute; left: 0; top: 0; z-index: 1;\")\n",
       "\n",
       "    var pass_mouse_events = true;\n",
       "\n",
       "    canvas_div.resizable({\n",
       "        start: function(event, ui) {\n",
       "            pass_mouse_events = false;\n",
       "        },\n",
       "        resize: function(event, ui) {\n",
       "            fig.request_resize(ui.size.width, ui.size.height);\n",
       "        },\n",
       "        stop: function(event, ui) {\n",
       "            pass_mouse_events = true;\n",
       "            fig.request_resize(ui.size.width, ui.size.height);\n",
       "        },\n",
       "    });\n",
       "\n",
       "    function mouse_event_fn(event) {\n",
       "        if (pass_mouse_events)\n",
       "            return fig.mouse_event(event, event['data']);\n",
       "    }\n",
       "\n",
       "    rubberband.mousedown('button_press', mouse_event_fn);\n",
       "    rubberband.mouseup('button_release', mouse_event_fn);\n",
       "    // Throttle sequential mouse events to 1 every 20ms.\n",
       "    rubberband.mousemove('motion_notify', mouse_event_fn);\n",
       "\n",
       "    rubberband.mouseenter('figure_enter', mouse_event_fn);\n",
       "    rubberband.mouseleave('figure_leave', mouse_event_fn);\n",
       "\n",
       "    canvas_div.on(\"wheel\", function (event) {\n",
       "        event = event.originalEvent;\n",
       "        event['data'] = 'scroll'\n",
       "        if (event.deltaY < 0) {\n",
       "            event.step = 1;\n",
       "        } else {\n",
       "            event.step = -1;\n",
       "        }\n",
       "        mouse_event_fn(event);\n",
       "    });\n",
       "\n",
       "    canvas_div.append(canvas);\n",
       "    canvas_div.append(rubberband);\n",
       "\n",
       "    this.rubberband = rubberband;\n",
       "    this.rubberband_canvas = rubberband[0];\n",
       "    this.rubberband_context = rubberband[0].getContext(\"2d\");\n",
       "    this.rubberband_context.strokeStyle = \"#000000\";\n",
       "\n",
       "    this._resize_canvas = function(width, height) {\n",
       "        // Keep the size of the canvas, canvas container, and rubber band\n",
       "        // canvas in synch.\n",
       "        canvas_div.css('width', width)\n",
       "        canvas_div.css('height', height)\n",
       "\n",
       "        canvas.attr('width', width * mpl.ratio);\n",
       "        canvas.attr('height', height * mpl.ratio);\n",
       "        canvas.attr('style', 'width: ' + width + 'px; height: ' + height + 'px;');\n",
       "\n",
       "        rubberband.attr('width', width);\n",
       "        rubberband.attr('height', height);\n",
       "    }\n",
       "\n",
       "    // Set the figure to an initial 600x600px, this will subsequently be updated\n",
       "    // upon first draw.\n",
       "    this._resize_canvas(600, 600);\n",
       "\n",
       "    // Disable right mouse context menu.\n",
       "    $(this.rubberband_canvas).bind(\"contextmenu\",function(e){\n",
       "        return false;\n",
       "    });\n",
       "\n",
       "    function set_focus () {\n",
       "        canvas.focus();\n",
       "        canvas_div.focus();\n",
       "    }\n",
       "\n",
       "    window.setTimeout(set_focus, 100);\n",
       "}\n",
       "\n",
       "mpl.figure.prototype._init_toolbar = function() {\n",
       "    var fig = this;\n",
       "\n",
       "    var nav_element = $('<div/>');\n",
       "    nav_element.attr('style', 'width: 100%');\n",
       "    this.root.append(nav_element);\n",
       "\n",
       "    // Define a callback function for later on.\n",
       "    function toolbar_event(event) {\n",
       "        return fig.toolbar_button_onclick(event['data']);\n",
       "    }\n",
       "    function toolbar_mouse_event(event) {\n",
       "        return fig.toolbar_button_onmouseover(event['data']);\n",
       "    }\n",
       "\n",
       "    for(var toolbar_ind in mpl.toolbar_items) {\n",
       "        var name = mpl.toolbar_items[toolbar_ind][0];\n",
       "        var tooltip = mpl.toolbar_items[toolbar_ind][1];\n",
       "        var image = mpl.toolbar_items[toolbar_ind][2];\n",
       "        var method_name = mpl.toolbar_items[toolbar_ind][3];\n",
       "\n",
       "        if (!name) {\n",
       "            // put a spacer in here.\n",
       "            continue;\n",
       "        }\n",
       "        var button = $('<button/>');\n",
       "        button.addClass('ui-button ui-widget ui-state-default ui-corner-all ' +\n",
       "                        'ui-button-icon-only');\n",
       "        button.attr('role', 'button');\n",
       "        button.attr('aria-disabled', 'false');\n",
       "        button.click(method_name, toolbar_event);\n",
       "        button.mouseover(tooltip, toolbar_mouse_event);\n",
       "\n",
       "        var icon_img = $('<span/>');\n",
       "        icon_img.addClass('ui-button-icon-primary ui-icon');\n",
       "        icon_img.addClass(image);\n",
       "        icon_img.addClass('ui-corner-all');\n",
       "\n",
       "        var tooltip_span = $('<span/>');\n",
       "        tooltip_span.addClass('ui-button-text');\n",
       "        tooltip_span.html(tooltip);\n",
       "\n",
       "        button.append(icon_img);\n",
       "        button.append(tooltip_span);\n",
       "\n",
       "        nav_element.append(button);\n",
       "    }\n",
       "\n",
       "    var fmt_picker_span = $('<span/>');\n",
       "\n",
       "    var fmt_picker = $('<select/>');\n",
       "    fmt_picker.addClass('mpl-toolbar-option ui-widget ui-widget-content');\n",
       "    fmt_picker_span.append(fmt_picker);\n",
       "    nav_element.append(fmt_picker_span);\n",
       "    this.format_dropdown = fmt_picker[0];\n",
       "\n",
       "    for (var ind in mpl.extensions) {\n",
       "        var fmt = mpl.extensions[ind];\n",
       "        var option = $(\n",
       "            '<option/>', {selected: fmt === mpl.default_extension}).html(fmt);\n",
       "        fmt_picker.append(option);\n",
       "    }\n",
       "\n",
       "    // Add hover states to the ui-buttons\n",
       "    $( \".ui-button\" ).hover(\n",
       "        function() { $(this).addClass(\"ui-state-hover\");},\n",
       "        function() { $(this).removeClass(\"ui-state-hover\");}\n",
       "    );\n",
       "\n",
       "    var status_bar = $('<span class=\"mpl-message\"/>');\n",
       "    nav_element.append(status_bar);\n",
       "    this.message = status_bar[0];\n",
       "}\n",
       "\n",
       "mpl.figure.prototype.request_resize = function(x_pixels, y_pixels) {\n",
       "    // Request matplotlib to resize the figure. Matplotlib will then trigger a resize in the client,\n",
       "    // which will in turn request a refresh of the image.\n",
       "    this.send_message('resize', {'width': x_pixels, 'height': y_pixels});\n",
       "}\n",
       "\n",
       "mpl.figure.prototype.send_message = function(type, properties) {\n",
       "    properties['type'] = type;\n",
       "    properties['figure_id'] = this.id;\n",
       "    this.ws.send(JSON.stringify(properties));\n",
       "}\n",
       "\n",
       "mpl.figure.prototype.send_draw_message = function() {\n",
       "    if (!this.waiting) {\n",
       "        this.waiting = true;\n",
       "        this.ws.send(JSON.stringify({type: \"draw\", figure_id: this.id}));\n",
       "    }\n",
       "}\n",
       "\n",
       "\n",
       "mpl.figure.prototype.handle_save = function(fig, msg) {\n",
       "    var format_dropdown = fig.format_dropdown;\n",
       "    var format = format_dropdown.options[format_dropdown.selectedIndex].value;\n",
       "    fig.ondownload(fig, format);\n",
       "}\n",
       "\n",
       "\n",
       "mpl.figure.prototype.handle_resize = function(fig, msg) {\n",
       "    var size = msg['size'];\n",
       "    if (size[0] != fig.canvas.width || size[1] != fig.canvas.height) {\n",
       "        fig._resize_canvas(size[0], size[1]);\n",
       "        fig.send_message(\"refresh\", {});\n",
       "    };\n",
       "}\n",
       "\n",
       "mpl.figure.prototype.handle_rubberband = function(fig, msg) {\n",
       "    var x0 = msg['x0'] / mpl.ratio;\n",
       "    var y0 = (fig.canvas.height - msg['y0']) / mpl.ratio;\n",
       "    var x1 = msg['x1'] / mpl.ratio;\n",
       "    var y1 = (fig.canvas.height - msg['y1']) / mpl.ratio;\n",
       "    x0 = Math.floor(x0) + 0.5;\n",
       "    y0 = Math.floor(y0) + 0.5;\n",
       "    x1 = Math.floor(x1) + 0.5;\n",
       "    y1 = Math.floor(y1) + 0.5;\n",
       "    var min_x = Math.min(x0, x1);\n",
       "    var min_y = Math.min(y0, y1);\n",
       "    var width = Math.abs(x1 - x0);\n",
       "    var height = Math.abs(y1 - y0);\n",
       "\n",
       "    fig.rubberband_context.clearRect(\n",
       "        0, 0, fig.canvas.width / mpl.ratio, fig.canvas.height / mpl.ratio);\n",
       "\n",
       "    fig.rubberband_context.strokeRect(min_x, min_y, width, height);\n",
       "}\n",
       "\n",
       "mpl.figure.prototype.handle_figure_label = function(fig, msg) {\n",
       "    // Updates the figure title.\n",
       "    fig.header.textContent = msg['label'];\n",
       "}\n",
       "\n",
       "mpl.figure.prototype.handle_cursor = function(fig, msg) {\n",
       "    var cursor = msg['cursor'];\n",
       "    switch(cursor)\n",
       "    {\n",
       "    case 0:\n",
       "        cursor = 'pointer';\n",
       "        break;\n",
       "    case 1:\n",
       "        cursor = 'default';\n",
       "        break;\n",
       "    case 2:\n",
       "        cursor = 'crosshair';\n",
       "        break;\n",
       "    case 3:\n",
       "        cursor = 'move';\n",
       "        break;\n",
       "    }\n",
       "    fig.rubberband_canvas.style.cursor = cursor;\n",
       "}\n",
       "\n",
       "mpl.figure.prototype.handle_message = function(fig, msg) {\n",
       "    fig.message.textContent = msg['message'];\n",
       "}\n",
       "\n",
       "mpl.figure.prototype.handle_draw = function(fig, msg) {\n",
       "    // Request the server to send over a new figure.\n",
       "    fig.send_draw_message();\n",
       "}\n",
       "\n",
       "mpl.figure.prototype.handle_image_mode = function(fig, msg) {\n",
       "    fig.image_mode = msg['mode'];\n",
       "}\n",
       "\n",
       "mpl.figure.prototype.updated_canvas_event = function() {\n",
       "    // Called whenever the canvas gets updated.\n",
       "    this.send_message(\"ack\", {});\n",
       "}\n",
       "\n",
       "// A function to construct a web socket function for onmessage handling.\n",
       "// Called in the figure constructor.\n",
       "mpl.figure.prototype._make_on_message_function = function(fig) {\n",
       "    return function socket_on_message(evt) {\n",
       "        if (evt.data instanceof Blob) {\n",
       "            /* FIXME: We get \"Resource interpreted as Image but\n",
       "             * transferred with MIME type text/plain:\" errors on\n",
       "             * Chrome.  But how to set the MIME type?  It doesn't seem\n",
       "             * to be part of the websocket stream */\n",
       "            evt.data.type = \"image/png\";\n",
       "\n",
       "            /* Free the memory for the previous frames */\n",
       "            if (fig.imageObj.src) {\n",
       "                (window.URL || window.webkitURL).revokeObjectURL(\n",
       "                    fig.imageObj.src);\n",
       "            }\n",
       "\n",
       "            fig.imageObj.src = (window.URL || window.webkitURL).createObjectURL(\n",
       "                evt.data);\n",
       "            fig.updated_canvas_event();\n",
       "            fig.waiting = false;\n",
       "            return;\n",
       "        }\n",
       "        else if (typeof evt.data === 'string' && evt.data.slice(0, 21) == \"data:image/png;base64\") {\n",
       "            fig.imageObj.src = evt.data;\n",
       "            fig.updated_canvas_event();\n",
       "            fig.waiting = false;\n",
       "            return;\n",
       "        }\n",
       "\n",
       "        var msg = JSON.parse(evt.data);\n",
       "        var msg_type = msg['type'];\n",
       "\n",
       "        // Call the  \"handle_{type}\" callback, which takes\n",
       "        // the figure and JSON message as its only arguments.\n",
       "        try {\n",
       "            var callback = fig[\"handle_\" + msg_type];\n",
       "        } catch (e) {\n",
       "            console.log(\"No handler for the '\" + msg_type + \"' message type: \", msg);\n",
       "            return;\n",
       "        }\n",
       "\n",
       "        if (callback) {\n",
       "            try {\n",
       "                // console.log(\"Handling '\" + msg_type + \"' message: \", msg);\n",
       "                callback(fig, msg);\n",
       "            } catch (e) {\n",
       "                console.log(\"Exception inside the 'handler_\" + msg_type + \"' callback:\", e, e.stack, msg);\n",
       "            }\n",
       "        }\n",
       "    };\n",
       "}\n",
       "\n",
       "// from http://stackoverflow.com/questions/1114465/getting-mouse-location-in-canvas\n",
       "mpl.findpos = function(e) {\n",
       "    //this section is from http://www.quirksmode.org/js/events_properties.html\n",
       "    var targ;\n",
       "    if (!e)\n",
       "        e = window.event;\n",
       "    if (e.target)\n",
       "        targ = e.target;\n",
       "    else if (e.srcElement)\n",
       "        targ = e.srcElement;\n",
       "    if (targ.nodeType == 3) // defeat Safari bug\n",
       "        targ = targ.parentNode;\n",
       "\n",
       "    // jQuery normalizes the pageX and pageY\n",
       "    // pageX,Y are the mouse positions relative to the document\n",
       "    // offset() returns the position of the element relative to the document\n",
       "    var x = e.pageX - $(targ).offset().left;\n",
       "    var y = e.pageY - $(targ).offset().top;\n",
       "\n",
       "    return {\"x\": x, \"y\": y};\n",
       "};\n",
       "\n",
       "/*\n",
       " * return a copy of an object with only non-object keys\n",
       " * we need this to avoid circular references\n",
       " * http://stackoverflow.com/a/24161582/3208463\n",
       " */\n",
       "function simpleKeys (original) {\n",
       "  return Object.keys(original).reduce(function (obj, key) {\n",
       "    if (typeof original[key] !== 'object')\n",
       "        obj[key] = original[key]\n",
       "    return obj;\n",
       "  }, {});\n",
       "}\n",
       "\n",
       "mpl.figure.prototype.mouse_event = function(event, name) {\n",
       "    var canvas_pos = mpl.findpos(event)\n",
       "\n",
       "    if (name === 'button_press')\n",
       "    {\n",
       "        this.canvas.focus();\n",
       "        this.canvas_div.focus();\n",
       "    }\n",
       "\n",
       "    var x = canvas_pos.x * mpl.ratio;\n",
       "    var y = canvas_pos.y * mpl.ratio;\n",
       "\n",
       "    this.send_message(name, {x: x, y: y, button: event.button,\n",
       "                             step: event.step,\n",
       "                             guiEvent: simpleKeys(event)});\n",
       "\n",
       "    /* This prevents the web browser from automatically changing to\n",
       "     * the text insertion cursor when the button is pressed.  We want\n",
       "     * to control all of the cursor setting manually through the\n",
       "     * 'cursor' event from matplotlib */\n",
       "    event.preventDefault();\n",
       "    return false;\n",
       "}\n",
       "\n",
       "mpl.figure.prototype._key_event_extra = function(event, name) {\n",
       "    // Handle any extra behaviour associated with a key event\n",
       "}\n",
       "\n",
       "mpl.figure.prototype.key_event = function(event, name) {\n",
       "\n",
       "    // Prevent repeat events\n",
       "    if (name == 'key_press')\n",
       "    {\n",
       "        if (event.which === this._key)\n",
       "            return;\n",
       "        else\n",
       "            this._key = event.which;\n",
       "    }\n",
       "    if (name == 'key_release')\n",
       "        this._key = null;\n",
       "\n",
       "    var value = '';\n",
       "    if (event.ctrlKey && event.which != 17)\n",
       "        value += \"ctrl+\";\n",
       "    if (event.altKey && event.which != 18)\n",
       "        value += \"alt+\";\n",
       "    if (event.shiftKey && event.which != 16)\n",
       "        value += \"shift+\";\n",
       "\n",
       "    value += 'k';\n",
       "    value += event.which.toString();\n",
       "\n",
       "    this._key_event_extra(event, name);\n",
       "\n",
       "    this.send_message(name, {key: value,\n",
       "                             guiEvent: simpleKeys(event)});\n",
       "    return false;\n",
       "}\n",
       "\n",
       "mpl.figure.prototype.toolbar_button_onclick = function(name) {\n",
       "    if (name == 'download') {\n",
       "        this.handle_save(this, null);\n",
       "    } else {\n",
       "        this.send_message(\"toolbar_button\", {name: name});\n",
       "    }\n",
       "};\n",
       "\n",
       "mpl.figure.prototype.toolbar_button_onmouseover = function(tooltip) {\n",
       "    this.message.textContent = tooltip;\n",
       "};\n",
       "mpl.toolbar_items = [[\"Home\", \"Reset original view\", \"fa fa-home icon-home\", \"home\"], [\"Back\", \"Back to previous view\", \"fa fa-arrow-left icon-arrow-left\", \"back\"], [\"Forward\", \"Forward to next view\", \"fa fa-arrow-right icon-arrow-right\", \"forward\"], [\"\", \"\", \"\", \"\"], [\"Pan\", \"Pan axes with left mouse, zoom with right\", \"fa fa-arrows icon-move\", \"pan\"], [\"Zoom\", \"Zoom to rectangle\", \"fa fa-square-o icon-check-empty\", \"zoom\"], [\"\", \"\", \"\", \"\"], [\"Download\", \"Download plot\", \"fa fa-floppy-o icon-save\", \"download\"]];\n",
       "\n",
       "mpl.extensions = [\"eps\", \"jpeg\", \"pdf\", \"png\", \"ps\", \"raw\", \"svg\", \"tif\"];\n",
       "\n",
       "mpl.default_extension = \"png\";var comm_websocket_adapter = function(comm) {\n",
       "    // Create a \"websocket\"-like object which calls the given IPython comm\n",
       "    // object with the appropriate methods. Currently this is a non binary\n",
       "    // socket, so there is still some room for performance tuning.\n",
       "    var ws = {};\n",
       "\n",
       "    ws.close = function() {\n",
       "        comm.close()\n",
       "    };\n",
       "    ws.send = function(m) {\n",
       "        //console.log('sending', m);\n",
       "        comm.send(m);\n",
       "    };\n",
       "    // Register the callback with on_msg.\n",
       "    comm.on_msg(function(msg) {\n",
       "        //console.log('receiving', msg['content']['data'], msg);\n",
       "        // Pass the mpl event to the overridden (by mpl) onmessage function.\n",
       "        ws.onmessage(msg['content']['data'])\n",
       "    });\n",
       "    return ws;\n",
       "}\n",
       "\n",
       "mpl.mpl_figure_comm = function(comm, msg) {\n",
       "    // This is the function which gets called when the mpl process\n",
       "    // starts-up an IPython Comm through the \"matplotlib\" channel.\n",
       "\n",
       "    var id = msg.content.data.id;\n",
       "    // Get hold of the div created by the display call when the Comm\n",
       "    // socket was opened in Python.\n",
       "    var element = $(\"#\" + id);\n",
       "    var ws_proxy = comm_websocket_adapter(comm)\n",
       "\n",
       "    function ondownload(figure, format) {\n",
       "        window.open(figure.imageObj.src);\n",
       "    }\n",
       "\n",
       "    var fig = new mpl.figure(id, ws_proxy,\n",
       "                           ondownload,\n",
       "                           element.get(0));\n",
       "\n",
       "    // Call onopen now - mpl needs it, as it is assuming we've passed it a real\n",
       "    // web socket which is closed, not our websocket->open comm proxy.\n",
       "    ws_proxy.onopen();\n",
       "\n",
       "    fig.parent_element = element.get(0);\n",
       "    fig.cell_info = mpl.find_output_cell(\"<div id='\" + id + \"'></div>\");\n",
       "    if (!fig.cell_info) {\n",
       "        console.error(\"Failed to find cell for figure\", id, fig);\n",
       "        return;\n",
       "    }\n",
       "\n",
       "    var output_index = fig.cell_info[2]\n",
       "    var cell = fig.cell_info[0];\n",
       "\n",
       "};\n",
       "\n",
       "mpl.figure.prototype.handle_close = function(fig, msg) {\n",
       "    var width = fig.canvas.width/mpl.ratio\n",
       "    fig.root.unbind('remove')\n",
       "\n",
       "    // Update the output cell to use the data from the current canvas.\n",
       "    fig.push_to_output();\n",
       "    var dataURL = fig.canvas.toDataURL();\n",
       "    // Re-enable the keyboard manager in IPython - without this line, in FF,\n",
       "    // the notebook keyboard shortcuts fail.\n",
       "    IPython.keyboard_manager.enable()\n",
       "    $(fig.parent_element).html('<img src=\"' + dataURL + '\" width=\"' + width + '\">');\n",
       "    fig.close_ws(fig, msg);\n",
       "}\n",
       "\n",
       "mpl.figure.prototype.close_ws = function(fig, msg){\n",
       "    fig.send_message('closing', msg);\n",
       "    // fig.ws.close()\n",
       "}\n",
       "\n",
       "mpl.figure.prototype.push_to_output = function(remove_interactive) {\n",
       "    // Turn the data on the canvas into data in the output cell.\n",
       "    var width = this.canvas.width/mpl.ratio\n",
       "    var dataURL = this.canvas.toDataURL();\n",
       "    this.cell_info[1]['text/html'] = '<img src=\"' + dataURL + '\" width=\"' + width + '\">';\n",
       "}\n",
       "\n",
       "mpl.figure.prototype.updated_canvas_event = function() {\n",
       "    // Tell IPython that the notebook contents must change.\n",
       "    IPython.notebook.set_dirty(true);\n",
       "    this.send_message(\"ack\", {});\n",
       "    var fig = this;\n",
       "    // Wait a second, then push the new image to the DOM so\n",
       "    // that it is saved nicely (might be nice to debounce this).\n",
       "    setTimeout(function () { fig.push_to_output() }, 1000);\n",
       "}\n",
       "\n",
       "mpl.figure.prototype._init_toolbar = function() {\n",
       "    var fig = this;\n",
       "\n",
       "    var nav_element = $('<div/>');\n",
       "    nav_element.attr('style', 'width: 100%');\n",
       "    this.root.append(nav_element);\n",
       "\n",
       "    // Define a callback function for later on.\n",
       "    function toolbar_event(event) {\n",
       "        return fig.toolbar_button_onclick(event['data']);\n",
       "    }\n",
       "    function toolbar_mouse_event(event) {\n",
       "        return fig.toolbar_button_onmouseover(event['data']);\n",
       "    }\n",
       "\n",
       "    for(var toolbar_ind in mpl.toolbar_items){\n",
       "        var name = mpl.toolbar_items[toolbar_ind][0];\n",
       "        var tooltip = mpl.toolbar_items[toolbar_ind][1];\n",
       "        var image = mpl.toolbar_items[toolbar_ind][2];\n",
       "        var method_name = mpl.toolbar_items[toolbar_ind][3];\n",
       "\n",
       "        if (!name) { continue; };\n",
       "\n",
       "        var button = $('<button class=\"btn btn-default\" href=\"#\" title=\"' + name + '\"><i class=\"fa ' + image + ' fa-lg\"></i></button>');\n",
       "        button.click(method_name, toolbar_event);\n",
       "        button.mouseover(tooltip, toolbar_mouse_event);\n",
       "        nav_element.append(button);\n",
       "    }\n",
       "\n",
       "    // Add the status bar.\n",
       "    var status_bar = $('<span class=\"mpl-message\" style=\"text-align:right; float: right;\"/>');\n",
       "    nav_element.append(status_bar);\n",
       "    this.message = status_bar[0];\n",
       "\n",
       "    // Add the close button to the window.\n",
       "    var buttongrp = $('<div class=\"btn-group inline pull-right\"></div>');\n",
       "    var button = $('<button class=\"btn btn-mini btn-primary\" href=\"#\" title=\"Stop Interaction\"><i class=\"fa fa-power-off icon-remove icon-large\"></i></button>');\n",
       "    button.click(function (evt) { fig.handle_close(fig, {}); } );\n",
       "    button.mouseover('Stop Interaction', toolbar_mouse_event);\n",
       "    buttongrp.append(button);\n",
       "    var titlebar = this.root.find($('.ui-dialog-titlebar'));\n",
       "    titlebar.prepend(buttongrp);\n",
       "}\n",
       "\n",
       "mpl.figure.prototype._root_extra_style = function(el){\n",
       "    var fig = this\n",
       "    el.on(\"remove\", function(){\n",
       "\tfig.close_ws(fig, {});\n",
       "    });\n",
       "}\n",
       "\n",
       "mpl.figure.prototype._canvas_extra_style = function(el){\n",
       "    // this is important to make the div 'focusable\n",
       "    el.attr('tabindex', 0)\n",
       "    // reach out to IPython and tell the keyboard manager to turn it's self\n",
       "    // off when our div gets focus\n",
       "\n",
       "    // location in version 3\n",
       "    if (IPython.notebook.keyboard_manager) {\n",
       "        IPython.notebook.keyboard_manager.register_events(el);\n",
       "    }\n",
       "    else {\n",
       "        // location in version 2\n",
       "        IPython.keyboard_manager.register_events(el);\n",
       "    }\n",
       "\n",
       "}\n",
       "\n",
       "mpl.figure.prototype._key_event_extra = function(event, name) {\n",
       "    var manager = IPython.notebook.keyboard_manager;\n",
       "    if (!manager)\n",
       "        manager = IPython.keyboard_manager;\n",
       "\n",
       "    // Check for shift+enter\n",
       "    if (event.shiftKey && event.which == 13) {\n",
       "        this.canvas_div.blur();\n",
       "        event.shiftKey = false;\n",
       "        // Send a \"J\" for go to next cell\n",
       "        event.which = 74;\n",
       "        event.keyCode = 74;\n",
       "        manager.command_mode();\n",
       "        manager.handle_keydown(event);\n",
       "    }\n",
       "}\n",
       "\n",
       "mpl.figure.prototype.handle_save = function(fig, msg) {\n",
       "    fig.ondownload(fig, null);\n",
       "}\n",
       "\n",
       "\n",
       "mpl.find_output_cell = function(html_output) {\n",
       "    // Return the cell and output element which can be found *uniquely* in the notebook.\n",
       "    // Note - this is a bit hacky, but it is done because the \"notebook_saving.Notebook\"\n",
       "    // IPython event is triggered only after the cells have been serialised, which for\n",
       "    // our purposes (turning an active figure into a static one), is too late.\n",
       "    var cells = IPython.notebook.get_cells();\n",
       "    var ncells = cells.length;\n",
       "    for (var i=0; i<ncells; i++) {\n",
       "        var cell = cells[i];\n",
       "        if (cell.cell_type === 'code'){\n",
       "            for (var j=0; j<cell.output_area.outputs.length; j++) {\n",
       "                var data = cell.output_area.outputs[j];\n",
       "                if (data.data) {\n",
       "                    // IPython >= 3 moved mimebundle to data attribute of output\n",
       "                    data = data.data;\n",
       "                }\n",
       "                if (data['text/html'] == html_output) {\n",
       "                    return [cell, data, j];\n",
       "                }\n",
       "            }\n",
       "        }\n",
       "    }\n",
       "}\n",
       "\n",
       "// Register the function which deals with the matplotlib target/channel.\n",
       "// The kernel may be null if the page has been refreshed.\n",
       "if (IPython.notebook.kernel != null) {\n",
       "    IPython.notebook.kernel.comm_manager.register_target('matplotlib', mpl.mpl_figure_comm);\n",
       "}\n"
      ],
      "text/plain": [
       "<IPython.core.display.Javascript object>"
      ]
     },
     "metadata": {},
     "output_type": "display_data"
    },
    {
     "data": {
      "text/html": [
       "<img src=\"data:image/png;base64,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\" width=\"700\">"
      ],
      "text/plain": [
       "<IPython.core.display.HTML object>"
      ]
     },
     "metadata": {},
     "output_type": "display_data"
    },
    {
     "name": "stdout",
     "output_type": "stream",
     "text": [
      "Average Reward across 25 episodes is -131.10\n",
      "Reward per step of the particle is -37.32\n"
     ]
    }
   ],
   "source": [
    "agent = lambda env: torch.load('/host/final_project/model/vpg/vpg_s1234/pyt_save/model.pt')\n",
    "total_rewards = test_policy(agent)\n",
    "print ('Average Reward across {:d} episodes is {:.2f}'.format(total_rewards[0].shape[0], np.mean(total_rewards[0])))\n",
    "print ('Reward per step of the particle is {:.2f}'.format(np.mean(total_rewards[1])))"
   ]
  },
  {
   "cell_type": "code",
   "execution_count": null,
   "metadata": {},
   "outputs": [],
   "source": []
  }
 ],
 "metadata": {
  "kernelspec": {
   "display_name": "Python 3",
   "language": "python",
   "name": "python3"
  },
  "language_info": {
   "codemirror_mode": {
    "name": "ipython",
    "version": 3
   },
   "file_extension": ".py",
   "mimetype": "text/x-python",
   "name": "python",
   "nbconvert_exporter": "python",
   "pygments_lexer": "ipython3",
   "version": "3.7.4"
  }
 },
 "nbformat": 4,
 "nbformat_minor": 2
}
